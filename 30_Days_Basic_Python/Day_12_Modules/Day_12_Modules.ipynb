{
 "cells": [
  {
   "metadata": {},
   "cell_type": "markdown",
   "source": "# 📘 Day 12",
   "id": "fc041a675859dee3"
  },
  {
   "metadata": {},
   "cell_type": "markdown",
   "source": [
    "\n",
    "## Modules"
   ],
   "id": "abf3ab860090998d"
  },
  {
   "metadata": {},
   "cell_type": "markdown",
   "source": [
    "\n",
    "### What is a Module\n",
    "\n",
    "A module is a file containing a set of codes or a set of functions which can be included to an application. A module could be a file containing a single variable, a function or a big code base."
   ],
   "id": "a97e0cb516199a90"
  },
  {
   "metadata": {},
   "cell_type": "markdown",
   "source": [
    "\n",
    "### Creating a Module\n",
    "\n",
    "To create a module we write our codes in a python script and we save it as a .py file. Create a file named mymodule.py inside your project folder. Let us write some code in this file."
   ],
   "id": "c2e662d73fd09182"
  },
  {
   "metadata": {
    "ExecuteTime": {
     "end_time": "2024-09-28T10:03:07.964583Z",
     "start_time": "2024-09-28T10:03:07.954664Z"
    }
   },
   "cell_type": "code",
   "source": [
    "# mymodule.py file\n",
    "def generate_full_name(firstname, lastname):\n",
    "    return firstname + ' ' + lastname"
   ],
   "id": "ad8257a7a353509d",
   "outputs": [],
   "execution_count": 6
  },
  {
   "metadata": {},
   "cell_type": "markdown",
   "source": [
    "\n",
    "Create main.py file in your project directory and import the mymodule.py file."
   ],
   "id": "c63de15608db0eaa"
  },
  {
   "metadata": {},
   "cell_type": "markdown",
   "source": [
    "\n",
    "### Importing a Module\n",
    "\n",
    "To import the file we use the _import_ keyword and the name of the file only."
   ],
   "id": "7a447359ac1b2501"
  },
  {
   "metadata": {},
   "cell_type": "code",
   "source": [
    "\n",
    "# main.py file\n",
    "import mymodule\n",
    "print(mymodule.generate_full_name('Abhinav', 'Omanakutttan')) # Abhinav Omanakuttan\n"
   ],
   "id": "7c7c5aedc6f6b01c",
   "outputs": [],
   "execution_count": null
  },
  {
   "metadata": {},
   "cell_type": "markdown",
   "source": [
    "\n",
    "### Import Functions from a Module\n",
    "\n",
    "We can have many functions in a file and we can import all the functions differently."
   ],
   "id": "bbb48ad6d0d32ccd"
  },
  {
   "metadata": {},
   "cell_type": "code",
   "outputs": [],
   "execution_count": null,
   "source": [
    "\n",
    "\n",
    "# main.py file\n",
    "from mymodule import generate_full_name, sum_two_nums, person, gravity\n",
    "print(generate_full_name('Abhinav','Omanakuttan'))\n",
    "print(sum_two_nums(1,9))\n",
    "mass = 100;\n",
    "weight = mass * gravity\n",
    "print(weight)\n",
    "print(person['firstname'])\n"
   ],
   "id": "459c349383d387a"
  },
  {
   "metadata": {},
   "cell_type": "markdown",
   "source": [
    "\n",
    "### Import Functions from a Module and Renaming\n",
    "\n",
    "During importing we can rename the name of the module.\n",
    "\n",
    "```py\n",
    "# main.py file\n",
    "from mymodule import generate_full_name as fullname, sum_two_nums as total, person as p, gravity as g\n",
    "print(fullname('Abhinav','Omanakuttan'))\n",
    "print(total(1, 9))\n",
    "mass = 100;\n",
    "weight = mass * g\n",
    "print(weight)\n",
    "print(p)\n",
    "print(p['firstname'])\n",
    "```"
   ],
   "id": "f36b696275497edc"
  },
  {
   "metadata": {},
   "cell_type": "markdown",
   "source": [
    "\n",
    "## Import Built-in Modules\n",
    "\n",
    "Like other programming languages we can also import modules by importing the file/function using the key word _import_. Let's import the common module we will use most of the time. Some of the common built-in modules: _math_, _datetime_, _os_,_sys_, _random_, _statistics_, _collections_, _json_,_re_"
   ],
   "id": "e40d30b0ee745005"
  },
  {
   "metadata": {},
   "cell_type": "markdown",
   "source": [
    "\n",
    "### OS Module\n",
    "\n",
    "Using python _os_ module it is possible to automatically perform many operating system tasks. The OS module in Python provides functions for creating, changing current working directory, and removing a directory (folder), fetching its contents, changing and identifying the current directory.\n",
    "\n",
    "```py\n",
    "# import the module\n",
    "import os\n",
    "# Creating a directory\n",
    "os.mkdir('directory_name')\n",
    "# Changing the current directory\n",
    "os.chdir('path')\n",
    "# Getting current working directory\n",
    "os.getcwd()\n",
    "# Removing directory\n",
    "os.rmdir()\n",
    "```"
   ],
   "id": "9017279701375c7b"
  },
  {
   "metadata": {},
   "cell_type": "markdown",
   "source": [
    "\n",
    "### Sys Module\n",
    "\n",
    "The sys module provides functions and variables used to manipulate different parts of the Python runtime environment. Function sys.argv returns a list of command line arguments passed to a Python script. The item at index 0 in this list is always the name of the script, at index 1 is the argument passed from the command line.\n",
    "\n",
    "Example of a script.py file:\n",
    "\n",
    "```py\n",
    "import sys\n",
    "#print(sys.argv[0], argv[1],sys.argv[2])  # this line would print out: filename argument1 argument2\n",
    "print('Welcome {}. Enjoy  {} challenge!'.format(sys.argv[1], sys.argv[2]))\n",
    "```\n",
    "\n",
    "Now to check how this script works I wrote in command line:\n",
    "\n",
    "```sh\n",
    "python script.py Asabeneh 30DaysOfPython\n",
    "```\n",
    "\n",
    "The result:\n",
    "\n",
    "```sh\n",
    "Welcome Asabeneh. Enjoy  30DayOfPython challenge! \n",
    "```\n",
    "\n",
    "Some useful sys commands:\n",
    "\n",
    "```py\n",
    "# to exit sys\n",
    "sys.exit()\n",
    "# To know the largest integer variable it takes\n",
    "sys.maxsize\n",
    "# To know environment path\n",
    "sys.path\n",
    "# To know the version of python you are using\n",
    "sys.version\n",
    "```"
   ],
   "id": "8bd2279848ad6639"
  },
  {
   "metadata": {},
   "cell_type": "markdown",
   "source": [
    "\n",
    "### Statistics Module\n",
    "\n",
    "The statistics module provides functions for mathematical statistics of numeric data. The popular statistical functions which are defined in this module: _mean_, _median_, _mode_, _stdev_ etc.\n",
    "\n",
    "```py\n",
    "from statistics import * # importing all the statistics modules\n",
    "ages = [20, 20, 4, 24, 25, 22, 26, 20, 23, 22, 26]\n",
    "print(mean(ages))       # ~22.9\n",
    "print(median(ages))     # 23\n",
    "print(mode(ages))       # 20\n",
    "print(stdev(ages))      # ~2.3\n",
    "```"
   ],
   "id": "99532ff8968f84b0"
  },
  {
   "metadata": {},
   "cell_type": "markdown",
   "source": [
    "\n",
    "### Math Module\n",
    "\n",
    "Module containing many mathematical operations and constants.\n",
    "\n",
    "```py\n",
    "import math\n",
    "print(math.pi)           # 3.141592653589793, pi constant\n",
    "print(math.sqrt(2))      # 1.4142135623730951, square root\n",
    "print(math.pow(2, 3))    # 8.0, exponential function\n",
    "print(math.floor(9.81))  # 9, rounding to the lowest\n",
    "print(math.ceil(9.81))   # 10, rounding to the highest\n",
    "print(math.log10(100))   # 2, logarithm with 10 as base\n",
    "```\n",
    "\n",
    "Now, we have imported the *math* module which contains lots of function which can help us to perform mathematical calculations. To check what functions the module has got, we can use _help(math)_, or _dir(math)_. This will display the available functions in the module. If we want to import only a specific function from the module we import it as follows:"
   ],
   "id": "95f35ffae1515256"
  },
  {
   "metadata": {},
   "cell_type": "code",
   "outputs": [],
   "execution_count": null,
   "source": [
    "\n",
    "from math import pi\n",
    "print(pi)\n"
   ],
   "id": "7ef79292493578f5"
  },
  {
   "metadata": {},
   "cell_type": "code",
   "outputs": [],
   "execution_count": null,
   "source": [
    "\n",
    "# It is also possible to import multiple functions at once\n",
    "\n",
    "\n",
    "from math import pi, sqrt, pow, floor, ceil, log10\n",
    "print(pi)                 # 3.141592653589793\n",
    "print(sqrt(2))            # 1.4142135623730951\n",
    "print(pow(2, 3))          # 8.0\n",
    "print(floor(9.81))        # 9\n",
    "print(ceil(9.81))         # 10\n",
    "print(math.log10(100))    # 2\n"
   ],
   "id": "13307ecdf67ee986"
  },
  {
   "metadata": {},
   "cell_type": "code",
   "source": [
    "\n",
    "\n",
    "# But if we want to import all the function in math module we can use \\* .\n",
    "\n",
    "\n",
    "from math import *\n",
    "print(pi)                  # 3.141592653589793, pi constant\n",
    "print(sqrt(2))             # 1.4142135623730951, square root\n",
    "print(pow(2, 3))           # 8.0, exponential\n",
    "print(floor(9.81))         # 9, rounding to the lowest\n",
    "print(ceil(9.81))          # 10, rounding to the highest\n",
    "print(math.log10(100))     # 2\n",
    "\n",
    "\n",
    "# When we import we can also rename the name of the function.\n",
    "\n",
    "\n",
    "from math import pi as  PI\n",
    "print(PI) # 3.141592653589793\n"
   ],
   "id": "8baa4bdfc56a9d46",
   "outputs": [],
   "execution_count": null
  },
  {
   "metadata": {},
   "cell_type": "markdown",
   "source": [
    "\n",
    "### String Module\n",
    "\n",
    "A string module is a useful module for many purposes. The example below shows some use of the string module."
   ],
   "id": "dfd485262a879955"
  },
  {
   "metadata": {},
   "cell_type": "code",
   "outputs": [],
   "execution_count": null,
   "source": [
    "\n",
    "import string\n",
    "print(string.ascii_letters) # abcdefghijklmnopqrstuvwxyzABCDEFGHIJKLMNOPQRSTUVWXYZ\n",
    "print(string.digits)        # 0123456789\n",
    "print(string.punctuation)   # !\"#$%&'()*+,-./:;<=>?@[\\]^_`{|}~"
   ],
   "id": "6e4a8385ac0a55ca"
  },
  {
   "metadata": {},
   "cell_type": "markdown",
   "source": [
    "\n",
    "### Random Module\n",
    "\n",
    "By now you are familiar with importing modules. Let us do one more import to get very familiar with it. Let us import _random_ module which gives us a random number between 0 and 0.9999.... The _random_ module has lots of functions but in this section we will only use _random_ and _randint_."
   ],
   "id": "552a9265c99f9438"
  },
  {
   "metadata": {},
   "cell_type": "code",
   "outputs": [],
   "execution_count": null,
   "source": [
    "\n",
    "from random import random, randint\n",
    "print(random())   # it doesn't take any arguments; it returns a value between 0 and 0.9999\n",
    "print(randint(5, 20)) # it returns a random integer number between [5, 20] inclusive\n"
   ],
   "id": "712785a77ba31c10"
  }
 ],
 "metadata": {
  "kernelspec": {
   "display_name": "Python 3",
   "language": "python",
   "name": "python3"
  },
  "language_info": {
   "codemirror_mode": {
    "name": "ipython",
    "version": 2
   },
   "file_extension": ".py",
   "mimetype": "text/x-python",
   "name": "python",
   "nbconvert_exporter": "python",
   "pygments_lexer": "ipython2",
   "version": "2.7.6"
  }
 },
 "nbformat": 4,
 "nbformat_minor": 5
}
