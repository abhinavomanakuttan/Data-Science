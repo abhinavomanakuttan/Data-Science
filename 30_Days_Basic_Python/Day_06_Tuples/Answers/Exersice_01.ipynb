{
 "cells": [
  {
   "metadata": {},
   "cell_type": "markdown",
   "source": [
    "### Exercises: Level 1\n",
    "\n",
    "1. Create an empty tuple\n",
    "2. Create a tuple containing names of your sisters and your brothers (imaginary siblings are fine)\n",
    "3. Join brothers and sisters tuples and assign it to siblings\n",
    "4. How many siblings do you have?\n",
    "5. Modify the siblings tuple and add the name of your father and mother and assign it to family_members"
   ],
   "id": "4fc7c478925e173c"
  },
  {
   "metadata": {},
   "cell_type": "markdown",
   "source": "",
   "id": "1c2e36b17b87fc8d"
  },
  {
   "metadata": {},
   "cell_type": "code",
   "source": [
    "# Q1 \n",
    "lst = ()\n",
    "print(lst) # Empty tuple\n",
    "print(type(lst)) # type -> tuple"
   ],
   "id": "a4c1a87d03f069b6",
   "outputs": [],
   "execution_count": null
  },
  {
   "metadata": {},
   "cell_type": "code",
   "source": [
    "#Q2 \n",
    "tup1 =(\"sister \",\"Brother\")\n",
    "print(tup1)\n",
    "print(len(tup1))"
   ],
   "id": "42591b01f1bedec1",
   "outputs": [],
   "execution_count": null
  },
  {
   "metadata": {},
   "cell_type": "code",
   "source": [
    "#Q3\n",
    "sisters = (\"Leena\", \"Asha\", \"Priya\")\n",
    "brothers = (\"Raj\", \"Karan\", \"Vikram\")\n",
    "\n",
    "siblings = sisters + brothers\n",
    "print(siblings)"
   ],
   "id": "ad160e63126821f4",
   "outputs": [],
   "execution_count": null
  },
  {
   "metadata": {},
   "cell_type": "code",
   "source": [
    "#Q4\n",
    "print(len(siblings))"
   ],
   "id": "95072b4302f3047a",
   "outputs": [],
   "execution_count": null
  },
  {
   "metadata": {},
   "cell_type": "code",
   "source": [
    "#Q5\n",
    "family =siblings +(\"Father\",\"Mother\") \n",
    "print(family)   "
   ],
   "id": "fed63bb67b512ee",
   "outputs": [],
   "execution_count": null
  }
 ],
 "metadata": {
  "kernelspec": {
   "display_name": "Python 3",
   "language": "python",
   "name": "python3"
  },
  "language_info": {
   "codemirror_mode": {
    "name": "ipython",
    "version": 2
   },
   "file_extension": ".py",
   "mimetype": "text/x-python",
   "name": "python",
   "nbconvert_exporter": "python",
   "pygments_lexer": "ipython2",
   "version": "2.7.6"
  }
 },
 "nbformat": 4,
 "nbformat_minor": 5
}
