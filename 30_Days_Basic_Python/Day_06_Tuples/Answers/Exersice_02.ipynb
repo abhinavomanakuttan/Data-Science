{
 "cells": [
  {
   "metadata": {},
   "cell_type": "markdown",
   "source": [
    "### Exercises: Level 2\n",
    "\n",
    "1. Unpack siblings and parents from family_members\n",
    "1. Create fruits, vegetables and animal products tuples. Join the three tuples and assign it to a variable called food_stuff_tp.\n",
    "1. Change the about food_stuff_tp  tuple to a food_stuff_lt list\n",
    "1. Slice out the middle item or items from the food_stuff_tp tuple or food_stuff_lt list.\n",
    "1. Slice out the first three items and the last three items from food_staff_lt list\n",
    "1. Delete the food_staff_tp tuple completely\n",
    "1. Check if an item exists in  tuple:"
   ],
   "id": "7a392eb2a33c89e6"
  },
  {
   "metadata": {},
   "cell_type": "code",
   "source": [
    "# Q1\n",
    "family =('Leena', 'Asha', 'Priya', 'Raj', 'Karan', 'Vikram', 'Father', 'Mother')\n",
    "*siblings, father, mother = family\n",
    "print(siblings)\n",
    "print(father)\n",
    "print(mother)\n"
   ],
   "id": "b3417ff1af8cd94d",
   "outputs": [],
   "execution_count": null
  },
  {
   "metadata": {},
   "cell_type": "code",
   "source": [
    "#Q2\n",
    "fruits = (\"apple\", \"banana\", \"orange\")\n",
    "vegetables = (\"carrot\", \"broccoli\", \"spinach\")\n",
    "animal_products = (\"milk\", \"eggs\", \"cheese\")\n",
    "food_stuff_tp = fruits + vegetables + animal_products\n",
    "print(food_stuff_tp)"
   ],
   "id": "f45ed907f7789b5c",
   "outputs": [],
   "execution_count": null
  },
  {
   "metadata": {},
   "cell_type": "code",
   "source": [
    "# Q3\n",
    "food_stuff_lt = list(food_stuff_tp)\n",
    "print(food_stuff_lt)"
   ],
   "id": "4912fd59a7cd5213",
   "outputs": [],
   "execution_count": null
  },
  {
   "metadata": {},
   "cell_type": "code",
   "source": [
    "# Q4 \n",
    "middle_index = len(food_stuff_lt) // 2\n",
    "middle_item = food_stuff_lt[middle_index]\n",
    "print(middle_item)"
   ],
   "id": "f200ad017af3d683",
   "outputs": [],
   "execution_count": null
  },
  {
   "metadata": {},
   "cell_type": "code",
   "source": [
    "# Q5\n",
    "fist_three = food_stuff_lt[:3]\n",
    "last_three = food_stuff_lt[-3:]\n",
    "print(fist_three, last_three)"
   ],
   "id": "5161d1e8f038c10",
   "outputs": [],
   "execution_count": null
  },
  {
   "metadata": {
    "ExecuteTime": {
     "end_time": "2024-09-18T15:49:09.951454Z",
     "start_time": "2024-09-18T15:49:09.944453Z"
    }
   },
   "cell_type": "code",
   "source": [
    "# Q6 \n",
    "del food_stuff_tp"
   ],
   "id": "62be9201b692bd30",
   "outputs": [],
   "execution_count": 22
  },
  {
   "metadata": {},
   "cell_type": "code",
   "source": [
    "# Q7\n",
    "item_exists = \"apple\" in fruits  # Change \"apple\" to the item you want to check\n",
    "print(item_exists)"
   ],
   "id": "9f6d5c069a31af46",
   "outputs": [],
   "execution_count": null
  }
 ],
 "metadata": {
  "kernelspec": {
   "display_name": "Python 3",
   "language": "python",
   "name": "python3"
  },
  "language_info": {
   "codemirror_mode": {
    "name": "ipython",
    "version": 2
   },
   "file_extension": ".py",
   "mimetype": "text/x-python",
   "name": "python",
   "nbconvert_exporter": "python",
   "pygments_lexer": "ipython2",
   "version": "2.7.6"
  }
 },
 "nbformat": 4,
 "nbformat_minor": 5
}
