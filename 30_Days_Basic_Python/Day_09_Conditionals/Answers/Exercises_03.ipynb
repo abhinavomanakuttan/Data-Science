{
 "cells": [
  {
   "metadata": {},
   "cell_type": "markdown",
   "source": [
    "1. Here we have a person dictionary. Feel free to modify it!\n",
    "   \n",
    "```py\n",
    "        person={\n",
    "    'first_name': 'Abhinav',\n",
    "    'last_name': 'Omanakuttan',\n",
    "    'age': 20,\n",
    "    'country': 'India',\n",
    "    'is_marred': False,\n",
    "    'skills': ['JavaScript', 'React', 'Node', 'MongoDB', 'Python'],\n",
    "    'address': {\n",
    "        'street': 'abcd efgh',\n",
    "        'zipcode': '00000'\n",
    "    }\n",
    "    }\n",
    "```\n",
    "\n",
    "   * Check if the person dictionary has skills key, if so print out the middle skill in the skills list.\n",
    "   * Check if the person dictionary has skills key, if so check if the person has 'Python' skill and print out the result.\n",
    "   * If a person skills has only JavaScript and React, print('He is a front end developer'), if the person skills has Node, Python, MongoDB, print('He is a backend developer'), if the person skills has React, Node and MongoDB, Print('He is a fullstack developer'), else print('unknown title') - for more accurate results more conditions can be nested!\n",
    "   * If the person is married and if he lives in India, print the information in the following format:"
   ],
   "id": "579bcc2f4087bbd6"
  },
  {
   "metadata": {
    "ExecuteTime": {
     "end_time": "2024-09-24T15:18:40.568052Z",
     "start_time": "2024-09-24T15:18:40.560165Z"
    }
   },
   "cell_type": "code",
   "source": [
    "person={\n",
    "    'first_name': 'Abhinav',\n",
    "    'last_name': 'Omanakuttan',\n",
    "    'age': 20,\n",
    "    'country': 'India',\n",
    "    'is_marred': False,\n",
    "    'skills': ['JavaScript', 'React', 'Node', 'MongoDB', 'Python'],\n",
    "    'address': {\n",
    "        'street': 'abcd efgh',\n",
    "        'zipcode': '00000'\n",
    "    }\n",
    "    }\n",
    "\n",
    "#Q1\n",
    "\n",
    "# check 'skills' in person\n",
    "\n",
    "if 'skills' in person:\n",
    "    print(person['skills'])\n",
    "    skills = person['skills']\n",
    "    middle_index = len(skills) // 2\n",
    "    print(\"Middle skill:\", skills[middle_index])"
   ],
   "id": "3cc6ef4244ac61ba",
   "outputs": [],
   "execution_count": null
  },
  {
   "metadata": {},
   "cell_type": "code",
   "outputs": [],
   "execution_count": null,
   "source": [
    "\n",
    "# Q2  Check if the person has 'Python' skill\n",
    "if 'skills' in person:\n",
    "    if 'Python' in person['skills']:\n",
    "        print(\"The person has Python skill.\")\n",
    "    else:\n",
    "        print(\"The person does not have Python skill.\")"
   ],
   "id": "6271900fbcad855f"
  },
  {
   "metadata": {
    "ExecuteTime": {
     "end_time": "2024-09-24T16:11:36.471267Z",
     "start_time": "2024-09-24T16:11:36.458947Z"
    }
   },
   "cell_type": "code",
   "source": [
    "\n",
    "# 3 Determine the person's developer role based on skills\n",
    "if 'skills' in person:\n",
    "    skills = set(person['skills'])\n",
    "    \n",
    "    if skills == {'JavaScript', 'React'}:\n",
    "        print(\"He is a front-end developer.\")\n",
    "    elif skills >= {'Node', 'Python', 'MongoDB'}:\n",
    "        print(\"He is a backend developer.\")\n",
    "    elif skills >= {'React', 'Node', 'MongoDB'}:\n",
    "        print(\"He is a fullstack developer.\")\n",
    "    else:\n",
    "        print(\"Unknown title.\")"
   ],
   "id": "7b99bc6935e4f439",
   "outputs": [
    {
     "name": "stdout",
     "output_type": "stream",
     "text": [
      "He is a backend developer.\n"
     ]
    }
   ],
   "execution_count": 13
  },
  {
   "metadata": {
    "ExecuteTime": {
     "end_time": "2024-09-24T16:13:30.884950Z",
     "start_time": "2024-09-24T16:13:30.872964Z"
    }
   },
   "cell_type": "code",
   "source": [
    "# 4. Print information if the person is married and lives in India\n",
    "if person['is_marred'] and person['country'] == 'India':\n",
    "    print(f\"{person['first_name']} {person['last_name']} is married and lives in {person['country']}.\")\n",
    "else:\n",
    "    print(f\"{person['first_name']} {person['last_name']} is not married and lives in {person['country']}.\")"
   ],
   "id": "901e4d04c0080521",
   "outputs": [
    {
     "name": "stdout",
     "output_type": "stream",
     "text": [
      "Abhinav Omanakuttan is not married and lives in India.\n"
     ]
    }
   ],
   "execution_count": 16
  }
 ],
 "metadata": {
  "kernelspec": {
   "display_name": "Python 3",
   "language": "python",
   "name": "python3"
  },
  "language_info": {
   "codemirror_mode": {
    "name": "ipython",
    "version": 2
   },
   "file_extension": ".py",
   "mimetype": "text/x-python",
   "name": "python",
   "nbconvert_exporter": "python",
   "pygments_lexer": "ipython2",
   "version": "2.7.6"
  }
 },
 "nbformat": 4,
 "nbformat_minor": 5
}
