{
 "cells": [
  {
   "metadata": {},
   "cell_type": "markdown",
   "source": [
    "### Exercises: Level 1\n",
    "\n",
    "1.  Get user input using input(“Enter your age: ”). If user is 18 or older, give feedback: You are old enough to drive. If below 18 give feedback to wait for the missing amount of years. Output:\n",
    "    ```sh\n",
    "    Enter your age: 30\n",
    "    You are old enough to learn to drive.\n",
    "    Output:\n",
    "    Enter your age: 15\n",
    "    You need 3 more years to learn to drive.\n",
    "    ```\n",
    "2.  Compare the values of my_age and your_age using if … else. Who is older (me or you)? Use input(“Enter your age: ”) to get the age as input. You can use a nested condition to print 'year' for 1 year difference in age, 'years' for bigger differences, and a custom text if my_age = your_age. Output:\n",
    "    ```sh\n",
    "    Enter your age: 30\n",
    "    You are 5 years older than me.\n",
    "    ```\n",
    "3.  Get two numbers from the user using input prompt. If a is greater than b return a is greater than b, if a is less b return a is smaller than b, else a is equal to b. Output:\n",
    "\n",
    "```sh\n",
    "Enter number one: 4\n",
    "Enter number two: 3\n",
    "4 is greater than 3\n",
    "```"
   ],
   "id": "99a251d1c79906be"
  },
  {
   "metadata": {},
   "cell_type": "code",
   "source": [
    "# Q1\n",
    "age = int(input(\"Enter your age: \"))\n",
    "if age > 18: \n",
    "    print(\"You are old enough to learn to drive. \")\n",
    "else :\n",
    "    print(\"You are not old enough to learn to drive.\")"
   ],
   "id": "604941e8381dcaca",
   "outputs": [],
   "execution_count": null
  },
  {
   "metadata": {},
   "cell_type": "code",
   "source": [
    "#Q2\n",
    "# Define my age\n",
    "my_age = 20  # You can change this to your actual age\n",
    "\n",
    "# Get the user's age as input\n",
    "your_age = int(input(\"Enter your age: \"))\n",
    "\n",
    "# Compare the ages\n",
    "if my_age > your_age:\n",
    "    difference = my_age - your_age\n",
    "    print(f\"I am older than you by {difference} years.\")\n",
    "    \n",
    "elif my_age < your_age:\n",
    "    difference = your_age - my_age\n",
    "    print(f\"You are older than me by {difference} years.\")\n",
    "else:\n",
    "    print(\"We are the same age!\")\n",
    "\n"
   ],
   "id": "9439cf56e1c578d4",
   "outputs": [],
   "execution_count": null
  },
  {
   "metadata": {},
   "cell_type": "code",
   "source": [
    "# Q3\n",
    "num1 = int(input(\"Enter a number: \"))\n",
    "num2 = int(input(\"Enter another number: \"))\n",
    "\n",
    "if num1 > num2:\n",
    "    print(f\"The numbers {num1} greater than  {num2}\")\n",
    "elif num2 > num1:\n",
    "    print(f\"The numbers {num2} greater than  {num1}\")\n",
    "else :\n",
    "    print(\"Both numbers are equal \",num1)"
   ],
   "id": "cfec083cbbfdc9af",
   "outputs": [],
   "execution_count": null
  }
 ],
 "metadata": {
  "kernelspec": {
   "display_name": "Python 3",
   "language": "python",
   "name": "python3"
  },
  "language_info": {
   "codemirror_mode": {
    "name": "ipython",
    "version": 2
   },
   "file_extension": ".py",
   "mimetype": "text/x-python",
   "name": "python",
   "nbconvert_exporter": "python",
   "pygments_lexer": "ipython2",
   "version": "2.7.6"
  }
 },
 "nbformat": 4,
 "nbformat_minor": 5
}
