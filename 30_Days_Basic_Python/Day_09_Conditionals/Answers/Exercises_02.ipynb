{
 "cells": [
  {
   "metadata": {},
   "cell_type": "markdown",
   "source": [
    " ### Exercises: Level 2\n",
    "\n",
    "   1. Write a code which gives grade to students according to theirs scores:\n",
    "   \n",
    "        ```sh\n",
    "        80-100, A\n",
    "        70-89, B\n",
    "        60-69, C\n",
    "        50-59, D\n",
    "        0-49, F\n",
    "        ```\n",
    "1. Check if the season is Autumn, Winter, Spring or Summer. If the user input is:\n",
    "    September, October or November, the season is Autumn.\n",
    "    December, January or February, the season is Winter.\n",
    "    March, April or May, the season is Spring\n",
    "    June, July or August, the season is Summer\n",
    "2.  The following list contains some fruits:\n",
    "    ```sh\n",
    "    fruits = ['banana', 'orange', 'mango', 'lemon']\n",
    "    ```\n",
    "    If a fruit doesn't exist in the list add the fruit to the list and print the modified list. If the fruit exists print('That fruit already exist in the list') "
   ],
   "id": "ff89dd0c4f335f42"
  },
  {
   "metadata": {},
   "cell_type": "code",
   "source": [
    "# Q1\n",
    "grade =float(input(\"Enter your Grade: \"))\n",
    "if (grade >= 80 ) or  (grade >= 100):\n",
    "    print(\"Your Grade is A\")\n",
    "elif(grade >= 89) or (grade >= 70):\n",
    "    print(\"Your Grade is B\")\n",
    "elif(grade >= 60) or (grade >= 69):\n",
    "    print(\"Your Grade is C\")\n",
    "elif(grade >= 50) or (grade >= 59):\n",
    "    print(\"Your Grade is D\")\n",
    "else:\n",
    "    print(\"Your Grade is F\")"
   ],
   "id": "fb8ab91d40d08f31",
   "outputs": [],
   "execution_count": null
  },
  {
   "metadata": {},
   "cell_type": "code",
   "outputs": [],
   "execution_count": null,
   "source": [
    "#Q2\n",
    "month = input(\"Enter the month: \").capitalize()\n",
    "\n",
    "# Check the season based on the input month\n",
    "if month in ['September', 'October', 'November']:\n",
    "    print(\"The season is Autumn.\")\n",
    "elif month in ['December', 'January', 'February']:\n",
    "    print(\"The season is Winter.\")\n",
    "elif month in ['March', 'April', 'May']:\n",
    "    print(\"The season is Spring.\")\n",
    "elif month in ['June', 'July', 'August']:\n",
    "    print(\"The season is Summer.\")\n",
    "else:\n",
    "    print(\"Invalid month. Please enter a valid month.\")\n"
   ],
   "id": "fbfb9a631a945c0f"
  },
  {
   "metadata": {},
   "cell_type": "code",
   "source": [
    "# Q3 \n",
    "fruits = ['banana', 'orange', 'mango', 'lemon']\n",
    "\n",
    "# Get user input for the fruit\n",
    "fruit = input(\"Enter a fruit: \").lower()\n",
    "\n",
    "# Check if the fruit exists in the list\n",
    "if fruit in fruits:\n",
    "    print(\"That fruit already exists in the list.\")\n",
    "else:\n",
    "    fruits.append(fruit)\n",
    "    print(f\"{fruit.capitalize()} has been added to the list.\")\n",
    "    print(\"Updated list of fruits:\", fruits)\n"
   ],
   "id": "fe83809607a64070",
   "outputs": [],
   "execution_count": null
  }
 ],
 "metadata": {
  "kernelspec": {
   "display_name": "Python 3",
   "language": "python",
   "name": "python3"
  },
  "language_info": {
   "codemirror_mode": {
    "name": "ipython",
    "version": 2
   },
   "file_extension": ".py",
   "mimetype": "text/x-python",
   "name": "python",
   "nbconvert_exporter": "python",
   "pygments_lexer": "ipython2",
   "version": "2.7.6"
  }
 },
 "nbformat": 4,
 "nbformat_minor": 5
}
