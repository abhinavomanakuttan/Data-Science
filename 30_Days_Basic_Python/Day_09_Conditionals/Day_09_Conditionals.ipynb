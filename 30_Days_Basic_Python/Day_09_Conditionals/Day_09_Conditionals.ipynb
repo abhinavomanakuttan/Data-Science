{
 "cells": [
  {
   "metadata": {},
   "cell_type": "markdown",
   "source": "# 📘 Day 9",
   "id": "6376645fd54e7053"
  },
  {
   "metadata": {},
   "cell_type": "markdown",
   "source": [
    "\n",
    "## Conditionals\n",
    "\n",
    "By default, statements in Python script are executed sequentially from top to bottom. If the processing logic require so, the sequential flow of execution can be altered in two way:\n",
    "\n",
    "- Conditional execution: a block of one or more statements will be executed if a certain expression is true\n",
    "- Repetitive execution: a block of one or more statements will be repetitively executed as long as a certain expression is true. In this section, we will cover _if_, _else_, _elif_ statements. The comparison and logical operators we learned in previous sections will be useful here."
   ],
   "id": "b9a925fd38cc28d4"
  },
  {
   "metadata": {},
   "cell_type": "markdown",
   "source": [
    "\n",
    "### If Condition\n",
    "\n",
    "In python and other programming languages the key word _if_ is used to check if a condition is true and to execute the block code. Remember the indentation after the colon."
   ],
   "id": "1d3595d51c8506a5"
  },
  {
   "metadata": {},
   "cell_type": "markdown",
   "source": [
    "\n",
    "```py\n",
    "# syntax \n",
    "if condition:\n",
    "    this part of code runs for truthy conditions\n",
    "```"
   ],
   "id": "a61a5b565906f236"
  },
  {
   "metadata": {},
   "cell_type": "markdown",
   "source": [
    "\n",
    "**Example: 1**"
   ],
   "id": "ec0a01110efb6e76"
  },
  {
   "metadata": {},
   "cell_type": "code",
   "source": [
    "a = 3\n",
    "if a > 0:\n",
    "    print('A is a positive number')\n",
    "# A is a positive number\n"
   ],
   "id": "fb8a1c4fcfb53aef",
   "outputs": [],
   "execution_count": null
  },
  {
   "metadata": {},
   "cell_type": "markdown",
   "source": [
    "\n",
    "As you can see in the example above, 3 is greater than 0. The condition was true and the block code was executed. However, if the condition is false, we do not see the result. In order to see the result of the falsy condition, we should have another block, which is going to be _else_.\n",
    "\n",
    "### If Else\n",
    "\n",
    "If condition is true the first block will be executed, if not the else condition will run."
   ],
   "id": "6228eaed7e1700c6"
  },
  {
   "metadata": {},
   "cell_type": "markdown",
   "source": [
    "\n",
    "```py\n",
    "# syntax\n",
    "if condition:\n",
    "    this part of code runs for truthy conditions\n",
    "else:\n",
    "     this part of code runs for false conditions\n",
    "```"
   ],
   "id": "1b6c2231435c381b"
  },
  {
   "metadata": {},
   "cell_type": "markdown",
   "source": [
    "\n",
    "**Example: **"
   ],
   "id": "454ad93d3a52b005"
  },
  {
   "metadata": {},
   "cell_type": "code",
   "source": [
    "a = 3\n",
    "if a < 0:\n",
    "    print('A is a negative number')\n",
    "else:\n",
    "    print('A is a positive number')\n"
   ],
   "id": "f35cede2ce8bf73c",
   "outputs": [],
   "execution_count": null
  },
  {
   "metadata": {},
   "cell_type": "markdown",
   "source": [
    "\n",
    "The condition above proves false, therefore the else block was executed. How about if our condition is more than two? We could use _ elif_."
   ],
   "id": "c129a7fe43062abe"
  },
  {
   "metadata": {},
   "cell_type": "markdown",
   "source": [
    "\n",
    "### If Elif Else\n",
    "\n",
    "In our daily life, we make decisions on daily basis. We make decisions not by checking one or two conditions but multiple conditions. As similar to life, programming is also full of conditions. We use _elif_ when we have multiple conditions."
   ],
   "id": "7fe474b0f50c7da1"
  },
  {
   "metadata": {},
   "cell_type": "markdown",
   "source": [
    "\n",
    "```py\n",
    "# syntax\n",
    "if condition:\n",
    "    code\n",
    "elif condition:\n",
    "    code\n",
    "else:\n",
    "    code\n",
    "\n",
    "```"
   ],
   "id": "a5106b21de96cabe"
  },
  {
   "metadata": {},
   "cell_type": "markdown",
   "source": [
    "\n",
    "**Example: **"
   ],
   "id": "7487bbc8c6e9d285"
  },
  {
   "metadata": {},
   "cell_type": "code",
   "source": [
    "a = 0\n",
    "if a > 0:\n",
    "    print('A is a positive number')\n",
    "elif a < 0:\n",
    "    print('A is a negative number')\n",
    "else:\n",
    "    print('A is zero')"
   ],
   "id": "64b08cc8a060299d",
   "outputs": [],
   "execution_count": null
  },
  {
   "metadata": {},
   "cell_type": "markdown",
   "source": [
    "\n",
    "### Short Hand\n",
    "\n",
    "```py\n",
    "# syntax\n",
    "code if condition else code\n",
    "```"
   ],
   "id": "6d532e82a9c9ee1f"
  },
  {
   "metadata": {},
   "cell_type": "markdown",
   "source": [
    "\n",
    "**Example: **"
   ],
   "id": "8d531ae09e13321a"
  },
  {
   "metadata": {},
   "cell_type": "code",
   "source": [
    "\n",
    "a = 3\n",
    "print('A is positive') if a > 0 else print('A is negative') # first condition met, 'A is positive' will be printed\n"
   ],
   "id": "200476b1d223adc2",
   "outputs": [],
   "execution_count": null
  },
  {
   "metadata": {},
   "cell_type": "markdown",
   "source": [
    "\n",
    "### Nested Conditions\n",
    "\n",
    "Conditions can be nested"
   ],
   "id": "33759ea0057ac67f"
  },
  {
   "metadata": {},
   "cell_type": "markdown",
   "source": [
    "\n",
    "```py\n",
    "# syntax\n",
    "if condition:\n",
    "    code\n",
    "    if condition:\n",
    "    code\n",
    "```"
   ],
   "id": "2a036dd7d6aff9f6"
  },
  {
   "metadata": {},
   "cell_type": "markdown",
   "source": [
    "\n",
    "**Example: **"
   ],
   "id": "2c6923a03c863c3a"
  },
  {
   "metadata": {},
   "cell_type": "code",
   "source": [
    "a = 0\n",
    "if a > 0:\n",
    "    if a % 2 == 0:\n",
    "        print('A is a positive and even integer')\n",
    "    else:\n",
    "        print('A is a positive number')\n",
    "elif a == 0:\n",
    "    print('A is zero')\n",
    "else:\n",
    "    print('A is a negative number')\n",
    "\n"
   ],
   "id": "390dea3f707df771",
   "outputs": [],
   "execution_count": null
  },
  {
   "metadata": {},
   "cell_type": "markdown",
   "source": [
    "\n",
    "We can avoid writing nested condition by using logical operator _and_.\n",
    "\n",
    "### If Condition and Logical Operators"
   ],
   "id": "90cd79c91e43df06"
  },
  {
   "metadata": {},
   "cell_type": "markdown",
   "source": [
    "\n",
    "```py\n",
    "# syntax\n",
    "if condition and condition:\n",
    "    code\n",
    "```"
   ],
   "id": "b2a9ad0df0f07552"
  },
  {
   "metadata": {},
   "cell_type": "markdown",
   "source": [
    "\n",
    "**Example: **"
   ],
   "id": "584bc6d299229f41"
  },
  {
   "metadata": {},
   "cell_type": "code",
   "source": [
    "a = 0\n",
    "if a > 0 and a % 2 == 0:\n",
    "        print('A is an even and positive integer')\n",
    "elif a > 0 and a % 2 !=  0:\n",
    "     print('A is a positive integer')\n",
    "elif a == 0:\n",
    "    print('A is zero')\n",
    "else:\n",
    "    print('A is negative')\n"
   ],
   "id": "2f0d0a4bb060314a",
   "outputs": [],
   "execution_count": null
  },
  {
   "metadata": {},
   "cell_type": "markdown",
   "source": [
    "\n",
    "### If and Or Logical Operators"
   ],
   "id": "4628095283c46fc9"
  },
  {
   "metadata": {},
   "cell_type": "markdown",
   "source": [
    "```py\n",
    "# syntax\n",
    "if condition or condition:\n",
    "    code\n",
    "```"
   ],
   "id": "618598e4301667f5"
  },
  {
   "metadata": {},
   "cell_type": "markdown",
   "source": [
    "\n",
    "**Example: **"
   ],
   "id": "df9da82eb7c712d2"
  },
  {
   "metadata": {},
   "cell_type": "code",
   "source": [
    "user = 'James'\n",
    "access_level = 3\n",
    "if user == 'admin' or access_level >= 4:\n",
    "        print('Access granted!')\n",
    "else:\n",
    "    print('Access denied!')\n"
   ],
   "id": "1e8e7ef2320dd909",
   "outputs": [],
   "execution_count": null
  }
 ],
 "metadata": {
  "kernelspec": {
   "display_name": "Python 3",
   "language": "python",
   "name": "python3"
  },
  "language_info": {
   "codemirror_mode": {
    "name": "ipython",
    "version": 2
   },
   "file_extension": ".py",
   "mimetype": "text/x-python",
   "name": "python",
   "nbconvert_exporter": "python",
   "pygments_lexer": "ipython2",
   "version": "2.7.6"
  }
 },
 "nbformat": 4,
 "nbformat_minor": 5
}
