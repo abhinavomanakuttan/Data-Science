{
 "cells": [
  {
   "metadata": {},
   "cell_type": "markdown",
   "source": [
    "### Exercises: Level 2\n",
    "    \n",
    "1.  Use for loop to iterate from 0 to 100 and print the sum of all numbers.\n",
    "\n",
    "   ```sh\n",
    "   The sum of all numbers is 5050.\n",
    "   ```\n",
    "\n",
    "1. Use for loop to iterate from 0 to 100 and print the sum of all evens and the sum of all odds.\n",
    "\n",
    "    ```sh\n",
    "    The sum of all evens is 2550. And the sum of all odds is 2500.\n",
    "    ```\n"
   ],
   "id": "35f868d6cc41632e"
  },
  {
   "metadata": {},
   "cell_type": "code",
   "source": [
    "# 1\n",
    "sum =0\n",
    "for i in range(0,101):\n",
    "    sum =sum + i\n",
    "\n",
    "print(f\"sum of 1 to 100 is {sum}\")"
   ],
   "id": "3cfc7bc8636b2960",
   "outputs": [],
   "execution_count": null
  },
  {
   "metadata": {},
   "cell_type": "code",
   "source": [
    "# 2\n",
    "sum_even = 0\n",
    "sum_odd = 0\n",
    "\n",
    "# Loop from 0 to 100\n",
    "for i in range(101):  # The range goes from 0 to 100 (inclusive)\n",
    "    if i % 2 == 0:\n",
    "        sum_even += i  # Same as sum_even = sum_even + i\n",
    "    else:\n",
    "        sum_odd += i   # Same as sum_odd = sum_odd + i\n",
    "\n",
    "# Output the results\n",
    "print(\"Sum of even numbers:\", sum_even)\n",
    "print(\"Sum of odd numbers:\", sum_odd)"
   ],
   "id": "55416781353f2cfa",
   "outputs": [],
   "execution_count": null
  }
 ],
 "metadata": {
  "kernelspec": {
   "display_name": "Python 3",
   "language": "python",
   "name": "python3"
  },
  "language_info": {
   "codemirror_mode": {
    "name": "ipython",
    "version": 2
   },
   "file_extension": ".py",
   "mimetype": "text/x-python",
   "name": "python",
   "nbconvert_exporter": "python",
   "pygments_lexer": "ipython2",
   "version": "2.7.6"
  }
 },
 "nbformat": 4,
 "nbformat_minor": 5
}
