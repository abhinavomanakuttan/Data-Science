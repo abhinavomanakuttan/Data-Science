{
 "cells": [
  {
   "metadata": {},
   "cell_type": "markdown",
   "source": [
    "### Exercises: Level 1\n",
    "\n",
    "1. Iterate 0 to 10 using for loop, do the same using while loop.\n",
    "2. Iterate 10 to 0 using for loop, do the same using while loop.\n",
    "3. Write a loop that makes seven calls to print(), so we get on the output the following triangle:\n",
    "\n",
    "   ```py\n",
    "     #\n",
    "     ##\n",
    "     ###\n",
    "     ####\n",
    "     #####\n",
    "     ######\n",
    "     #######\n",
    "   ```\n",
    "\n",
    "4. Use nested loops to create the following:\n",
    "\n",
    "   ```sh\n",
    "   # # # # # # # #\n",
    "   # # # # # # # #\n",
    "   # # # # # # # #\n",
    "   # # # # # # # #\n",
    "   # # # # # # # #\n",
    "   # # # # # # # #\n",
    "   # # # # # # # #\n",
    "   # # # # # # # #\n",
    "   ```\n",
    "\n",
    "5. Print the following pattern:\n",
    "\n",
    "   ```sh\n",
    "   0 x 0 = 0\n",
    "   1 x 1 = 1\n",
    "   2 x 2 = 4\n",
    "   3 x 3 = 9\n",
    "   4 x 4 = 16\n",
    "   5 x 5 = 25\n",
    "   6 x 6 = 36\n",
    "   7 x 7 = 49\n",
    "   8 x 8 = 64\n",
    "   9 x 9 = 81\n",
    "   10 x 10 = 100\n",
    "   ```\n",
    "\n",
    "6. Iterate through the list, ['Python', 'Numpy','Pandas','Django', 'Flask'] using a for loop and print out the items.\n",
    "7. Use for loop to iterate from 0 to 100 and print only even numbers\n",
    "8. Use for loop to iterate from 0 to 100 and print only odd numbers"
   ],
   "id": "ce1f882fe683e34"
  },
  {
   "metadata": {},
   "cell_type": "code",
   "source": [
    "# 1\n",
    "i = 0\n",
    "while i<=10:\n",
    "    print(i,end=' ') # 0 1 2 3 4 5 6 7 8 9 10\n",
    "    i=i+1"
   ],
   "id": "e5240d1a76ca7548",
   "outputs": [],
   "execution_count": null
  },
  {
   "metadata": {},
   "cell_type": "code",
   "source": [
    "# 2\n",
    "i = 10\n",
    "while i >= 0:\n",
    "    print(i,end=' ') #10 9 8 7 6 5 4 3 2 1 0\n",
    "    i = i-1\n"
   ],
   "id": "12a8e9951d2ce67d",
   "outputs": [],
   "execution_count": null
  },
  {
   "metadata": {},
   "cell_type": "code",
   "source": [
    "# 3\n",
    "\n",
    "for i in range(8):\n",
    "    for j in range(i):\n",
    "        print(\"#\",end='')\n",
    "    print()\n",
    "        "
   ],
   "id": "8839708aba3b3b4b",
   "outputs": [],
   "execution_count": null
  },
  {
   "metadata": {},
   "cell_type": "code",
   "source": [
    "# 4\n",
    "\n",
    "for i in range(8):\n",
    "    for j in range(8):\n",
    "        print(\"#\",end='')\n",
    "    print()"
   ],
   "id": "306573f429b172b8",
   "outputs": [],
   "execution_count": null
  },
  {
   "metadata": {},
   "cell_type": "code",
   "source": [
    "# 5\n",
    "for i in range(11):\n",
    "    print(f' {i} x {i} = {i*i}')\n",
    "    "
   ],
   "id": "830426afef358936",
   "outputs": [],
   "execution_count": null
  },
  {
   "metadata": {},
   "cell_type": "code",
   "source": [
    "# 6\n",
    "\n",
    "lists =  ['Python', 'Numpy','Pandas','Django', 'Flask']\n",
    "for list in lists:\n",
    "    print(list)"
   ],
   "id": "c62b6f94af2263e",
   "outputs": [],
   "execution_count": null
  },
  {
   "metadata": {},
   "cell_type": "code",
   "source": [
    "# 7\n",
    "for i in range(101):\n",
    "    if i % 2 == 0: # Tc check even \n",
    "        print(i,end=' ')"
   ],
   "id": "b0855928d4ba904",
   "outputs": [],
   "execution_count": null
  },
  {
   "metadata": {},
   "cell_type": "code",
   "source": [
    "# 8\n",
    "\n",
    "for i in range(101):\n",
    "    if i % 2 != 0: # to check odd\n",
    "        print(i,end=' ')"
   ],
   "id": "d55d60151e276bd1",
   "outputs": [],
   "execution_count": null
  }
 ],
 "metadata": {
  "kernelspec": {
   "display_name": "Python 3",
   "language": "python",
   "name": "python3"
  },
  "language_info": {
   "codemirror_mode": {
    "name": "ipython",
    "version": 2
   },
   "file_extension": ".py",
   "mimetype": "text/x-python",
   "name": "python",
   "nbconvert_exporter": "python",
   "pygments_lexer": "ipython2",
   "version": "2.7.6"
  }
 },
 "nbformat": 4,
 "nbformat_minor": 5
}
