{
 "cells": [
  {
   "metadata": {},
   "cell_type": "markdown",
   "source": [
    "# 📘 Day 10\n",
    "\n",
    "## Loops\n",
    "\n",
    "Life is full of routines. In programming we also do lots of repetitive tasks. In order to handle repetitive task programming languages use loops. Python programming language also provides the following types of two loops:\n",
    "\n",
    "1. while loop\n",
    "2. for loop\n",
    "\n",
    "### While Loop\n",
    "\n",
    "We use the reserved word _while_ to make a while loop. It is used to execute a block of statements repeatedly until a given condition is satisfied. When the condition becomes false, the lines of code after the loop will be continued to be executed.\n",
    "\n",
    "```py\n",
    "  # syntax\n",
    "while condition:\n",
    "    code goes here\n",
    "```"
   ],
   "id": "927e64118b4e3d81"
  },
  {
   "metadata": {},
   "cell_type": "markdown",
   "source": [
    "\n",
    "**Example:**"
   ],
   "id": "b07cec1d60185c52"
  },
  {
   "metadata": {},
   "cell_type": "code",
   "outputs": [],
   "execution_count": null,
   "source": [
    "count = 0\n",
    "while count < 5:\n",
    "    print(count)\n",
    "    count = count + 1\n",
    "#prints from 0 to 4"
   ],
   "id": "7dc983641c72e29f"
  },
  {
   "metadata": {},
   "cell_type": "markdown",
   "source": [
    "\n",
    "In the above while loop, the condition becomes false when count is 5. That is when the loop stops.\n",
    "If we are interested to run block of code once the condition is no longer true, we can use _else_."
   ],
   "id": "d7ee68a76ecb4418"
  },
  {
   "metadata": {},
   "cell_type": "markdown",
   "source": [
    "\n",
    "```py\n",
    "  # syntax\n",
    "while condition:\n",
    "    code goes here\n",
    "else:\n",
    "    code goes here\n",
    "```"
   ],
   "id": "ab782d9178a4cbec"
  },
  {
   "metadata": {},
   "cell_type": "markdown",
   "source": [
    "\n",
    "**Example:**"
   ],
   "id": "59388bbca4362e9a"
  },
  {
   "metadata": {},
   "cell_type": "code",
   "source": [
    "count = 0\n",
    "while count < 5:\n",
    "    print(count)\n",
    "    count = count + 1\n",
    "else:\n",
    "    print(count)\n",
    "\n",
    "# 0 1 2 3 4 5 "
   ],
   "id": "ed5fc23a56d0dca5",
   "outputs": [],
   "execution_count": null
  },
  {
   "metadata": {},
   "cell_type": "markdown",
   "source": [
    "\n",
    "The above loop condition will be false when count is 5 and the loop stops, and execution starts the else statement. As a result 5 will be printed.\n"
   ],
   "id": "5d562ef2487f3414"
  },
  {
   "metadata": {},
   "cell_type": "markdown",
   "source": [
    "\n",
    "### Break and Continue - Part 1\n",
    "\n",
    "- Break: We use break when we like to get out of or stop the loop."
   ],
   "id": "80aa0c9cb619b383"
  },
  {
   "metadata": {},
   "cell_type": "markdown",
   "source": [
    "\n",
    "```py\n",
    "# syntax\n",
    "while condition:\n",
    "    code goes here\n",
    "    if another_condition:\n",
    "        break\n",
    "```"
   ],
   "id": "4fc1ca30515fc023"
  },
  {
   "metadata": {},
   "cell_type": "markdown",
   "source": [
    "\n",
    "**Example:**"
   ],
   "id": "b58184f48ca23f12"
  },
  {
   "metadata": {},
   "cell_type": "code",
   "outputs": [],
   "execution_count": null,
   "source": [
    "count = 0\n",
    "while count < 5:\n",
    "    print(count)\n",
    "    count = count + 1\n",
    "    if count == 3:\n",
    "        break"
   ],
   "id": "8c69f5d93df6f2e7"
  },
  {
   "metadata": {},
   "cell_type": "markdown",
   "source": [
    "\n",
    "The above while loop only prints 0, 1, 2, but when it reaches 3 it stops.\n",
    "\n",
    "- Continue: With the continue statement we can skip the current iteration, and continue with the next:\n",
    "\n",
    "```py\n",
    "  # syntax\n",
    "while condition:\n",
    "    code goes here\n",
    "    if another_condition:\n",
    "        continue\n",
    "```\n",
    "\n",
    "**Example:**\n",
    "\n",
    "```py\n",
    "count = 0\n",
    "while count < 5:\n",
    "    if count == 3:\n",
    "        count = count + 1\n",
    "        continue\n",
    "    print(count)\n",
    "    count = count + 1\n",
    "```\n",
    "\n",
    "The above while loop only prints 0, 1, 2 and 4 (skips 3).\n",
    "\n",
    "### For Loop\n",
    "\n",
    "A _for_ keyword is used to make a for loop, similar with other programming languages, but with some syntax differences. Loop is used for iterating over a sequence (that is either a list, a tuple, a dictionary, a set, or a string).\n",
    "\n",
    "- For loop with list\n",
    "\n",
    "```py\n",
    "# syntax\n",
    "for iterator in lst:\n",
    "    code goes here\n",
    "```\n",
    "\n",
    "**Example:**\n",
    "\n",
    "```py\n",
    "numbers = [0, 1, 2, 3, 4, 5]\n",
    "for number in numbers: # number is temporary name to refer to the list's items, valid only inside this loop\n",
    "    print(number)       # the numbers will be printed line by line, from 0 to 5\n",
    "```\n",
    "\n",
    "- For loop with string\n",
    "\n",
    "```py\n",
    "# syntax\n",
    "for iterator in string:\n",
    "    code goes here\n",
    "```"
   ],
   "id": "5143b1becf739ecd"
  },
  {
   "metadata": {},
   "cell_type": "markdown",
   "source": [
    "\n",
    "**Example:**"
   ],
   "id": "d2289f6df50e00b3"
  },
  {
   "metadata": {},
   "cell_type": "code",
   "outputs": [],
   "execution_count": null,
   "source": [
    "\n",
    "language = 'Python'\n",
    "for letter in language:\n",
    "    print(letter)\n",
    "\n",
    "\n",
    "for i in range(len(language)):\n",
    "    print(language[i])\n"
   ],
   "id": "c59b21cfdad5cda8"
  },
  {
   "metadata": {},
   "cell_type": "markdown",
   "source": [
    "\n",
    "- For loop with tuple\n",
    "\n",
    "```py\n",
    "# syntax\n",
    "for iterator in tpl:\n",
    "    code goes here\n",
    "```"
   ],
   "id": "b3ef620058491d4e"
  },
  {
   "metadata": {},
   "cell_type": "markdown",
   "source": [
    "\n",
    "**Example:**"
   ],
   "id": "7bfafcd5a66c9350"
  },
  {
   "metadata": {},
   "cell_type": "code",
   "outputs": [],
   "execution_count": null,
   "source": [
    "\n",
    "numbers = (0, 1, 2, 3, 4, 5)\n",
    "for number in numbers:\n",
    "    print(number)\n"
   ],
   "id": "21e7ad2929a97dfa"
  },
  {
   "metadata": {},
   "cell_type": "markdown",
   "source": [
    "\n",
    "- For loop with dictionary\n",
    "  Looping through a dictionary gives you the key of the dictionary.\n",
    "\n",
    "```py\n",
    "  # syntax\n",
    "for iterator in dct:\n",
    "    code goes here\n",
    "```"
   ],
   "id": "ec0b6cc991d16341"
  },
  {
   "metadata": {},
   "cell_type": "markdown",
   "source": [
    "\n",
    "**Example:**"
   ],
   "id": "20883b1319f246a4"
  },
  {
   "metadata": {},
   "cell_type": "code",
   "source": [
    "person = {\n",
    "    'first_name':'Abhinav',\n",
    "    'last_name':'Omanakuttan',\n",
    "    'age':20,\n",
    "    'country':'India',\n",
    "    'is_marred':False,\n",
    "    'skills':['JavaScript', 'React', 'Node', 'MongoDB', 'Python'],\n",
    "    'address':{\n",
    "        'street':'Abcd efgh',\n",
    "        'zipcode':'0000'\n",
    "    }\n",
    "}\n",
    "for key in person:\n",
    "    print(key)\n",
    "\n",
    "for key, value in person.items():\n",
    "    print(key, value) # this way we get both keys and values printed out\n"
   ],
   "id": "e49f30eed9b9f0f5",
   "outputs": [],
   "execution_count": null
  },
  {
   "metadata": {},
   "cell_type": "markdown",
   "source": [
    "\n",
    "- Loops in set\n",
    "\n",
    "```py\n",
    "# syntax\n",
    "for iterator in st:\n",
    "    code goes here\n",
    "```\n",
    "\n",
    "**Example:**"
   ],
   "id": "1e596e1cbb850545"
  },
  {
   "metadata": {},
   "cell_type": "code",
   "outputs": [],
   "execution_count": null,
   "source": [
    "it_companies = {'Facebook', 'Google', 'Microsoft', 'Apple', 'IBM', 'Oracle', 'Amazon'}\n",
    "for company in it_companies:\n",
    "    print(company)\n"
   ],
   "id": "107310d9864d4243"
  },
  {
   "metadata": {},
   "cell_type": "markdown",
   "source": [
    "\n",
    "### Break and Continue - Part 2\n",
    "\n",
    "Short reminder:\n",
    "_Break_: We use break when we like to stop our loop before it is completed.\n",
    "\n",
    "```py\n",
    "# syntax\n",
    "for iterator in sequence:\n",
    "    code goes here\n",
    "    if condition:\n",
    "        break\n",
    "```"
   ],
   "id": "e38a105c0c1d601a"
  },
  {
   "metadata": {},
   "cell_type": "markdown",
   "source": [
    "\n",
    "**Example:**"
   ],
   "id": "ea823d98cfc581a8"
  },
  {
   "metadata": {},
   "cell_type": "code",
   "outputs": [],
   "execution_count": null,
   "source": [
    "numbers = (0,1,2,3,4,5)\n",
    "for number in numbers:\n",
    "    print(number)\n",
    "    if number == 3:\n",
    "        break"
   ],
   "id": "6028b9b068abcc23"
  },
  {
   "metadata": {},
   "cell_type": "markdown",
   "source": [
    "\n",
    "In the above example, the loop stops when it reaches 3."
   ],
   "id": "71cfa26d27189ad5"
  },
  {
   "metadata": {},
   "cell_type": "markdown",
   "source": [
    "\n",
    "Continue: We use continue when we like to skip some of the steps in the iteration of the loop.\n",
    "\n",
    "```py\n",
    "  # syntax\n",
    "for iterator in sequence:\n",
    "    code goes here\n",
    "    if condition:\n",
    "        continue\n",
    "```"
   ],
   "id": "e0366fec60ffac64"
  },
  {
   "metadata": {},
   "cell_type": "markdown",
   "source": [
    "\n",
    "**Example:**"
   ],
   "id": "53ae134103d459b3"
  },
  {
   "metadata": {},
   "cell_type": "code",
   "outputs": [],
   "execution_count": null,
   "source": [
    "numbers = (0,1,2,3,4,5)\n",
    "for number in numbers:\n",
    "    print(number)\n",
    "    if number == 3:\n",
    "        continue\n",
    "    print('Next number should be ', number + 1) if number != 5 else print(\"loop's end\") # for short hand conditions need both if and else statements\n",
    "print('outside the loop')\n"
   ],
   "id": "a687513af9c4cdb9"
  },
  {
   "metadata": {},
   "cell_type": "markdown",
   "source": [
    "\n",
    "In the example above, if the number equals 3, the step *after* the condition (but inside the loop) is skipped and the execution of the loop continues if there are any iterations left."
   ],
   "id": "3c04b4e31d91d560"
  },
  {
   "metadata": {},
   "cell_type": "markdown",
   "source": [
    "\n",
    "### The Range Function\n",
    "\n",
    "The _range()_ function is used list of numbers. The _range(start, end, step)_ takes three parameters: starting, ending and increment. By default it starts from 0 and the increment is 1. The range sequence needs at least 1 argument (end).\n",
    "Creating sequences using range"
   ],
   "id": "22227756ede8b949"
  },
  {
   "metadata": {},
   "cell_type": "code",
   "outputs": [],
   "execution_count": null,
   "source": [
    "lst = list(range(11)) \n",
    "print(lst) # [0, 1, 2, 3, 4, 5, 6, 7, 8, 9, 10]\n",
    "st = set(range(1, 11))    # 2 arguments indicate start and end of the sequence, step set to default 1\n",
    "print(st) # {1, 2, 3, 4, 5, 6, 7, 8, 9, 10}\n",
    "\n",
    "lst = list(range(0,11,2))\n",
    "print(lst) # [0, 2, 4, 6, 8, 10]\n",
    "st = set(range(0,11,2))\n",
    "print(st) #  {0, 2, 4, 6, 8, 10}\n"
   ],
   "id": "98ebe1ba7a00615a"
  },
  {
   "metadata": {},
   "cell_type": "markdown",
   "source": [
    "\n",
    "```py\n",
    "# syntax\n",
    "for iterator in range(start, end, step):\n",
    "```\n",
    "\n",
    "**Example:**"
   ],
   "id": "14ee0eece6f91428"
  },
  {
   "metadata": {},
   "cell_type": "markdown",
   "source": [
    "\n",
    "```py\n",
    "for number in range(11):\n",
    "    print(number)   # prints 0 to 10, not including 11\n",
    "```"
   ],
   "id": "181c66311b668958"
  },
  {
   "metadata": {},
   "cell_type": "markdown",
   "source": [
    "\n",
    "### Nested For Loop\n",
    "\n",
    "We can write loops inside a loop.\n",
    "\n",
    "```py\n",
    "# syntax\n",
    "for x in y:\n",
    "    for t in x:\n",
    "        print(t)\n",
    "```\n",
    "\n",
    "**Example:**"
   ],
   "id": "5327fa54f452f4c8"
  },
  {
   "metadata": {},
   "cell_type": "code",
   "source": [
    "person = {\n",
    "    'first_name': 'Abhinav',\n",
    "    'last_name': 'Omanakuttan',\n",
    "    'age': 20,\n",
    "    'country': 'India',\n",
    "    'is_marred': False,\n",
    "    'skills': ['JavaScript', 'React', 'Node', 'MongoDB', 'Python'],\n",
    "    'address': {\n",
    "        'street': 'abcd efgh',\n",
    "        'zipcode': '0000'\n",
    "    }\n",
    "}\n",
    "for key in person:\n",
    "    if key == 'skills':\n",
    "        for skill in person['skills']:\n",
    "            print(skill)\n"
   ],
   "id": "cc85118e9a582db7",
   "outputs": [],
   "execution_count": null
  },
  {
   "metadata": {},
   "cell_type": "markdown",
   "source": [
    "\n",
    "### For Else\n",
    "\n",
    "If we want to execute some message when the loop ends, we use else.\n",
    "\n",
    "```py\n",
    "# syntax\n",
    "for iterator in range(start, end, step):\n",
    "    do something\n",
    "else:\n",
    "    print('The loop ended')\n",
    "```\n",
    "\n",
    "**Example:**\n",
    "\n",
    "```py\n",
    "for number in range(11):\n",
    "    print(number)   # prints 0 to 10, not including 11\n",
    "else:\n",
    "    print('The loop stops at', number)\n",
    "```"
   ],
   "id": "a4ff611c8786bf2c"
  },
  {
   "metadata": {},
   "cell_type": "markdown",
   "source": [
    "\n",
    "### Pass\n",
    "\n",
    "In python when statement is required (after semicolon), but we don't like to execute any code there, we can write the word _pass_ to avoid errors. Also we can use it as a placeholder, for future statements.\n",
    "\n",
    "**Example:**\n",
    "\n",
    "```py\n",
    "for number in range(6):\n",
    "    pass\n",
    "```"
   ],
   "id": "7a44436b65c01b65"
  }
 ],
 "metadata": {
  "kernelspec": {
   "display_name": "Python 3",
   "language": "python",
   "name": "python3"
  },
  "language_info": {
   "codemirror_mode": {
    "name": "ipython",
    "version": 2
   },
   "file_extension": ".py",
   "mimetype": "text/x-python",
   "name": "python",
   "nbconvert_exporter": "python",
   "pygments_lexer": "ipython2",
   "version": "2.7.6"
  }
 },
 "nbformat": 4,
 "nbformat_minor": 5
}
