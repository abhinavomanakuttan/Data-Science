{
 "cells": [
  {
   "metadata": {},
   "cell_type": "markdown",
   "source": [
    "<h1>Built in functions</h1>\n",
    "<br>\n",
    "In Python we have lots of built-in functions. Built-in functions are globally available for your use that mean you can make use of the built-in functions without importing or configuring. Some of the most commonly used Python built-in functions are the following: print(), len(), type(), int(), float(), str(), input(), list(), dict(), min(), max(), sum(), sorted(), open(), file(), help(), and dir(). In the following table you will see an exhaustive list of Python built-in functions taken from python documentation."
   ],
   "id": "adab021f9cd3f4a4"
  },
  {
   "metadata": {},
   "cell_type": "markdown",
   "source": [
    " <html lang=\"en\">\n",
    "<head>\n",
    "    <meta charset=\"UTF-8\">\n",
    "    <meta name=\"viewport\" content=\"width=device-width, initial-scale=1.0\">\n",
    "    <title>Python Built-in Functions</title>\n",
    "</head>\n",
    "<body>\n",
    "    <h1>Python Built-in Functions</h1>\n",
    "<table border=\"1\" cellpadding=\"5\" cellspacing=\"0\">  \n",
    "  <tr>\n",
    "    <td>abs()</td>\n",
    "    <td>delattr()</td>\n",
    "    <td>hash()</td>\n",
    "    <td>memoryview()</td>\n",
    "  </tr>\n",
    "  <tr>\n",
    "    <td>all()</td>\n",
    "    <td>dict()</td>\n",
    "    <td>help()</td>\n",
    "    <td>min()</td>\n",
    "  </tr>\n",
    "  <tr>\n",
    "    <td>any()</td>\n",
    "    <td>dir()</td>\n",
    "    <td>hex()</td>\n",
    "    <td>next()</td>\n",
    "  </tr>\n",
    "  <tr>\n",
    "    <td>ascii()</td>\n",
    "    <td>divmod()</td>\n",
    "    <td>id()</td>\n",
    "    <td>object()</td>\n",
    "  </tr>\n",
    "  <tr>\n",
    "    <td>bin()</td>\n",
    "    <td>enumerate()</td>\n",
    "    <td>input()</td>\n",
    "    <td>oct()</td>\n",
    "  </tr>\n",
    "  <tr>\n",
    "    <td>bool()</td>\n",
    "    <td>eval()</td>\n",
    "    <td>int()</td>\n",
    "    <td>open()</td>\n",
    "  </tr>\n",
    "  <tr>\n",
    "    <td>breakpoint()</td>\n",
    "    <td>exec()</td>\n",
    "    <td>isinstance()</td>\n",
    "    <td>ord()</td>\n",
    "  </tr>\n",
    "  <tr>\n",
    "    <td>bytearray()</td>\n",
    "    <td>filter()</td>\n",
    "    <td>issubclass()</td>\n",
    "    <td>pow()</td>\n",
    "  </tr>\n",
    "  <tr>\n",
    "    <td>bytes()</td>\n",
    "    <td>float()</td>\n",
    "    <td>iter()</td>\n",
    "    <td>print()</td>\n",
    "  </tr>\n",
    "  <tr>\n",
    "    <td>callable()</td>\n",
    "    <td>format()</td>\n",
    "    <td>len()</td>\n",
    "    <td>property()</td>\n",
    "  </tr>\n",
    "  <tr>\n",
    "    <td>chr()</td>\n",
    "    <td>frozenset()</td>\n",
    "    <td>list()</td>\n",
    "    <td>range()</td>\n",
    "  </tr>\n",
    "  <tr>\n",
    "    <td>classmethod()</td>\n",
    "    <td>getattr()</td>\n",
    "    <td>locals()</td>\n",
    "    <td>repr()</td>\n",
    "  </tr>\n",
    "  <tr>\n",
    "    <td>compile()</td>\n",
    "    <td>globals()</td>\n",
    "    <td>map()</td>\n",
    "    <td>reversed()</td>\n",
    "  </tr>\n",
    "  <tr>\n",
    "    <td>complex()</td>\n",
    "    <td>hasattr()</td>\n",
    "    <td>max()</td>\n",
    "    <td>round()</td>\n",
    "  </tr>\n",
    "  <tr>\n",
    "    <td>set()</td>\n",
    "    <td>setattr()</td>\n",
    "    <td>slice()</td>\n",
    "    <td>sorted()</td>\n",
    "  </tr>\n",
    "  <tr>\n",
    "    <td>staticmethod()</td>\n",
    "    <td>str()</td>\n",
    "    <td>sum()</td>\n",
    "    <td>super()</td>\n",
    "  </tr>\n",
    "  <tr>\n",
    "    <td>tuple()</td>\n",
    "    <td>type()</td>\n",
    "    <td>vars()</td>\n",
    "    <td>zip()</td>\n",
    "  </tr>\n",
    "  <tr>\n",
    "    <td>__import__()</td>\n",
    "    <td colspan=\"3\"></td>\n",
    "  </tr>\n",
    "</table>\n",
    "</body>\n",
    "</html>\n"
   ],
   "id": "2d16b1d93d4570d8"
  },
  {
   "metadata": {},
   "cell_type": "markdown",
   "source": "<hr><h5>Let as start using some of the most common built-in functions.</h5><hr>",
   "id": "c9754d6ac234f184"
  },
  {
   "metadata": {
    "ExecuteTime": {
     "end_time": "2024-08-27T16:40:47.206128Z",
     "start_time": "2024-08-27T16:40:47.194830Z"
    }
   },
   "cell_type": "code",
   "source": "print(\"Hello World!\") # It prints the text value Hello World!",
   "id": "22face97144d17fc",
   "outputs": [
    {
     "name": "stdout",
     "output_type": "stream",
     "text": [
      "Hello World!\n"
     ]
    }
   ],
   "execution_count": 1
  },
  {
   "metadata": {
    "ExecuteTime": {
     "end_time": "2024-08-27T16:45:08.348797Z",
     "start_time": "2024-08-27T16:45:08.337903Z"
    }
   },
   "cell_type": "code",
   "source": "len('Hello World!') # It will give the length of the string",
   "id": "d092ca2cb8a780e4",
   "outputs": [
    {
     "data": {
      "text/plain": [
       "12"
      ]
     },
     "execution_count": 2,
     "metadata": {},
     "output_type": "execute_result"
    }
   ],
   "execution_count": 2
  },
  {
   "metadata": {
    "ExecuteTime": {
     "end_time": "2024-08-27T16:45:37.000332Z",
     "start_time": "2024-08-27T16:45:36.995190Z"
    }
   },
   "cell_type": "code",
   "source": [
    "# type('Hello World!') \n",
    "# It checks the data type  \n",
    "print(type('Hello World!'))"
   ],
   "id": "aef392ff932a7438",
   "outputs": [
    {
     "name": "stdout",
     "output_type": "stream",
     "text": [
      "<class 'str'>\n"
     ]
    }
   ],
   "execution_count": 3
  },
  {
   "metadata": {
    "ExecuteTime": {
     "end_time": "2024-08-27T16:55:40.079025Z",
     "start_time": "2024-08-27T16:55:40.066885Z"
    }
   },
   "cell_type": "code",
   "source": [
    "a = str(10) \n",
    "# it converts the number to string \n",
    "print(type(a))\n",
    "print(a)\n",
    "\n",
    "b = int(10)\n",
    "# it converts to number\n",
    "print(type(b))\n",
    "print(b)\n",
    "\n",
    "c = float(10)\n",
    "# it converts the integer to decimal  \n",
    "print(type(c))\n",
    "print(c)"
   ],
   "id": "22936fb9ca6774cd",
   "outputs": [
    {
     "name": "stdout",
     "output_type": "stream",
     "text": [
      "<class 'str'>\n",
      "10\n",
      "<class 'int'>\n",
      "10\n",
      "<class 'float'>\n",
      "10.0\n"
     ]
    }
   ],
   "execution_count": 13
  },
  {
   "metadata": {},
   "cell_type": "markdown",
   "source": "<hr><h5>Let us practice more by using different built-in functions</h5><hr>\n",
   "id": "e42cf3f7c758c5ad"
  },
  {
   "metadata": {},
   "cell_type": "code",
   "outputs": [
    {
     "name": "stdout",
     "output_type": "stream",
     "text": [
      "\n",
      "Here is a list of the Python keywords.  Enter any keyword to get more help.\n",
      "\n",
      "False               class               from                or\n",
      "None                continue            global              pass\n",
      "True                def                 if                  raise\n",
      "and                 del                 import              return\n",
      "as                  elif                in                  try\n",
      "assert              else                is                  while\n",
      "async               except              lambda              with\n",
      "await               finally             nonlocal            yield\n",
      "break               for                 not                 \n",
      "\n",
      "None\n"
     ]
    }
   ],
   "execution_count": 14,
   "source": "print(help('keywords'))",
   "id": "51165d4ad098640b"
  },
  {
   "metadata": {},
   "cell_type": "code",
   "outputs": [],
   "execution_count": null,
   "source": "help(str) # give information about string\n",
   "id": "c06098dbd8b18918"
  },
  {
   "metadata": {
    "ExecuteTime": {
     "end_time": "2024-08-27T16:58:44.837765Z",
     "start_time": "2024-08-27T16:58:44.829273Z"
    }
   },
   "cell_type": "code",
   "source": [
    "dir(str) # give information about string\n",
    "print(dir(str))"
   ],
   "id": "ffa59f77c9e5abe",
   "outputs": [
    {
     "name": "stdout",
     "output_type": "stream",
     "text": [
      "['__add__', '__class__', '__contains__', '__delattr__', '__dir__', '__doc__', '__eq__', '__format__', '__ge__', '__getattribute__', '__getitem__', '__getnewargs__', '__getstate__', '__gt__', '__hash__', '__init__', '__init_subclass__', '__iter__', '__le__', '__len__', '__lt__', '__mod__', '__mul__', '__ne__', '__new__', '__reduce__', '__reduce_ex__', '__repr__', '__rmod__', '__rmul__', '__setattr__', '__sizeof__', '__str__', '__subclasshook__', 'capitalize', 'casefold', 'center', 'count', 'encode', 'endswith', 'expandtabs', 'find', 'format', 'format_map', 'index', 'isalnum', 'isalpha', 'isascii', 'isdecimal', 'isdigit', 'isidentifier', 'islower', 'isnumeric', 'isprintable', 'isspace', 'istitle', 'isupper', 'join', 'ljust', 'lower', 'lstrip', 'maketrans', 'partition', 'removeprefix', 'removesuffix', 'replace', 'rfind', 'rindex', 'rjust', 'rpartition', 'rsplit', 'rstrip', 'split', 'splitlines', 'startswith', 'strip', 'swapcase', 'title', 'translate', 'upper', 'zfill']\n"
     ]
    }
   ],
   "execution_count": 16
  },
  {
   "metadata": {
    "ExecuteTime": {
     "end_time": "2024-08-27T17:06:31.180031Z",
     "start_time": "2024-08-27T17:06:31.174957Z"
    }
   },
   "cell_type": "code",
   "source": [
    "print(max(20,30,40,50,60,70,80,90,100)) #To print the maximum value in this list \n",
    "print(min(20,30,40,50,60,70,80,90,100)) #To print the minimum value in this list \n",
    "print(sum([20,30,40,50,60,70,80,90,100])) #To print the sum of all numbers in this list "
   ],
   "id": "ca9258c699afb375",
   "outputs": [
    {
     "name": "stdout",
     "output_type": "stream",
     "text": [
      "100\n",
      "20\n",
      "540\n"
     ]
    }
   ],
   "execution_count": 18
  }
 ],
 "metadata": {
  "kernelspec": {
   "display_name": "Python 3",
   "language": "python",
   "name": "python3"
  },
  "language_info": {
   "codemirror_mode": {
    "name": "ipython",
    "version": 2
   },
   "file_extension": ".py",
   "mimetype": "text/x-python",
   "name": "python",
   "nbconvert_exporter": "python",
   "pygments_lexer": "ipython2",
   "version": "2.7.6"
  }
 },
 "nbformat": 4,
 "nbformat_minor": 5
}
