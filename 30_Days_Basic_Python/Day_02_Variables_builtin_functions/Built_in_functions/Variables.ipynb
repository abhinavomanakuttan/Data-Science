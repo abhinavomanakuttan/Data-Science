{
 "cells": [
  {
   "metadata": {},
   "cell_type": "markdown",
   "source": [
    "<h3>Variables</h3>\n",
    "\n",
    "Variables store data in a computer memory. Mnemonic variables are recommended to use in many programming languages. A mnemonic variable is a variable name that can be easily remembered and associated. A variable refers to a memory address in which data is stored. Number at the beginning, special character, hyphen are not allowed when naming a variable. A variable can have a short name (like x, y, z), but a more descriptive name (firstname, lastname, age, country) is highly recommended.\n",
    "<br>\n",
    "\n",
    "Python Variable Name Rules\n",
    "\n",
    "<br>\n",
    "\n",
    "A variable name must start with a letter or the underscore character<br>\n",
    "A variable name cannot start with a number<br>\n",
    "A variable name can only contain alpha-numeric characters and underscores (A-z, 0-9, and _ )<br>\n",
    "Variable names are case-sensitive (firstname, Firstname, FirstName and FIRSTNAME) are different variables)<br>\n",
    "\n",
    "\n"
   ],
   "id": "a9733574364f4a07"
  },
  {
   "metadata": {},
   "cell_type": "markdown",
   "source": [
    "Here are some example of valid variable names:\n",
    "\n",
    "    firstname\n",
    "    lastname\n",
    "    age\n",
    "    country\n",
    "    city\n",
    "    first_name\n",
    "    last_name\n",
    "    capital_city\n",
    "    _if # if we want to use reserved word as a variable\n",
    "    year_2021\n",
    "    year2021\n",
    "    current_year_2021\n",
    "    birth_year\n",
    "    num1\n",
    "    num2"
   ],
   "id": "a2918d616bce259b"
  },
  {
   "metadata": {},
   "cell_type": "markdown",
   "source": [
    "Invalid variables names\n",
    "\n",
    "    first-name\n",
    "    first@name\n",
    "    first$name\n",
    "    num-1\n",
    "    1num"
   ],
   "id": "2fe3cbda6c4fd7e1"
  },
  {
   "metadata": {},
   "cell_type": "markdown",
   "source": [
    "We will use standard Python variable naming style which has been adopted by many Python developers. Python developers use snake case(snake_case) variable naming convention. We use underscore character after each word for a variable containing more than one word(eg. first_name, last_name, engine_rotation_speed).  The example below is an example of standard naming of variables, underscore is required when the variable name is more than one word.\n",
    "\n",
    "When we assign a certain data type to a variable, it is called variable declaration. For instance in the example below my first name is assigned to a variable first_name. The equal sign is an assignment operator. Assigning means storing data in the variable. The equal sign in Python is not equality as in Mathematics.\n"
   ],
   "id": "dadb681794c4675a"
  },
  {
   "metadata": {},
   "cell_type": "markdown",
   "source": [
    "Example\n",
    "\n",
    "#Variables in Python\n",
    "    \n",
    "    first_name = 'Abhinav'\n",
    "    last_name = 'Omanakuttan'\n",
    "    country = 'India'\n",
    "    city = 'pathanamthitta'\n",
    "    age = 20\n",
    "    is_married = Fals\n",
    "    skills = ['HTML', 'CSS', 'JS', 'React', 'Python']\n",
    "    person_info = {\n",
    "     'firstname':'Abhinav',\n",
    "     'lastname':'Omanakuttan',\n",
    "     'country':'India',\n",
    "     'city':'pathanamthitta'\n",
    "     }\n",
    "\n"
   ],
   "id": "a353965b25b19491"
  },
  {
   "metadata": {},
   "cell_type": "markdown",
   "source": "Let us use the print() and len() built-in functions. Print function takes unlimited number of arguments. An argument is a value which we can be passed or put inside the function parenthesis, see the example below.",
   "id": "7d8717792133c263"
  },
  {
   "metadata": {},
   "cell_type": "markdown",
   "source": "Example\n",
   "id": "21f6ca3490ec0f9e"
  },
  {
   "metadata": {
    "ExecuteTime": {
     "end_time": "2024-08-27T18:02:13.674405Z",
     "start_time": "2024-08-27T18:02:13.662808Z"
    }
   },
   "cell_type": "code",
   "source": [
    "print('Hello, World !') # The text Hello, World! is an argument\n",
    "print('Hello',',', 'World','!') # it can take multiple arguments, four arguments have been passed\n",
    "print(len('Hello, World!')) # it takes only one argument"
   ],
   "id": "c2b9be1c33e7ff30",
   "outputs": [
    {
     "name": "stdout",
     "output_type": "stream",
     "text": [
      "Hello, World!\n",
      "Hello , World !\n",
      "13\n"
     ]
    }
   ],
   "execution_count": 1
  },
  {
   "metadata": {},
   "cell_type": "markdown",
   "source": [
    "Let us print and also find the length of the variables declared at the top:\n",
    "\n"
   ],
   "id": "5ad5b5e95a74dc43"
  },
  {
   "metadata": {
    "ExecuteTime": {
     "end_time": "2024-08-27T18:08:05.602057Z",
     "start_time": "2024-08-27T18:08:05.595422Z"
    }
   },
   "cell_type": "code",
   "source": [
    "# Variables in Python\n",
    "first_name = 'Abhinav'\n",
    "last_name = 'Omanakuttan'\n",
    "country = 'India'\n",
    "city = 'pathanamthitta'\n",
    "age = 250\n",
    "is_married = False\n",
    "skills = ['HTML', 'CSS', 'JS', 'C', 'Python']\n",
    "person_info = {\n",
    "   'firstname':'Abhinav',\n",
    "   'lastname':'Omanakuttan',\n",
    "   'country':'India',\n",
    "   'city':'pathanamthitta'\n",
    "   }\n",
    "# Printing the values stored in the variables\n",
    "print('First name:', first_name)\n",
    "print('First name length:', len(first_name))\n",
    "print('Last name: ', last_name)\n",
    "print('Last name length: ', len(last_name))\n",
    "print('Country: ', country)\n",
    "print('City: ', city)\n",
    "print('Age: ', age)\n",
    "print('Married: ', is_married)\n",
    "print('Skills: ', skills)\n",
    "print('Person information: ', person_info)"
   ],
   "id": "5ef78b0f37edbace",
   "outputs": [
    {
     "name": "stdout",
     "output_type": "stream",
     "text": [
      "First name: Abhinav\n",
      "First name length: 7\n",
      "Last name:  Omanakuttan\n",
      "Last name length:  11\n",
      "Country:  India\n",
      "City:  pathanamthitta\n",
      "Age:  250\n",
      "Married:  False\n",
      "Skills:  ['HTML', 'CSS', 'JS', 'C', 'Python']\n",
      "Person information:  {'firstname': 'Abhinav', 'lastname': 'Omanakuttan', 'country': 'India', 'city': 'pathanamthitta'}\n"
     ]
    }
   ],
   "execution_count": 3
  },
  {
   "metadata": {},
   "cell_type": "markdown",
   "source": [
    "<h4>Checking Data types and Casting</h4>\n",
    "\n",
    "Check Data types: To check the data type of certain data/variable we use the type Example:"
   ],
   "id": "ecf806ed9fc2d521"
  },
  {
   "metadata": {
    "ExecuteTime": {
     "end_time": "2024-08-28T03:56:13.462521Z",
     "start_time": "2024-08-28T03:56:13.453720Z"
    }
   },
   "cell_type": "code",
   "source": [
    "# Different python data types\n",
    "# Let's declare variables with various data types\n",
    "\n",
    "first_name = 'Abhinav'     # str\n",
    "last_name = 'Omanakuttan'       # str\n",
    "country = 'India'         # str\n",
    "city= 'Konni'            # str\n",
    "age = 20                   # int, it is not my real age, don't worry about it\n",
    "\n",
    "# Printing out types\n",
    "print(type('Abhinav'))     # str\n",
    "print(type(first_name))     # str\n",
    "print(type(10))             # int\n",
    "print(type(3.14))           # float\n",
    "print(type(1 + 1j))         # complex\n",
    "print(type(True))           # bool\n",
    "print(type([1, 2, 3, 4]))     # list\n",
    "print(type({'name':'Abhinav','age':20, 'is_married':20}))    # dict\n",
    "print(type((1,2)))                                              # tuple\n",
    "print(type(zip([1,2],[3,4])))                                   # set"
   ],
   "id": "3a08e8db82cd66f5",
   "outputs": [
    {
     "name": "stdout",
     "output_type": "stream",
     "text": [
      "<class 'str'>\n",
      "<class 'str'>\n",
      "<class 'int'>\n",
      "<class 'float'>\n",
      "<class 'complex'>\n",
      "<class 'bool'>\n",
      "<class 'list'>\n",
      "<class 'dict'>\n",
      "<class 'tuple'>\n",
      "<class 'zip'>\n"
     ]
    }
   ],
   "execution_count": 1
  },
  {
   "metadata": {},
   "cell_type": "markdown",
   "source": "Casting: Converting one data type to another data type. We use int(), float(), str(), list, set When we do arithmetic operations string numbers should be first converted to int or float otherwise it will return an error. If we concatenate a number with a string, the number should be first converted to a string. We will talk about concatenation in String section.",
   "id": "141504a4c535fb55"
  },
  {
   "metadata": {},
   "cell_type": "markdown",
   "source": "Example:",
   "id": "c5ddd10566e8689"
  },
  {
   "metadata": {},
   "cell_type": "code",
   "outputs": [],
   "execution_count": null,
   "source": [
    "# int to float\n",
    "num_int = 10\n",
    "print('num_int',num_int)         # 10\n",
    "num_float = float(num_int)\n",
    "print('num_float:', num_float)   # 10.0\n",
    "\n",
    "# float to int\n",
    "gravity = 9.81\n",
    "print(int(gravity))             # 9\n",
    "\n",
    "# int to str\n",
    "num_int = 10\n",
    "print(num_int)                  # 10\n",
    "num_str = str(num_int)\n",
    "print(num_str)                  # '10'\n",
    "\n",
    "# str to int or float\n",
    "num_str = '10.6'\n",
    "print('num_int', int(num_str))      # 10\n",
    "print('num_float', float(num_str))  # 10.6\n",
    "\n",
    "# str to list\n",
    "first_name = 'Abhinav'\n",
    "print(first_name)               # 'Abhinav'\n",
    "first_name_to_list = list(first_name)\n",
    "print(first_name_to_list)            # ['A', 'b', 'h', 'i', 'n', 'a', 'v']"
   ],
   "id": "f460682eb059ec46"
  },
  {
   "metadata": {},
   "cell_type": "markdown",
   "source": [
    "<h3>Numbers</h3>\n",
    "\n",
    "Number data types in Python:\n",
    "\n",
    "1. Integers: Integer(negative, zero and positive) numbers Example: ... -3, -2, -1, 0, 1, 2, 3 ...\n",
    "\n",
    "2. Floating Point Numbers(Decimal numbers) Example: ... -3.5, -2.25, -1.0, 0.0, 1.1, 2.2, 3.5 ...\n",
    "\n",
    "3. Complex Numbers Example: 1 + j, 2 + 4j, 1 - 1j"
   ],
   "id": "67d46f4f36b2d06b"
  },
  {
   "metadata": {},
   "cell_type": "code",
   "outputs": [],
   "execution_count": null,
   "source": "",
   "id": "6d2217394bca10af"
  }
 ],
 "metadata": {
  "kernelspec": {
   "display_name": "Python 3",
   "language": "python",
   "name": "python3"
  },
  "language_info": {
   "codemirror_mode": {
    "name": "ipython",
    "version": 2
   },
   "file_extension": ".py",
   "mimetype": "text/x-python",
   "name": "python",
   "nbconvert_exporter": "python",
   "pygments_lexer": "ipython2",
   "version": "2.7.6"
  }
 },
 "nbformat": 4,
 "nbformat_minor": 5
}
