{
 "cells": [
  {
   "cell_type": "markdown",
   "id": "a40c3612f9d3d0c3",
   "metadata": {},
   "source": [
    "# 📘 Day 13"
   ]
  },
  {
   "cell_type": "markdown",
   "id": "11763294d93a1ff0",
   "metadata": {},
   "source": [
    "\n",
    "## List Comprehension\n",
    "\n",
    "List comprehension in Python is a compact way of creating a list from a sequence. It is a short way to create a new list. List comprehension is considerably faster than processing a list using the _for_ loop.\n",
    "\n",
    "```py\n",
    "# syntax\n",
    "[i for i in iterable if expression]\n",
    "```"
   ]
  },
  {
   "cell_type": "markdown",
   "id": "1556a009584129f1",
   "metadata": {},
   "source": [
    "\n",
    "**Example:1**\n",
    "\n",
    "For instance if you want to change a string to a list of characters. You can use a couple of methods. Let's see some of them:"
   ]
  },
  {
   "cell_type": "code",
   "execution_count": null,
   "id": "4d4a059e4a312500",
   "metadata": {},
   "outputs": [],
   "source": [
    "# One way\n",
    "language = 'Python'\n",
    "lst = list(language) # changing the string to list\n",
    "print(type(lst))     # list\n",
    "print(lst)           # ['P', 'y', 't', 'h', 'o', 'n']\n",
    "\n",
    "# Second way: list comprehension\n",
    "lst = [i for i in language]\n",
    "print(type(lst)) # list\n",
    "print(lst)       # ['P', 'y', 't', 'h', 'o', 'n']"
   ]
  },
  {
   "cell_type": "markdown",
   "id": "b65890386a033a54",
   "metadata": {},
   "source": [
    "\n",
    "**Example:2**\n",
    "\n",
    "For instance if you want to generate a list of numbers"
   ]
  },
  {
   "cell_type": "code",
   "execution_count": null,
   "id": "9ccf4dfaa0842fbb",
   "metadata": {},
   "outputs": [],
   "source": [
    "# Generating numbers\n",
    "numbers = [i for i in range(11)]  # to generate numbers from 0 to 10\n",
    "print(numbers)                    # [0, 1, 2, 3, 4, 5, 6, 7, 8, 9, 10]\n",
    "\n",
    "# It is possible to do mathematical operations during iteration\n",
    "squares = [i * i for i in range(11)]\n",
    "print(squares)                    # [0, 1, 4, 9, 16, 25, 36, 49, 64, 81, 100]\n",
    "\n",
    "# It is also possible to make a list of tuples\n",
    "numbers = [(i, i * i) for i in range(11)]\n",
    "print(numbers)                             # [(0, 0), (1, 1), (2, 4), (3, 9), (4, 16), (5, 25)]"
   ]
  },
  {
   "cell_type": "markdown",
   "id": "e73ce89da2a9ede8",
   "metadata": {},
   "source": [
    "\n",
    "**Example:2**\n",
    "\n",
    "List comprehension can be combined with if expression\n"
   ]
  },
  {
   "cell_type": "code",
   "execution_count": null,
   "id": "398262975daeb199",
   "metadata": {},
   "outputs": [],
   "source": [
    "# Generating even numbers\n",
    "even_numbers = [i for i in range(21) if i % 2 == 0]  # to generate even numbers list in range 0 to 21\n",
    "print(even_numbers)                    # [0, 2, 4, 6, 8, 10, 12, 14, 16, 18, 20]\n",
    "\n",
    "# Generating odd numbers\n",
    "odd_numbers = [i for i in range(21) if i % 2 != 0]  # to generate odd numbers in range 0 to 21\n",
    "print(odd_numbers)                      # [1, 3, 5, 7, 9, 11, 13, 15, 17, 19]\n",
    "# Filter numbers: let's filter out positive even numbers from the list below\n",
    "numbers = [-8, -7, -3, -1, 0, 1, 3, 4, 5, 7, 6, 8, 10]\n",
    "positive_even_numbers = [i for i in range(21) if i % 2 == 0 and i > 0]\n",
    "print(positive_even_numbers)                    # [2, 4, 6, 8, 10, 12, 14, 16, 18, 20]\n",
    "\n",
    "# Flattening a three dimensional array\n",
    "list_of_lists = [[1, 2, 3], [4, 5, 6], [7, 8, 9]]\n",
    "flattened_list = [ number for row in list_of_lists for number in row]\n",
    "print(flattened_list)    # [1, 2, 3, 4, 5, 6, 7, 8, 9]\n"
   ]
  },
  {
   "cell_type": "markdown",
   "id": "cd648dc2ee6754b1",
   "metadata": {},
   "source": [
    "\n",
    "## Lambda Function\n",
    "\n",
    "Lambda function is a small anonymous function without a name. It can take any number of arguments, but can only have one expression. Lambda function is similar to anonymous functions in JavaScript. We need it when we want to write an anonymous function inside another function."
   ]
  },
  {
   "cell_type": "markdown",
   "id": "34567cf51a809c9b",
   "metadata": {},
   "source": [
    "\n",
    "### Creating a Lambda Function\n",
    "\n",
    "To create a lambda function we use _lambda_ keyword followed by a parameter(s), followed by an expression. See the syntax and the example below. Lambda function does not use return but it explicitly returns the expression.\n",
    "\n",
    "```py\n",
    "# syntax\n",
    "x = lambda param1, param2, param3: param1 + param2 + param2\n",
    "print(x(arg1, arg2, arg3))\n",
    "```"
   ]
  },
  {
   "cell_type": "markdown",
   "id": "63ec48e7dd7d000c",
   "metadata": {},
   "source": [
    "\n",
    "**Example:**"
   ]
  },
  {
   "cell_type": "code",
   "execution_count": null,
   "id": "a6346bd95f78d206",
   "metadata": {},
   "outputs": [],
   "source": [
    "# Named function\n",
    "def add_two_nums(a, b):\n",
    "    return a + b\n",
    "\n",
    "print(add_two_nums(2, 3))     # 5\n",
    "# Lets change the above function to a lambda function\n",
    "add_two_nums = lambda a, b: a + b\n",
    "print(add_two_nums(2,3))    # 5\n",
    "\n",
    "# Self invoking lambda function\n",
    "(lambda a, b: a + b)(2,3) # 5 - need to encapsulate it in print() to see the result in the console\n",
    "\n",
    "square = lambda x : x ** 2\n",
    "print(square(3))    # 9\n",
    "cube = lambda x : x ** 3\n",
    "print(cube(3))    # 27\n",
    "\n",
    "# Multiple variables\n",
    "multiple_variable = lambda a, b, c: a ** 2 - 3 * b + 4 * c\n",
    "print(multiple_variable(5, 5, 3)) # 22"
   ]
  },
  {
   "cell_type": "markdown",
   "id": "c6e38bd6a6f17a22",
   "metadata": {},
   "source": [
    "\n",
    "### Lambda Function Inside Another Function\n",
    "\n",
    "Using a lambda function inside another function."
   ]
  },
  {
   "cell_type": "code",
   "execution_count": null,
   "id": "a65266006444d1c5",
   "metadata": {},
   "outputs": [],
   "source": [
    "\n",
    "def power(x):\n",
    "    return lambda n : x ** n\n",
    "\n",
    "cube = power(2)(3)   # function power now need 2 arguments to run, in separate rounded brackets\n",
    "print(cube)          # 8\n",
    "two_power_of_five = power(2)(5) \n",
    "print(two_power_of_five)  # 32"
   ]
  }
 ],
 "metadata": {
  "kernelspec": {
   "display_name": "Python 3 (ipykernel)",
   "language": "python",
   "name": "python3"
  },
  "language_info": {
   "codemirror_mode": {
    "name": "ipython",
    "version": 3
   },
   "file_extension": ".py",
   "mimetype": "text/x-python",
   "name": "python",
   "nbconvert_exporter": "python",
   "pygments_lexer": "ipython3",
   "version": "3.12.4"
  }
 },
 "nbformat": 4,
 "nbformat_minor": 5
}
