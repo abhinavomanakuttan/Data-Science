{
 "cells": [
  {
   "cell_type": "code",
   "execution_count": null,
   "id": "initial_id",
   "metadata": {
    "collapsed": true
   },
   "outputs": [],
   "source": [
    ""
   ]
  },
  {
   "metadata": {},
   "cell_type": "markdown",
   "source": [
    "## Boolean\n",
    "\n",
    "A boolean data type represents one of the two values: _True_ or _False_. The use of these data types will be clear once we start using the comparison operator. The first letter **T** for True and **F** for False should be capital unlike JavaScript.\n",
    "**Example: Boolean Values**\n",
    "\n",
    "```py\n",
    "print(True)\n",
    "print(False)\n",
    "```"
   ],
   "id": "c698f1aec198e538"
  },
  {
   "metadata": {},
   "cell_type": "markdown",
   "source": [
    "## Operators\n",
    "\n",
    "Python language supports several types of operators.We will focus on few of them."
   ],
   "id": "849754cfff54b328"
  },
  {
   "metadata": {},
   "cell_type": "markdown",
   "source": "",
   "id": "66176dfd1db674c5"
  },
  {
   "metadata": {},
   "cell_type": "markdown",
   "source": [
    "\n",
    "### Assignment Operators\n",
    "\n",
    "Assignment operators are used to assign values to variables. Let us take = as an example. Equal sign in mathematics shows that two values are equal, however in Python it means we are storing a value in a certain variable and we call it assignment or a assigning value to a variable. The table below shows the different types of python assignment operators, taken from [w3school](https://www.w3schools.com/python/python_operators.asp).\n"
   ],
   "id": "266a39174c9ed4cc"
  },
  {
   "metadata": {},
   "cell_type": "markdown",
   "source": [
    "<table border=\"1\" cellpadding=\"5\" cellspacing=\"0\">\n",
    "  <tr>\n",
    "    <th>Operator</th>\n",
    "    <th>Description</th>\n",
    "  </tr>\n",
    "  <tr>\n",
    "    <td>=</td>\n",
    "    <td>Assigns a value to a variable</td>\n",
    "  </tr>\n",
    "  <tr>\n",
    "    <td>+=</td>\n",
    "    <td>Adds and assigns the result to the variable</td>\n",
    "  </tr>\n",
    "  <tr>\n",
    "    <td>-=</td>\n",
    "    <td>Subtracts and assigns the result to the variable</td>\n",
    "  </tr>\n",
    "  <tr>\n",
    "    <td>*=</td>\n",
    "    <td>Multiplies and assigns the result to the variable</td>\n",
    "  </tr>\n",
    "  <tr>\n",
    "    <td>/=</td>\n",
    "    <td>Divides and assigns the result to the variable</td>\n",
    "  </tr>\n",
    "  <tr>\n",
    "    <td>%=</td>\n",
    "    <td>Performs modulus and assigns the result to the variable</td>\n",
    "  </tr>\n",
    "  <tr>\n",
    "    <td>//=</td>\n",
    "    <td>Performs floor division and assigns the result to the variable</td>\n",
    "  </tr>\n",
    "  <tr>\n",
    "    <td>**=</td>\n",
    "    <td>Performs exponentiation and assigns the result to the variable</td>\n",
    "  </tr>\n",
    "  <tr>\n",
    "    <td>&=</td>\n",
    "    <td>Performs bitwise AND and assigns the result to the variable</td>\n",
    "  </tr>\n",
    "  <tr>\n",
    "    <td>|=</td>\n",
    "    <td>Performs bitwise OR and assigns the result to the variable</td>\n",
    "  </tr>\n",
    "  <tr>\n",
    "    <td>^=</td>\n",
    "    <td>Performs bitwise XOR and assigns the result to the variable</td>\n",
    "  </tr>\n",
    "  <tr>\n",
    "    <td>&lt;&lt;=</td>\n",
    "    <td>Performs bitwise left shift and assigns the result to the variable</td>\n",
    "  </tr>\n",
    "  <tr>\n",
    "    <td>&gt;&gt;=</td>\n",
    "    <td>Performs bitwise right shift and assigns the result to the variable</td>\n",
    "  </tr>\n",
    "</table>\n"
   ],
   "id": "f968e2127a464a"
  },
  {
   "metadata": {},
   "cell_type": "markdown",
   "source": [
    "### Arithmetic Operators:\n",
    "\n",
    "- Addition(+): a + b\n",
    "- Subtraction(-): a - b\n",
    "- Multiplication(*): a * b\n",
    "- Division(/): a / b\n",
    "- Modulus(%): a % b\n",
    "- Floor division(//): a // b\n",
    "- Exponentiation(**): a ** b"
   ],
   "id": "d8e3d1db0082bb94"
  },
  {
   "metadata": {},
   "cell_type": "markdown",
   "source": [
    "<table border=\"1\" cellpadding=\"5\" cellspacing=\"0\">\n",
    "  <tr>\n",
    "    <th>Operator</th>\n",
    "    <th>Description</th>\n",
    "    <th>Example</th>\n",
    "  </tr>\n",
    "  <tr>\n",
    "    <td>+</td>\n",
    "    <td>Addition</td>\n",
    "    <td>3 + 2 = 5</td>\n",
    "  </tr>\n",
    "  <tr>\n",
    "    <td>-</td>\n",
    "    <td>Subtraction</td>\n",
    "    <td>5 - 2 = 3</td>\n",
    "  </tr>\n",
    "  <tr>\n",
    "    <td>*</td>\n",
    "    <td>Multiplication</td>\n",
    "    <td>3 * 2 = 6</td>\n",
    "  </tr>\n",
    "  <tr>\n",
    "    <td>/</td>\n",
    "    <td>Division</td>\n",
    "    <td>6 / 2 = 3.0</td>\n",
    "  </tr>\n",
    "  <tr>\n",
    "    <td>%</td>\n",
    "    <td>Modulus</td>\n",
    "    <td>5 % 2 = 1</td>\n",
    "  </tr>\n",
    "  <tr>\n",
    "    <td>**</td>\n",
    "    <td>Exponentiation</td>\n",
    "    <td>3 ** 2 = 9</td>\n",
    "  </tr>\n",
    "  <tr>\n",
    "    <td>//</td>\n",
    "    <td>Floor Division</td>\n",
    "    <td>7 // 2 = 3</td>\n",
    "  </tr>\n",
    "</table>\n"
   ],
   "id": "b836b51ee9097746"
  },
  {
   "metadata": {},
   "cell_type": "markdown",
   "source": "**Example:Integers**",
   "id": "46ba84a0f6a3b42e"
  },
  {
   "metadata": {},
   "cell_type": "code",
   "source": [
    "# Arithmetic Operations in Python\n",
    "# Integers\n",
    "\n",
    "print('Addition: ', 1 + 2)        # 3\n",
    "print('Subtraction: ', 2 - 1)     # 1\n",
    "print('Multiplication: ', 2 * 3)  # 6\n",
    "print ('Division: ', 4 / 2)       # 2.0  Division in Python gives floating number\n",
    "print('Division: ', 6 / 2)        # 3.0         \n",
    "print('Division: ', 7 / 2)        # 3.5\n",
    "print('Division without the remainder: ', 7 // 2)   # 3,  gives without the floating number or without the remaining\n",
    "print ('Division without the remainder: ',7 // 3)   # 2\n",
    "print('Modulus: ', 3 % 2)         # 1, Gives the remainder\n",
    "print('Exponentiation: ', 2 ** 3) # 9 it means 2 * 2 * 2"
   ],
   "id": "489382242a8cebc2",
   "outputs": [],
   "execution_count": null
  },
  {
   "metadata": {},
   "cell_type": "markdown",
   "source": "**Example:Floats**",
   "id": "688301dbaad2bdfa"
  },
  {
   "metadata": {},
   "cell_type": "code",
   "outputs": [],
   "execution_count": null,
   "source": [
    "# Floating numbers\n",
    "print('Floating Point Number, PI', 3.14)\n",
    "print('Floating Point Number, gravity', 9.81)\n"
   ],
   "id": "21b671a752a96f04"
  },
  {
   "metadata": {},
   "cell_type": "markdown",
   "source": "**Example:Complex numbers**",
   "id": "ad0a70ef0aea9727"
  },
  {
   "metadata": {},
   "cell_type": "code",
   "outputs": [],
   "execution_count": null,
   "source": [
    "# Complex numbers\n",
    "print('Complex number: ', 1 + 1j)\n",
    "print('Multiplying complex numbers: ',(1 + 1j) * (1 - 1j))\n"
   ],
   "id": "e303292f3fc34f60"
  },
  {
   "metadata": {},
   "cell_type": "markdown",
   "source": [
    "Let's declare a variable and assign a number data type. I am going to use single character variable but remember do not develop a habit of declaring such types of variables. Variable names should be all the time mnemonic.\n",
    "\n",
    "**Example:**"
   ],
   "id": "2b13850f367c3b2f"
  },
  {
   "metadata": {},
   "cell_type": "code",
   "outputs": [],
   "execution_count": null,
   "source": [
    "# Declaring the variable at the top first\n",
    "\n",
    "a = 3 # a is a variable name and 3 is an integer data type\n",
    "b = 2 # b is a variable name and 3 is an integer data type\n",
    "\n",
    "# Arithmetic operations and assigning the result to a variable\n",
    "total = a + b\n",
    "diff = a - b\n",
    "product = a * b\n",
    "division = a / b\n",
    "remainder = a % b\n",
    "floor_division = a // b\n",
    "exponential = a ** b\n",
    "\n",
    "# I should have used sum instead of total but sum is a built-in function - try to avoid overriding built-in functions\n",
    "print(total) # if you do not label your print with some string, you never know where the result is coming from\n",
    "print('a + b = ', total)\n",
    "print('a - b = ', diff)\n",
    "print('a * b = ', product)\n",
    "print('a / b = ', division)\n",
    "print('a % b = ', remainder)\n",
    "print('a // b = ', floor_division)\n",
    "print('a ** b = ', exponential)"
   ],
   "id": "3d2e11abd86cfbc2"
  },
  {
   "metadata": {},
   "cell_type": "markdown",
   "source": "**Example:**\n",
   "id": "e18626bff5098fb5"
  },
  {
   "metadata": {},
   "cell_type": "code",
   "outputs": [],
   "execution_count": null,
   "source": [
    "print('== Addition, Subtraction, Multiplication, Division, Modulus ==')\n",
    "\n",
    "# Declaring values and organizing them together\n",
    "num_one = 3\n",
    "num_two = 4\n",
    "\n",
    "# Arithmetic operations\n",
    "total = num_one + num_two\n",
    "diff = num_two - num_one\n",
    "product = num_one * num_two\n",
    "div = num_two / num_one\n",
    "remainder = num_two % num_one\n",
    "\n",
    "# Printing values with label\n",
    "print('total: ', total)\n",
    "print('difference: ', diff)\n",
    "print('product: ', product)\n",
    "print('division: ', div)\n",
    "print('remainder: ', remainder)\n"
   ],
   "id": "d24b5ef8f91cbc37"
  },
  {
   "metadata": {},
   "cell_type": "markdown",
   "source": [
    "\n",
    "Let us start connecting the dots and start making use of what we already know to calculate (area, volume,density,  weight, perimeter, distance, force).\n",
    "\n",
    "**Example:**"
   ],
   "id": "eb1fd842331de73e"
  },
  {
   "metadata": {},
   "cell_type": "code",
   "outputs": [],
   "execution_count": null,
   "source": [
    "\n",
    "# Calculating area of a circle\n",
    "radius = 10                                 # radius of a circle\n",
    "area_of_circle = 3.14 * radius ** 2         # two * sign means exponent or power\n",
    "print('Area of a circle:', area_of_circle)\n",
    "\n",
    "# Calculating area of a rectangle\n",
    "length = 10\n",
    "width = 20\n",
    "area_of_rectangle = length * width\n",
    "print('Area of rectangle:', area_of_rectangle)\n",
    "\n",
    "# Calculating a weight of an object\n",
    "mass = 75\n",
    "gravity = 9.81\n",
    "weight = mass * gravity\n",
    "print(weight, 'N')                         # Adding unit to the weight\n",
    "\n",
    "# Calculate the density of a liquid\n",
    "mass = 75 # in Kg\n",
    "volume = 0.075 # in cubic meter\n",
    "density = mass / volume # 1000 Kg/m^3\n"
   ],
   "id": "21a2708988359502"
  },
  {
   "metadata": {},
   "cell_type": "markdown",
   "source": [
    "\n",
    "\n",
    "### Comparison Operators\n",
    "\n",
    "In programming we compare values, we use comparison operators to compare two values. We check if a value is greater or less or equal to other value. The following table shows Python comparison operators which was taken from [w3shool](https://www.w3schools.com/python/python_operators.asp).\n"
   ],
   "id": "e5e4544dadb422c9"
  },
  {
   "metadata": {},
   "cell_type": "markdown",
   "source": [
    "<table border=\"1\" cellpadding=\"5\" cellspacing=\"0\">\n",
    "  <tr>\n",
    "    <th>Operator</th>\n",
    "    <th>Name</th>\n",
    "    <th>Description</th>\n",
    "  </tr>\n",
    "  <tr>\n",
    "    <td>==</td>\n",
    "    <td>Equal</td>\n",
    "    <td>True if the operands are equal</td>\n",
    "  </tr>\n",
    "  <tr>\n",
    "    <td>!=</td>\n",
    "    <td>Not Equal</td>\n",
    "    <td>True if the operands are not equal</td>\n",
    "  </tr>\n",
    "  <tr>\n",
    "    <td>&gt;</td>\n",
    "    <td>Greater Than</td>\n",
    "    <td>True if the left operand is greater than the right</td>\n",
    "  </tr>\n",
    "  <tr>\n",
    "    <td>&lt;</td>\n",
    "    <td>Less Than</td>\n",
    "    <td>True if the left operand is less than the right</td>\n",
    "  </tr>\n",
    "  <tr>\n",
    "    <td>&gt;=</td>\n",
    "    <td>Greater Than or Equal To</td>\n",
    "    <td>True if the left operand is greater than or equal to the right</td>\n",
    "  </tr>\n",
    "  <tr>\n",
    "    <td>&lt;=</td>\n",
    "    <td>Less Than or Equal To</td>\n",
    "    <td>True if the left operand is less than or equal to the right</td>\n",
    "  </tr>\n",
    "  <tr>\n",
    "    <td>is</td>\n",
    "    <td>Identity</td>\n",
    "    <td>True if the operands are identical (refer to the same object)</td>\n",
    "  </tr>\n",
    "  <tr>\n",
    "    <td>is not</td>\n",
    "    <td>Not Identity</td>\n",
    "    <td>True if the operands are not identical (do not refer to the same object)</td>\n",
    "  </tr>\n",
    "  <tr>\n",
    "    <td>in</td>\n",
    "    <td>Membership</td>\n",
    "    <td>True if the left operand is in the right</td>\n",
    "  </tr>\n",
    "  <tr>\n",
    "    <td>not in</td>\n",
    "    <td>Not Membership</td>\n",
    "    <td>True if the left operand is not in the right</td>\n",
    "  </tr>\n",
    "</table>\n"
   ],
   "id": "72d3299d84b4ddfb"
  },
  {
   "metadata": {},
   "cell_type": "markdown",
   "source": "**Example: Comparison Operators**",
   "id": "d23bd03567f3d951"
  },
  {
   "metadata": {},
   "cell_type": "code",
   "outputs": [],
   "execution_count": null,
   "source": [
    "print(3 > 2)     # True, because 3 is greater than 2\n",
    "print(3 >= 2)    # True, because 3 is greater than 2\n",
    "print(3 < 2)     # False,  because 3 is greater than 2\n",
    "print(2 < 3)     # True, because 2 is less than 3\n",
    "print(2 <= 3)    # True, because 2 is less than 3\n",
    "print(3 == 2)    # False, because 3 is not equal to 2\n",
    "print(3 != 2)    # True, because 3 is not equal to 2\n",
    "print(len('mango') == len('avocado'))  # False\n",
    "print(len('mango') != len('avocado'))  # True\n",
    "print(len('mango') < len('avocado'))   # True\n",
    "print(len('milk') != len('meat'))      # False\n",
    "print(len('milk') == len('meat'))      # True\n",
    "print(len('tomato') == len('potato'))  # True\n",
    "print(len('python') > len('dragon'))   # False\n",
    "\n",
    "\n",
    "# Comparing something gives either a True or False\n",
    "\n",
    "print('True == True: ', True == True)\n",
    "print('True == False: ', True == False)\n",
    "print('False == False:', False == False)\n"
   ],
   "id": "1f011bcdd1cecefe"
  },
  {
   "metadata": {},
   "cell_type": "markdown",
   "source": [
    "In addition to the above comparison operator Python uses:\n",
    "\n",
    "- _is_: Returns true if both variables are the same object(x is y)\n",
    "- _is not_: Returns true if both variables are not the same object(x is not y)\n",
    "- _in_: Returns True if the queried list contains a certain item(x in y)\n",
    "- _not in_: Returns True if the queried list doesn't have a certain item(x in y)"
   ],
   "id": "ba3bfeee813fdebd"
  },
  {
   "metadata": {},
   "cell_type": "code",
   "source": [
    "print('1 is 1', 1 is 1)                   # True - because the data values are the same\n",
    "print('1 is not 2', 1 is not 2)           # True - because 1 is not 2\n",
    "print('A in Abhinav', 'A' in 'Abhinav') # True - A found in the string\n",
    "print('B in Abhinav', 'B' in 'Abhinav') # False - there is no uppercase B\n",
    "print('coding' in 'coding for all') # True - because coding for all has the word coding\n",
    "print('a in an:', 'a' in 'an')      # True\n",
    "print('4 is 2 ** 2:', 4 is 2 ** 2)   # True\n"
   ],
   "id": "7ffddf7118766f8",
   "outputs": [],
   "execution_count": null
  },
  {
   "metadata": {},
   "cell_type": "markdown",
   "source": [
    "\n",
    "### Logical Operators\n",
    "\n",
    "Unlike other programming languages python uses keywords _and_, _or_ and _not_ for logical operators. Logical operators are used to combine conditional statements:"
   ],
   "id": "fef072025fddd8a4"
  },
  {
   "metadata": {},
   "cell_type": "markdown",
   "source": [
    "<table border=\"1\" cellpadding=\"5\" cellspacing=\"0\">\n",
    "  <tr>\n",
    "    <th>Logical Operator</th>\n",
    "    <th>Description</th>\n",
    "  </tr>\n",
    "  <tr>\n",
    "    <td><strong>and</strong></td>\n",
    "    <td>Returns True if both statements are true</td>\n",
    "  </tr>\n",
    "  <tr>\n",
    "    <td><strong>or</strong></td>\n",
    "    <td>Returns True if one of the statements is true</td>\n",
    "  </tr>\n",
    "  <tr>\n",
    "    <td><strong>not</strong></td>\n",
    "    <td>Reverses the result, returns False if the result is true</td>\n",
    "  </tr>\n",
    "</table>\n"
   ],
   "id": "35d7b9c21b981fe9"
  },
  {
   "metadata": {},
   "cell_type": "code",
   "source": [
    "print(3 > 2 and 4 > 3) # True - because both statements are true\n",
    "print(3 > 2 and 4 < 3) # False - because the second statement is false\n",
    "print(3 < 2 and 4 < 3) # False - because both statements are false\n",
    "print('True and True: ', True and True)\n",
    "print(3 > 2 or 4 > 3)  # True - because both statements are true\n",
    "print(3 > 2 or 4 < 3)  # True - because one of the statements is true\n",
    "print(3 < 2 or 4 < 3)  # False - because both statements are false\n",
    "print('True or False:', True or False)\n",
    "print(not 3 > 2)     # False - because 3 > 2 is true, then not True gives False\n",
    "print(not True)      # False - Negation, the not operator turns true to false\n",
    "print(not False)     # True\n",
    "print(not not True)  # True\n",
    "print(not not False) # False"
   ],
   "id": "25d5a80f43d85d4b",
   "outputs": [],
   "execution_count": null
  }
 ],
 "metadata": {
  "kernelspec": {
   "display_name": "Python 3",
   "language": "python",
   "name": "python3"
  },
  "language_info": {
   "codemirror_mode": {
    "name": "ipython",
    "version": 2
   },
   "file_extension": ".py",
   "mimetype": "text/x-python",
   "name": "python",
   "nbconvert_exporter": "python",
   "pygments_lexer": "ipython2",
   "version": "2.7.6"
  }
 },
 "nbformat": 4,
 "nbformat_minor": 5
}
