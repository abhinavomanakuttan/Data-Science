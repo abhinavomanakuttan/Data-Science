{
 "cells": [
  {
   "cell_type": "code",
   "id": "ba391218811d86a1",
   "metadata": {
    "collapsed": true,
    "ExecuteTime": {
     "end_time": "2024-12-27T06:25:48.293336Z",
     "start_time": "2024-12-27T06:25:48.285251Z"
    }
   },
   "source": "# 📘 Day 14",
   "outputs": [],
   "execution_count": 1
  },
  {
   "metadata": {},
   "cell_type": "markdown",
   "source": [
    "\n",
    "## Higher Order Functions\n",
    "\n",
    "In Python functions are treated as first class citizens, allowing you to perform the following operations on functions:\n",
    "\n",
    "- A function can take one or more functions as parameters\n",
    "- A function can be returned as a result of another function\n",
    "- A function can be modified\n",
    "- A function can be assigned to a variable\n",
    "\n",
    "In this section, we will cover:\n",
    "\n",
    "1. Handling functions as parameters\n",
    "2. Returning functions as return value from another functions\n",
    "3. Using Python closures and decorators"
   ],
   "id": "62d6035e115f94d"
  },
  {
   "metadata": {
    "ExecuteTime": {
     "end_time": "2024-12-27T06:25:48.321120Z",
     "start_time": "2024-12-27T06:25:48.314284Z"
    }
   },
   "cell_type": "code",
   "source": [
    "\n",
    "### Function as a Parameter\n",
    "\n",
    "def sum_numbers(nums):  # normal function\n",
    "    return sum(nums)    # a sad function abusing the built-in sum function :<\n",
    "\n",
    "def higher_order_function(f, lst):  # function as a parameter\n",
    "    summation = f(lst)\n",
    "    return summation\n",
    "result = higher_order_function(sum_numbers, [1, 2, 3, 4, 5])\n",
    "print(result)       # 15\n"
   ],
   "id": "93864eeac108ed86",
   "outputs": [
    {
     "name": "stdout",
     "output_type": "stream",
     "text": [
      "15\n"
     ]
    }
   ],
   "execution_count": 2
  },
  {
   "metadata": {
    "ExecuteTime": {
     "end_time": "2024-12-27T06:25:48.370140Z",
     "start_time": "2024-12-27T06:25:48.356803Z"
    }
   },
   "cell_type": "code",
   "source": [
    "\n",
    "### Function as a Return Value\n",
    "\n",
    "\n",
    "def square(x):          # a square function\n",
    "    return x ** 2\n",
    "\n",
    "def cube(x):            # a cube function\n",
    "    return x ** 3\n",
    "\n",
    "def absolute(x):        # an absolute value function\n",
    "    if x >= 0:\n",
    "        return x\n",
    "    else:\n",
    "        return -(x)\n",
    "\n",
    "def higher_order_function(type): # a higher order function returning a function\n",
    "    if type == 'square':\n",
    "        return square\n",
    "    elif type == 'cube':\n",
    "        return cube\n",
    "    elif type == 'absolute':\n",
    "        return absolute\n",
    "\n",
    "result = higher_order_function('square')\n",
    "print(result(3))       # 9\n",
    "result = higher_order_function('cube')\n",
    "print(result(3))       # 27\n",
    "result = higher_order_function('absolute')\n",
    "print(result(-3))      # 3\n",
    "\n",
    "'''\n",
    "You can see from the above example that the higher order function is returning different functions depending on the passed parameter\n",
    "'''"
   ],
   "id": "8623d2306f5e1fc",
   "outputs": [
    {
     "name": "stdout",
     "output_type": "stream",
     "text": [
      "9\n",
      "27\n",
      "3\n"
     ]
    },
    {
     "data": {
      "text/plain": [
       "'\\nYou can see from the above example that the higher order function is returning different functions depending on the passed parameter\\n'"
      ]
     },
     "execution_count": 3,
     "metadata": {},
     "output_type": "execute_result"
    }
   ],
   "execution_count": 3
  },
  {
   "metadata": {},
   "cell_type": "markdown",
   "source": [
    "\n",
    "## Python Closures\n",
    "\n",
    "Python allows a nested function to access the outer scope of the enclosing function. This is is known as a Closure. Let us have a look at how closures work in Python. In Python, closure is created by nesting a function inside another encapsulating function and then returning the inner function. See the example below.\n",
    "\n",
    "**Example:**"
   ],
   "id": "74b6ed815dbe442f"
  },
  {
   "metadata": {
    "ExecuteTime": {
     "end_time": "2024-12-27T06:25:48.479694Z",
     "start_time": "2024-12-27T06:25:48.474765Z"
    }
   },
   "cell_type": "code",
   "source": [
    "\n",
    "def add_ten():\n",
    "    ten = 10\n",
    "    def add(num):\n",
    "        return num + ten\n",
    "    return add\n",
    "\n",
    "closure_result = add_ten()\n",
    "print(closure_result(5))  # 15\n",
    "print(closure_result(10))  # 20\n"
   ],
   "id": "810650e184f21dbe",
   "outputs": [
    {
     "name": "stdout",
     "output_type": "stream",
     "text": [
      "15\n",
      "20\n"
     ]
    }
   ],
   "execution_count": 4
  },
  {
   "metadata": {},
   "cell_type": "markdown",
   "source": [
    "\n",
    "## Python Decorators\n",
    "\n",
    "A decorator is a design pattern in Python that allows a user to add new functionality to an existing object without modifying its structure. Decorators are usually called before the definition of a function you want to decorate.\n",
    "\n",
    "### Creating Decorators\n",
    "\n",
    "To create a decorator function, we need an outer function with an inner wrapper function."
   ],
   "id": "4db3626aa91922f6"
  },
  {
   "metadata": {},
   "cell_type": "markdown",
   "source": [
    "\n",
    "**Example:**"
   ],
   "id": "819ab549ad6835bd"
  },
  {
   "metadata": {
    "ExecuteTime": {
     "end_time": "2024-12-27T06:25:48.527902Z",
     "start_time": "2024-12-27T06:25:48.521822Z"
    }
   },
   "cell_type": "code",
   "source": [
    "\n",
    "# Normal function\n",
    "def greeting():\n",
    "    return 'Welcome to Python'\n",
    "def uppercase_decorator(function):\n",
    "    def wrapper():\n",
    "        func = function()\n",
    "        make_uppercase = func.upper()\n",
    "        return make_uppercase\n",
    "    return wrapper\n",
    "g = uppercase_decorator(greeting)\n",
    "print(g())          # WELCOME TO PYTHON\n",
    "\n",
    "## Let us implement the example above with a decorator\n",
    "\n",
    "'''This decorator function is a higher order function\n",
    "that takes a function as a parameter'''\n",
    "def uppercase_decorator(function):\n",
    "    def wrapper():\n",
    "        func = function()\n",
    "        make_uppercase = func.upper()\n",
    "        return make_uppercase\n",
    "    return wrapper\n",
    "@uppercase_decorator\n",
    "def greeting():\n",
    "    return 'Welcome to Python'\n",
    "print(greeting())   # WELCOME TO PYTHON\n",
    "\n"
   ],
   "id": "f31488cf59d9a55f",
   "outputs": [
    {
     "name": "stdout",
     "output_type": "stream",
     "text": [
      "WELCOME TO PYTHON\n",
      "WELCOME TO PYTHON\n"
     ]
    }
   ],
   "execution_count": 5
  },
  {
   "metadata": {},
   "cell_type": "markdown",
   "source": [
    "\n",
    "### Applying Multiple Decorators to a Single Function\n"
   ],
   "id": "66eb68c94be1c750"
  },
  {
   "metadata": {
    "ExecuteTime": {
     "end_time": "2024-12-27T06:25:48.599097Z",
     "start_time": "2024-12-27T06:25:48.591319Z"
    }
   },
   "cell_type": "code",
   "source": [
    "\n",
    "'''These decorator functions are higher order functions\n",
    "that take functions as parameters'''\n",
    "\n",
    "# First Decorator\n",
    "def uppercase_decorator(function):\n",
    "    def wrapper():\n",
    "        func = function()\n",
    "        make_uppercase = func.upper()\n",
    "        return make_uppercase\n",
    "    return wrapper\n",
    "\n",
    "# Second decorator\n",
    "def split_string_decorator(function):\n",
    "    def wrapper():\n",
    "        func = function()\n",
    "        splitted_string = func.split()\n",
    "        return splitted_string\n",
    "\n",
    "    return wrapper\n",
    "\n",
    "@split_string_decorator\n",
    "@uppercase_decorator     # order with decorators is important in this case - .upper() function does not work with lists\n",
    "def greeting():\n",
    "    return 'Welcome to Python'\n",
    "print(greeting())   # WELCOME TO PYTHON\n"
   ],
   "id": "a42c8198a2658210",
   "outputs": [
    {
     "name": "stdout",
     "output_type": "stream",
     "text": [
      "['WELCOME', 'TO', 'PYTHON']\n"
     ]
    }
   ],
   "execution_count": 6
  },
  {
   "metadata": {},
   "cell_type": "markdown",
   "source": [
    "\n",
    "### Accepting Parameters in Decorator Functions\n",
    "\n",
    "Most of the time we need our functions to take parameters, so we might need to define a decorator that accepts parameters."
   ],
   "id": "557b8b322306762e"
  },
  {
   "metadata": {
    "ExecuteTime": {
     "end_time": "2024-12-27T06:25:48.641911Z",
     "start_time": "2024-12-27T06:25:48.636670Z"
    }
   },
   "cell_type": "code",
   "source": [
    "def decorator_with_parameters(function):\n",
    "    def wrapper_accepting_parameters(para1, para2, para3):\n",
    "        function(para1, para2, para3)\n",
    "        print(\"I live in {}\".format(para3))\n",
    "    return wrapper_accepting_parameters\n",
    "\n",
    "@decorator_with_parameters\n",
    "def print_full_name(first_name, last_name, country):\n",
    "    print(\"I am {} {}. I love to teach.\".format(\n",
    "        first_name, last_name, country))\n",
    "\n",
    "print_full_name(\"Asabeneh\", \"Yetayeh\",'Finland')\n"
   ],
   "id": "facbb819a6d2e62c",
   "outputs": [
    {
     "name": "stdout",
     "output_type": "stream",
     "text": [
      "I am Asabeneh Yetayeh. I love to teach.\n",
      "I live in Finland\n"
     ]
    }
   ],
   "execution_count": 7
  },
  {
   "metadata": {},
   "cell_type": "markdown",
   "source": [
    "\n",
    "## Built-in Higher Order Functions\n",
    "\n",
    "Some of the built-in higher order functions that we cover in this part are _map()_, _filter_, and _reduce_.\n",
    "Lambda function can be passed as a parameter and the best use case of lambda functions is in functions like map, filter and reduce.\n",
    "\n",
    "### Python - Map Function\n",
    "\n",
    "The map() function is a built-in function that takes a function and iterable as parameters.\n",
    "\n",
    "```py\n",
    "    # syntax\n",
    "    map(function, iterable)\n",
    "```"
   ],
   "id": "f0a6d8a3431197fc"
  },
  {
   "metadata": {},
   "cell_type": "markdown",
   "source": [
    "\n",
    "**Example:1**"
   ],
   "id": "355db0761edae8e5"
  },
  {
   "metadata": {
    "ExecuteTime": {
     "end_time": "2024-12-27T06:25:48.690829Z",
     "start_time": "2024-12-27T06:25:48.685481Z"
    }
   },
   "cell_type": "code",
   "source": [
    "\n",
    "\n",
    "numbers = [1, 2, 3, 4, 5] # iterable\n",
    "def square(x):\n",
    "    return x ** 2\n",
    "numbers_squared = map(square, numbers)\n",
    "print(list(numbers_squared))    # [1, 4, 9, 16, 25]\n",
    "# Lets apply it with a lambda function\n",
    "numbers_squared = map(lambda x : x ** 2, numbers)\n",
    "print(list(numbers_squared))    # [1, 4, 9, 16, 25]\n"
   ],
   "id": "a0c5547aab388667",
   "outputs": [
    {
     "name": "stdout",
     "output_type": "stream",
     "text": [
      "[1, 4, 9, 16, 25]\n",
      "[1, 4, 9, 16, 25]\n"
     ]
    }
   ],
   "execution_count": 8
  },
  {
   "metadata": {},
   "cell_type": "markdown",
   "source": [
    "\n",
    "**Example:2**"
   ],
   "id": "67c3a36787e5cc7a"
  },
  {
   "metadata": {
    "ExecuteTime": {
     "end_time": "2024-12-27T06:25:48.725611Z",
     "start_time": "2024-12-27T06:25:48.720819Z"
    }
   },
   "cell_type": "code",
   "source": [
    "\n",
    "\n",
    "numbers_str = ['1', '2', '3', '4', '5']  # iterable\n",
    "numbers_int = map(int, numbers_str)\n",
    "print(list(numbers_int))    # [1, 2, 3, 4, 5]"
   ],
   "id": "5a01184e9922e75e",
   "outputs": [
    {
     "name": "stdout",
     "output_type": "stream",
     "text": [
      "[1, 2, 3, 4, 5]\n"
     ]
    }
   ],
   "execution_count": 9
  },
  {
   "metadata": {},
   "cell_type": "markdown",
   "source": [
    "\n",
    "**Example:3**"
   ],
   "id": "eb00ef34847ae46b"
  },
  {
   "metadata": {
    "ExecuteTime": {
     "end_time": "2024-12-27T06:25:48.788899Z",
     "start_time": "2024-12-27T06:25:48.779021Z"
    }
   },
   "cell_type": "code",
   "source": [
    "\n",
    "names = ['Asabeneh', 'Lidiya', 'Ermias', 'Abraham']  # iterable\n",
    "\n",
    "def change_to_upper(name):\n",
    "    return name.upper()\n",
    "\n",
    "names_upper_cased = map(change_to_upper, names)\n",
    "print(list(names_upper_cased))    # ['ASABENEH', 'LIDIYA', 'ERMIAS', 'ABRAHAM']\n",
    "\n",
    "# Let us apply it with a lambda function\n",
    "names_upper_cased = map(lambda name: name.upper(), names)\n",
    "print(list(names_upper_cased))    # ['ASABENEH', 'LIDIYA', 'ERMIAS', 'ABRAHAM']\n",
    "\n",
    "'''\n",
    "What actually map does is iterating over a list. For instance, it changes the names to upper case and returns a new list.\n",
    "'''"
   ],
   "id": "f4fc61d77c1de8eb",
   "outputs": [
    {
     "name": "stdout",
     "output_type": "stream",
     "text": [
      "['ASABENEH', 'LIDIYA', 'ERMIAS', 'ABRAHAM']\n",
      "['ASABENEH', 'LIDIYA', 'ERMIAS', 'ABRAHAM']\n"
     ]
    },
    {
     "data": {
      "text/plain": [
       "'\\nWhat actually map does is iterating over a list. For instance, it changes the names to upper case and returns a new list.\\n'"
      ]
     },
     "execution_count": 10,
     "metadata": {},
     "output_type": "execute_result"
    }
   ],
   "execution_count": 10
  },
  {
   "metadata": {},
   "cell_type": "markdown",
   "source": [
    "\n",
    "### Python - Filter Function\n",
    "\n",
    "The filter() function calls the specified function which returns boolean for each item of the specified iterable (list). It filters the items that satisfy the filtering criteria.\n",
    "\n",
    "```py\n",
    "    # syntax\n",
    "    filter(function, iterable)\n",
    "```"
   ],
   "id": "3fc49bf1ca3b6965"
  },
  {
   "metadata": {},
   "cell_type": "markdown",
   "source": [
    "\n",
    "**Example:1**"
   ],
   "id": "64029ed06b221c2b"
  },
  {
   "metadata": {
    "ExecuteTime": {
     "end_time": "2024-12-27T06:25:48.827441Z",
     "start_time": "2024-12-27T06:25:48.816774Z"
    }
   },
   "cell_type": "code",
   "source": [
    "\n",
    "# Lets filter only even nubers\n",
    "numbers = [1, 2, 3, 4, 5]  # iterable\n",
    "\n",
    "def is_even(num):\n",
    "    if num % 2 == 0:\n",
    "        return True\n",
    "    return False\n",
    "\n",
    "even_numbers = filter(is_even, numbers)\n",
    "print(list(even_numbers))       # [2, 4]\n"
   ],
   "id": "16703d4828ab3014",
   "outputs": [
    {
     "name": "stdout",
     "output_type": "stream",
     "text": [
      "[2, 4]\n"
     ]
    }
   ],
   "execution_count": 11
  },
  {
   "metadata": {},
   "cell_type": "markdown",
   "source": [
    "\n",
    "**Example:2**"
   ],
   "id": "966e780f395cf3d7"
  },
  {
   "metadata": {
    "ExecuteTime": {
     "end_time": "2024-12-27T06:25:48.903122Z",
     "start_time": "2024-12-27T06:25:48.897946Z"
    }
   },
   "cell_type": "code",
   "source": [
    "\n",
    "numbers = [1, 2, 3, 4, 5]  # iterable\n",
    "\n",
    "def is_odd(num):\n",
    "    if num % 2 != 0:\n",
    "        return True\n",
    "    return False\n",
    "\n",
    "odd_numbers = filter(is_odd, numbers)\n",
    "print(list(odd_numbers))       # [1, 3, 5]\n"
   ],
   "id": "a76176a3e84b92ec",
   "outputs": [
    {
     "name": "stdout",
     "output_type": "stream",
     "text": [
      "[1, 3, 5]\n"
     ]
    }
   ],
   "execution_count": 12
  },
  {
   "metadata": {
    "ExecuteTime": {
     "end_time": "2024-12-27T06:25:48.924958Z",
     "start_time": "2024-12-27T06:25:48.919169Z"
    }
   },
   "cell_type": "code",
   "source": [
    "\n",
    "# Filter long name\n",
    "names = ['Asabeneh', 'Lidiya', 'Ermias', 'Abraham']  # iterable\n",
    "def is_name_long(name):\n",
    "    if len(name) > 7:\n",
    "        return True\n",
    "    return False\n",
    "\n",
    "long_names = filter(is_name_long, names)\n",
    "print(list(long_names))         # ['Asabeneh']\n"
   ],
   "id": "425db82c8e9e57a7",
   "outputs": [
    {
     "name": "stdout",
     "output_type": "stream",
     "text": [
      "['Asabeneh']\n"
     ]
    }
   ],
   "execution_count": 13
  },
  {
   "metadata": {},
   "cell_type": "markdown",
   "source": [
    "\n",
    "### Python - Reduce Function\n",
    "\n",
    "The _reduce()_ function is defined in the functools module and we should import it from this module. Like map and filter it takes two parameters, a function and an iterable. However, it does not return another iterable, instead it returns a single value.\n",
    "**Example:1**"
   ],
   "id": "9356b29f2bb31c92"
  },
  {
   "metadata": {
    "ExecuteTime": {
     "end_time": "2024-12-27T06:27:18.742132Z",
     "start_time": "2024-12-27T06:27:18.731376Z"
    }
   },
   "cell_type": "code",
   "source": [
    "from functools import reduce  # Import reduce from functools\n",
    "\n",
    "numbers_str = ['1', '2', '3', '4', '5']  # iterable\n",
    "\n",
    "def add_two_nums(x, y):\n",
    "    return int(x) + int(y)\n",
    "\n",
    "total = reduce(add_two_nums, numbers_str)\n",
    "print(total)    # 15\n"
   ],
   "id": "317d949882426961",
   "outputs": [
    {
     "name": "stdout",
     "output_type": "stream",
     "text": [
      "15\n"
     ]
    }
   ],
   "execution_count": 15
  }
 ],
 "metadata": {
  "kernelspec": {
   "display_name": "Python 3",
   "language": "python",
   "name": "python3"
  },
  "language_info": {
   "codemirror_mode": {
    "name": "ipython",
    "version": 2
   },
   "file_extension": ".py",
   "mimetype": "text/x-python",
   "name": "python",
   "nbconvert_exporter": "python",
   "pygments_lexer": "ipython2",
   "version": "2.7.6"
  }
 },
 "nbformat": 4,
 "nbformat_minor": 5
}
