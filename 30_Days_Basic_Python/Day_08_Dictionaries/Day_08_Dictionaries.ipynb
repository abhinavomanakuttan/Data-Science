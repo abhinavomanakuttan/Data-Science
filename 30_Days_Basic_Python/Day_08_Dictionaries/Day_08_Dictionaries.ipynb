{
 "cells": [
  {
   "metadata": {},
   "cell_type": "markdown",
   "source": "# 📘 Day 8",
   "id": "b6b9cee3ff5e8f96"
  },
  {
   "metadata": {},
   "cell_type": "markdown",
   "source": [
    "\n",
    "## Dictionaries\n",
    "\n",
    "A dictionary is a collection of unordered, modifiable(mutable) paired (key: value) data type."
   ],
   "id": "d767c197dc8abc6f"
  },
  {
   "metadata": {},
   "cell_type": "markdown",
   "source": [
    "\n",
    "### Creating a Dictionary\n",
    "\n",
    "To create a dictionary we use curly brackets, {} or the *dict()* built-in function."
   ],
   "id": "dd65de5439ea130c"
  },
  {
   "metadata": {},
   "cell_type": "code",
   "outputs": [],
   "execution_count": null,
   "source": [
    "# syntax\n",
    "empty_dict = {}\n",
    "# Dictionary with data values\n",
    "dct = {'key1':'value1', 'key2':'value2', 'key3':'value3', 'key4':'value4'}"
   ],
   "id": "b16ee8724050565b"
  },
  {
   "metadata": {},
   "cell_type": "markdown",
   "source": [
    "\n",
    "**Example:**"
   ],
   "id": "ac990b766efcc8a9"
  },
  {
   "metadata": {},
   "cell_type": "code",
   "outputs": [],
   "execution_count": null,
   "source": [
    "person = {\n",
    "    'first_name':'Abhinav',\n",
    "    'last_name':'Omanakuttan',\n",
    "    'age':20,\n",
    "    'country':'India',\n",
    "    'is_marred':False,\n",
    "    'skills':['JavaScript', 'React', 'Node', 'MongoDB', 'Python'],\n",
    "    'address':{\n",
    "        'street':'Abcd efgh',\n",
    "        'zipcode':'00000'\n",
    "    }\n",
    "    }\n"
   ],
   "id": "4cdcbb1e31d43ac1"
  },
  {
   "metadata": {},
   "cell_type": "markdown",
   "source": [
    "<br>\n",
    "The dictionary above shows that a value could be any data types:string, boolean, list, tuple, set or a dictionary.\n",
    "\n",
    "### Dictionary Length\n",
    "\n",
    "It checks the number of 'key: value' pairs in the dictionary.\n",
    "\n",
    "```py\n",
    "# syntax\n",
    "dct = {'key1':'value1', 'key2':'value2', 'key3':'value3', 'key4':'value4'}\n",
    "print(len(dct)) # 4\n",
    "```\n",
    "\n",
    "**Example:**"
   ],
   "id": "ddf3f53a4f14a22b"
  },
  {
   "metadata": {},
   "cell_type": "code",
   "outputs": [],
   "execution_count": null,
   "source": [
    "person = {\n",
    "    'first_name':'Abhinav',\n",
    "    'last_name':'Omanakuttan',\n",
    "    'age':20,\n",
    "    'country':'India',\n",
    "    'is_marred':False,\n",
    "    'skills':['JavaScript', 'React', 'Node', 'MongoDB', 'Python'],\n",
    "    'address':{\n",
    "        'street':'Space street',\n",
    "        'zipcode':'02210'\n",
    "    }\n",
    "    }\n",
    "print(len(person)) # 7\n"
   ],
   "id": "ffbd8ff0e6d623e6"
  },
  {
   "metadata": {},
   "cell_type": "markdown",
   "source": [
    "\n",
    "### Accessing Dictionary Items\n",
    "\n",
    "We can access Dictionary items by referring to its key name.\n",
    "\n",
    "```py\n",
    "# syntax\n",
    "dct = {'key1':'value1', 'key2':'value2', 'key3':'value3', 'key4':'value4'}\n",
    "print(dct['key1']) # value1\n",
    "print(dct['key4']) # value4\n",
    "```\n",
    "\n",
    "**Example:**"
   ],
   "id": "bc77a3a5c7ec2665"
  },
  {
   "metadata": {},
   "cell_type": "code",
   "outputs": [],
   "execution_count": null,
   "source": [
    "person = {\n",
    "    'first_name':'Abhinav',\n",
    "    'last_name':'Omanakuttan',\n",
    "    'age':20,\n",
    "    'country':'India',\n",
    "    'is_marred':False,\n",
    "    'skills':['JavaScript', 'React', 'Node', 'MongoDB', 'Python'],\n",
    "    'address':{\n",
    "        'street':'abcd efgh',\n",
    "        'zipcode':'00000'\n",
    "    }\n",
    "    }\n",
    "print(person['first_name']) \n",
    "print(person['country'])    \n",
    "print(person['skills'])     # ['JavaScript', 'React', 'Node', 'MongoDB', 'Python']\n",
    "print(person['skills'][0])  # JavaScript\n",
    "print(person['address']['street']) # Space street\n",
    "print(person['city'])       # Error\n"
   ],
   "id": "bd346153dae286ca"
  },
  {
   "metadata": {},
   "cell_type": "markdown",
   "source": [
    "\n",
    "Accessing an item by key name raises an error if the key does not exist. To avoid this error first we have to check if a key exist or we can use the _get_ method. The get method returns None, which is a NoneType object data type, if the key does not exist."
   ],
   "id": "c8600e0055556997"
  },
  {
   "metadata": {},
   "cell_type": "code",
   "outputs": [],
   "execution_count": null,
   "source": [
    "person = {\n",
    "    'first_name':'Abhinav',\n",
    "    'last_name':'Omanakuttan',\n",
    "    'age':20,\n",
    "    'country':'India',\n",
    "    'is_marred':False,\n",
    "    'skills':['JavaScript', 'React', 'Node', 'MongoDB', 'Python'],\n",
    "    'address':{\n",
    "        'street':'Abcd efgh',\n",
    "        'zipcode':'000'\n",
    "    }\n",
    "    }\n",
    "print(person.get('first_name')) \n",
    "print(person.get('country'))   \n",
    "print(person.get('skills')) #['HTML','CSS','JavaScript', 'React', 'Node', 'MongoDB', 'Python']\n",
    "print(person.get('city'))   # None\n"
   ],
   "id": "b9eb6ff9dba51534"
  },
  {
   "metadata": {},
   "cell_type": "markdown",
   "source": [
    "\n",
    "### Adding Items to a Dictionary\n",
    "\n",
    "We can add new key and value pairs to a dictionary\n",
    "\n",
    "```py\n",
    "# syntax\n",
    "dct = {'key1':'value1', 'key2':'value2', 'key3':'value3', 'key4':'value4'}\n",
    "dct['key5'] = 'value5'\n",
    "```\n",
    "\n",
    "**Example:**"
   ],
   "id": "71f55062ed17a31b"
  },
  {
   "metadata": {},
   "cell_type": "code",
   "source": [
    "person = {\n",
    "    'first_name':'Abhinav',\n",
    "    'last_name':'Omanakuttan',\n",
    "    'age':20,\n",
    "    'country':'India',\n",
    "    'is_marred':False,\n",
    "    'skills':['JavaScript', 'React', 'Node', 'MongoDB', 'Python'],\n",
    "    'address':{\n",
    "        'street':'Abcd efgh',\n",
    "        'zipcode':'000'\n",
    "    }\n",
    "    }\n",
    "person['job_title'] = 'Instructor'\n",
    "person['skills'].append('HTML')\n",
    "print(person)\n"
   ],
   "id": "63b18e708014211a",
   "outputs": [],
   "execution_count": null
  },
  {
   "metadata": {},
   "cell_type": "markdown",
   "source": [
    "\n",
    "### Modifying Items in a Dictionary\n",
    "\n",
    "We can modify items in a dictionary\n",
    "\n",
    "```py\n",
    "# syntax\n",
    "dct = {'key1':'value1', 'key2':'value2', 'key3':'value3', 'key4':'value4'}\n",
    "dct['key1'] = 'value-one'\n",
    "```\n",
    "\n",
    "**Example:**"
   ],
   "id": "ef90091bce555ac5"
  },
  {
   "metadata": {},
   "cell_type": "code",
   "outputs": [],
   "execution_count": null,
   "source": [
    "\n",
    "person = {\n",
    "    'first_name':'Abhinav',\n",
    "    'last_name':'Omanakuttan',\n",
    "    'age':20,\n",
    "    'country':'India',\n",
    "    'is_marred':False,\n",
    "    'skills':['JavaScript', 'React', 'Node', 'MongoDB', 'Python'],\n",
    "    'address':{\n",
    "        'street':'Abcd efgh',\n",
    "        'zipcode':'000'\n",
    "    }\n",
    "    }\n",
    "person['first_name'] = 'Eyob'\n",
    "person['age'] = 252\n"
   ],
   "id": "ef66681774ac4715"
  },
  {
   "metadata": {},
   "cell_type": "markdown",
   "source": [
    "\n",
    "\n",
    "### Checking Keys in a Dictionary\n",
    "\n",
    "We use the _in_ operator to check if a key exist in a dictionary"
   ],
   "id": "4b2ed31141f1a043"
  },
  {
   "metadata": {},
   "cell_type": "code",
   "outputs": [],
   "execution_count": null,
   "source": [
    "# syntax\n",
    "dct = {'key1':'value1', 'key2':'value2', 'key3':'value3', 'key4':'value4'}\n",
    "print('key2' in dct) # True\n",
    "print('key5' in dct) # False"
   ],
   "id": "d08370bd802a8c32"
  },
  {
   "metadata": {},
   "cell_type": "markdown",
   "source": [
    "\n",
    "### Removing Key and Value Pairs from a Dictionary\n",
    "\n",
    "- _pop(key)_: removes the item with the specified key name:\n",
    "- _popitem()_: removes the last item\n",
    "- _del_: removes an item with specified key name"
   ],
   "id": "7965fac9f72213c6"
  },
  {
   "metadata": {},
   "cell_type": "code",
   "outputs": [],
   "execution_count": null,
   "source": [
    "# syntax\n",
    "dct = {'key1':'value1', 'key2':'value2', 'key3':'value3', 'key4':'value4'}\n",
    "dct.pop('key1') # removes key1 item\n",
    "dct = {'key1':'value1', 'key2':'value2', 'key3':'value3', 'key4':'value4'}\n",
    "dct.popitem() # removes the last item\n",
    "del dct['key2'] # removes key2 item"
   ],
   "id": "4aa4077b867c0d9b"
  },
  {
   "metadata": {},
   "cell_type": "markdown",
   "source": [
    "\n",
    "**Example:**"
   ],
   "id": "e3c22fe52a74b33a"
  },
  {
   "metadata": {},
   "cell_type": "code",
   "outputs": [],
   "execution_count": null,
   "source": [
    "\n",
    "person = {\n",
    "    'first_name':'Asabeneh',\n",
    "    'last_name':'Yetayeh',\n",
    "    'age':250,\n",
    "    'country':'Finland',\n",
    "    'is_marred':True,\n",
    "    'skills':['JavaScript', 'React', 'Node', 'MongoDB', 'Python'],\n",
    "    'address':{\n",
    "        'street':'Space street',\n",
    "        'zipcode':'02210'\n",
    "    }\n",
    "    }\n",
    "person.pop('first_name')        # Removes the firstname item\n",
    "person.popitem()                # Removes the address item\n",
    "del person['is_married']        # Removes the is_married item\n"
   ],
   "id": "979c1006e92dc33a"
  },
  {
   "metadata": {},
   "cell_type": "markdown",
   "source": [
    "\n",
    "### Changing Dictionary to a List of Items\n",
    "\n",
    "The _items()_ method changes dictionary to a list of tuples."
   ],
   "id": "f9be651d79557c4"
  },
  {
   "metadata": {},
   "cell_type": "code",
   "outputs": [],
   "execution_count": null,
   "source": [
    "# syntax\n",
    "dct = {'key1':'value1', 'key2':'value2', 'key3':'value3', 'key4':'value4'}\n",
    "print(dct.items()) # dict_items([('key1', 'value1'), ('key2', 'value2'), ('key3', 'value3'), ('key4', 'value4')])"
   ],
   "id": "fd5e316f853b2508"
  },
  {
   "metadata": {},
   "cell_type": "markdown",
   "source": [
    "\n",
    "### Clearing a Dictionary\n",
    "\n",
    "If we don't want the items in a dictionary we can clear them using _clear()_ method"
   ],
   "id": "63c7392ac8034208"
  },
  {
   "metadata": {},
   "cell_type": "code",
   "outputs": [],
   "execution_count": null,
   "source": [
    "# syntax\n",
    "dct = {'key1':'value1', 'key2':'value2', 'key3':'value3', 'key4':'value4'}\n",
    "print(dct.clear()) # None\n"
   ],
   "id": "95ae0a7126791784"
  },
  {
   "metadata": {},
   "cell_type": "markdown",
   "source": [
    "\n",
    "### Deleting a Dictionary\n",
    "\n",
    "If we do not use the dictionary we can delete it completely"
   ],
   "id": "472123c6855847b1"
  },
  {
   "metadata": {},
   "cell_type": "code",
   "outputs": [],
   "execution_count": null,
   "source": [
    "# syntax\n",
    "dct = {'key1':'value1', 'key2':'value2', 'key3':'value3', 'key4':'value4'}\n",
    "del dct"
   ],
   "id": "2bcf019c5eaef16b"
  },
  {
   "metadata": {},
   "cell_type": "markdown",
   "source": [
    "\n",
    "### Copy a Dictionary\n",
    "\n",
    "We can copy a dictionary using a _copy()_ method. Using copy we can avoid mutation of the original dictionary."
   ],
   "id": "48effd7f1378428"
  },
  {
   "metadata": {},
   "cell_type": "code",
   "outputs": [],
   "execution_count": null,
   "source": [
    "# syntax\n",
    "dct = {'key1':'value1', 'key2':'value2', 'key3':'value3', 'key4':'value4'}\n",
    "dct_copy = dct.copy() # {'key1':'value1', 'key2':'value2', 'key3':'value3', 'key4':'value4'}"
   ],
   "id": "a040c45dc2d0c699"
  },
  {
   "metadata": {},
   "cell_type": "markdown",
   "source": [
    "\n",
    "### Getting Dictionary Keys as a List\n",
    "\n",
    "The _keys()_ method gives us all the keys of a a dictionary as a list."
   ],
   "id": "ddbc8c4919d2f194"
  },
  {
   "metadata": {},
   "cell_type": "code",
   "outputs": [],
   "execution_count": null,
   "source": [
    "# syntax\n",
    "dct = {'key1':'value1', 'key2':'value2', 'key3':'value3', 'key4':'value4'}\n",
    "keys = dct.keys()\n",
    "print(keys)     # dict_keys(['key1', 'key2', 'key3', 'key4'])\n"
   ],
   "id": "3f14f1a33b1b1792"
  },
  {
   "metadata": {},
   "cell_type": "markdown",
   "source": [
    "\n",
    "### Getting Dictionary Values as a List\n",
    "\n",
    "The _values_ method gives us all the values of a a dictionary as a list.\n"
   ],
   "id": "d86eedb12338ef50"
  },
  {
   "metadata": {},
   "cell_type": "code",
   "outputs": [],
   "execution_count": null,
   "source": [
    "\n",
    "# syntax\n",
    "dct = {'key1':'value1', 'key2':'value2', 'key3':'value3', 'key4':'value4'}\n",
    "values = dct.values()\n",
    "print(values)     # dict_values(['value1', 'value2', 'value3', 'value4'])\n"
   ],
   "id": "c47ee2bb32872c"
  }
 ],
 "metadata": {
  "kernelspec": {
   "display_name": "Python 3",
   "language": "python",
   "name": "python3"
  },
  "language_info": {
   "codemirror_mode": {
    "name": "ipython",
    "version": 2
   },
   "file_extension": ".py",
   "mimetype": "text/x-python",
   "name": "python",
   "nbconvert_exporter": "python",
   "pygments_lexer": "ipython2",
   "version": "2.7.6"
  }
 },
 "nbformat": 4,
 "nbformat_minor": 5
}
