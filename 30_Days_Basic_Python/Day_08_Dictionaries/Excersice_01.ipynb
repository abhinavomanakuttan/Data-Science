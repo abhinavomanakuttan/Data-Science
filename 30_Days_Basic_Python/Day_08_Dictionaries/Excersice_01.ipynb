{
 "cells": [
  {
   "metadata": {},
   "cell_type": "markdown",
   "source": [
    "\n",
    "## 💻 Exercises: Day 8\n",
    "\n",
    "1. Create  an empty dictionary called dog\n",
    "2. Add name, color, breed, legs, age to the dog dictionary\n",
    "3. Create a student dictionary and add first_name, last_name, gender, age, marital status, skills, country, city and address as keys for the dictionary\n",
    "4. Get the length of the student dictionary\n",
    "5. Get the value of skills and check the data type, it should be a list\n",
    "6. Modify the skills values by adding one or two skills\n",
    "7. Get the dictionary keys as a list\n",
    "8. Get the dictionary values as a list\n",
    "9. Change the dictionary to a list of tuples using _items()_ method\n",
    "10. Delete one of the items in the dictionary\n",
    "11. Delete one of the dictionaries"
   ],
   "id": "7ce006f7c5513eac"
  },
  {
   "metadata": {
    "ExecuteTime": {
     "end_time": "2024-09-23T16:15:48.414450Z",
     "start_time": "2024-09-23T16:15:48.409887Z"
    }
   },
   "cell_type": "code",
   "source": [
    "#Q1\n",
    "dog= {}\n",
    "\n",
    "# Q2\n",
    "dog['Name']= 'Jacky'\n",
    "dog['color']= 'Male'\n",
    "dog['breed']= 'Pit bull'\n",
    "dog['Age']= 2"
   ],
   "id": "ce8ec118d833d141",
   "outputs": [],
   "execution_count": 20
  },
  {
   "metadata": {
    "ExecuteTime": {
     "end_time": "2024-09-23T16:15:48.443880Z",
     "start_time": "2024-09-23T16:15:48.439465Z"
    }
   },
   "cell_type": "code",
   "source": [
    "# Q3\n",
    "student = {\n",
    "    'first_name':'Abhinav',\n",
    "    'last_name':'Omanakuttan',\n",
    "    'Gender': 'Male',\n",
    "    'age':20,\n",
    "    'country':'India',\n",
    "    'is_marred':False,\n",
    "    'skills':['C','C++', 'HTML', 'CSS', 'MySQL', 'Python'],\n",
    "    'address':{\n",
    "        'street':'abcd efgh',\n",
    "        'zipcode':'00000'\n",
    "    }\n",
    "    }"
   ],
   "id": "ddc298e0311c3ad6",
   "outputs": [],
   "execution_count": 21
  },
  {
   "metadata": {},
   "cell_type": "code",
   "source": [
    "\n",
    "# Q4\n",
    " #len of the dictionary student \n",
    "print(len(student)) # Output: 8"
   ],
   "id": "b99b0e5eeb0f5da9",
   "outputs": [],
   "execution_count": null
  },
  {
   "metadata": {},
   "cell_type": "code",
   "source": [
    "\n",
    "# Q5\n",
    "\n",
    "skills = student['skills']\n",
    "print(skills)         # Output: ['Python', 'Data Analysis']\n",
    "print(type(skills))   # Output: <class 'list'>\n"
   ],
   "id": "895c8c92b7eb8a21",
   "outputs": [],
   "execution_count": null
  },
  {
   "metadata": {},
   "cell_type": "code",
   "source": [
    "\n",
    "# Q6\n",
    "student['skills'].append('Machine Learning')\n",
    "student['skills'].append('Deep Learning')\n",
    "print(student['skills'])  # Output: ['Python', 'Data Analysis', 'Machine Learning', 'Deep Learning']"
   ],
   "id": "372849e516fb980f",
   "outputs": [],
   "execution_count": null
  },
  {
   "metadata": {},
   "cell_type": "code",
   "source": [
    "#Q7\n",
    "keys = list(student.keys())\n",
    "print(keys)"
   ],
   "id": "6645c41921187030",
   "outputs": [],
   "execution_count": null
  },
  {
   "metadata": {},
   "cell_type": "code",
   "source": [
    "\n",
    "# Q8\n",
    "values = list(student.values())\n",
    "print(values)# Output: ['John', 'Doe', 'Male', 20, 'Single', ['Python', 'Data Analysis', 'Machine Learning', 'Deep Learning'], 'USA', 'New York', '123 Main St']\n"
   ],
   "id": "8300b706ea9c38e8",
   "outputs": [],
   "execution_count": null
  },
  {
   "metadata": {},
   "cell_type": "code",
   "source": [
    "# Q9\n",
    "items = list(student.items())\n",
    "print(items)\n",
    "# Output: [('first_name', 'John'), ('last_name', 'Doe'), ('gender', 'Male'), ('age', 20), ('marital_status', 'Single'), ('skills', ['Python', 'Data Analysis', 'Machine Learning', 'Deep Learning']), ('country', 'USA'), ('city', 'New York'), ('address', '123 Main St')]\n"
   ],
   "id": "17a388210e2c6b91",
   "outputs": [],
   "execution_count": null
  },
  {
   "metadata": {},
   "cell_type": "code",
   "source": [
    "#Q10\n",
    "del student['is_marred']\n",
    "print(student)\n",
    "# Output: {'first_name': 'John', 'last_name': 'Doe', 'gender': 'Male', 'age': 20, 'skills': ['Python', 'Data Analysis', 'Machine Learning', 'Deep Learning'], 'country': 'USA', 'city': 'New York', 'address': '123 Main St'}\n"
   ],
   "id": "467115bcff27aab7",
   "outputs": [],
   "execution_count": null
  },
  {
   "metadata": {},
   "cell_type": "code",
   "source": [
    "#Q11\n",
    "del dog\n",
    "# Attempting to print 'dog' will raise a NameError as it has been deleted\n"
   ],
   "id": "1c9388b00eb1669",
   "outputs": [],
   "execution_count": null
  }
 ],
 "metadata": {
  "kernelspec": {
   "display_name": "Python 3",
   "language": "python",
   "name": "python3"
  },
  "language_info": {
   "codemirror_mode": {
    "name": "ipython",
    "version": 2
   },
   "file_extension": ".py",
   "mimetype": "text/x-python",
   "name": "python",
   "nbconvert_exporter": "python",
   "pygments_lexer": "ipython2",
   "version": "2.7.6"
  }
 },
 "nbformat": 4,
 "nbformat_minor": 5
}
