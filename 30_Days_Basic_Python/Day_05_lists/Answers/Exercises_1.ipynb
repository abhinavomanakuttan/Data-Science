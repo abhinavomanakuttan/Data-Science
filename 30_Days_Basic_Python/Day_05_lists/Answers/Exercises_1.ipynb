{
 "cells": [
  {
   "metadata": {},
   "cell_type": "markdown",
   "source": "<h2> Exercise 1 : Day 5 </h2> ",
   "id": "9967510d90181e59"
  },
  {
   "metadata": {},
   "cell_type": "markdown",
   "source": "<h3>Q1.Declare an empty list</h3>\n",
   "id": "5d9be639fa63b1f6"
  },
  {
   "metadata": {},
   "cell_type": "code",
   "source": [
    "lst =list()# An empty list \n",
    "print(lst)\n",
    "print(type(lst))#type\n",
    "print(len(lst))#length"
   ],
   "id": "bc0fa1a5f234b431",
   "outputs": [],
   "execution_count": null
  },
  {
   "metadata": {},
   "cell_type": "markdown",
   "source": "<h4>Q2.Declare a list with more than 5 items</h4>",
   "id": "b01c2af690660f8f"
  },
  {
   "metadata": {},
   "cell_type": "code",
   "outputs": [],
   "execution_count": null,
   "source": [
    "Items = ['mango','banana','apple','orange','lemon']\n",
    "print(Items)"
   ],
   "id": "f17f9519f7a527ae"
  },
  {
   "metadata": {},
   "cell_type": "markdown",
   "source": "<h4>Q3.Find the length of your list</h4>",
   "id": "7462985116b53b"
  },
  {
   "metadata": {},
   "cell_type": "code",
   "outputs": [],
   "execution_count": null,
   "source": [
    "Items = ['mango','banana','apple','orange','lemon']\n",
    "print(len(Items))"
   ],
   "id": "16d1cf93b4151a20"
  },
  {
   "metadata": {},
   "cell_type": "markdown",
   "source": "<h4>Q4.Get the first item, the middle item and the last item of the list</h4>",
   "id": "2fc29da0b858ab69"
  },
  {
   "metadata": {},
   "cell_type": "code",
   "outputs": [],
   "execution_count": null,
   "source": [
    "# Get list input from the user\n",
    "user_input = input(\"Enter the list elements separated by commas: \")\n",
    "# Convert the input string into a list by splitting the string at commas\n",
    "user_list = user_input.split(',')\n",
    "# Strip any leading/trailing spaces from each item\n",
    "user_list = [item.strip() for item in user_list]\n",
    "\n",
    "# Get the first, middle, and last elements\n",
    "first_item = user_list[0]\n",
    "middle_item = user_list[len(user_list) // 2]\n",
    "last_item = user_list[-1]\n",
    "\n",
    "# Print the results\n",
    "print(f\"First item: {first_item}\")\n",
    "print(f\"Middle item: {middle_item}\")\n",
    "print(f\"Last item: {last_item}\")"
   ],
   "id": "1563626b2d4a4f3a"
  },
  {
   "metadata": {},
   "cell_type": "markdown",
   "source": "<h5>Q4.Declare a list called mixed_data_types, put your(name, age, height, marital status, address)</h4>",
   "id": "37221325b803992c"
  },
  {
   "metadata": {
    "ExecuteTime": {
     "end_time": "2024-09-09T07:52:50.821745Z",
     "start_time": "2024-09-09T07:52:50.814241Z"
    }
   },
   "cell_type": "code",
   "source": [
    "lst = [{'name': 'Abhinav','age':20,'height':175,'weight':80},]\n",
    "print(lst)"
   ],
   "id": "bb37e5546b6a6bf6",
   "outputs": [
    {
     "name": "stdout",
     "output_type": "stream",
     "text": [
      "[{'name': 'Abhinav', 'age': 20, 'height': 175, 'weight': 80}]\n"
     ]
    }
   ],
   "execution_count": 1
  },
  {
   "metadata": {},
   "cell_type": "markdown",
   "source": [
    "<h4>Q6.Declare a list variable named it_companies and assign initial values Facebook, Google, Microsoft, Apple, IBM, Oracle and Amazon.<br><br>\n",
    "Q7.Print the list using print()</h4>"
   ],
   "id": "89a18fcd85c98c05"
  },
  {
   "metadata": {},
   "cell_type": "code",
   "source": [
    "it_companies =[ 'Facebook', 'Google', 'Microsoft', 'Apple', 'IBM', 'Oracle' ,' Amazon']\n",
    "print(it_companies)"
   ],
   "id": "28b67c37645c2676",
   "outputs": [],
   "execution_count": null
  },
  {
   "metadata": {},
   "cell_type": "markdown",
   "source": "<h4>Q8.Print the number of companies in the list</h4>",
   "id": "7582097db59ae092"
  },
  {
   "metadata": {
    "ExecuteTime": {
     "end_time": "2024-09-12T05:36:27.945193Z",
     "start_time": "2024-09-12T05:36:27.940092Z"
    }
   },
   "cell_type": "code",
   "source": [
    "it_companies =[ 'Facebook', 'Google', 'Microsoft', 'Apple', 'IBM', 'Oracle' ,' Amazon']\n",
    "# Print the number of companies in the list\n",
    "print(\"Number of companies in the list:\", len(it_companies))"
   ],
   "id": "3bc7455b00f56087",
   "outputs": [
    {
     "name": "stdout",
     "output_type": "stream",
     "text": [
      "Number of companies in the list: 7\n"
     ]
    }
   ],
   "execution_count": 3
  },
  {
   "metadata": {},
   "cell_type": "markdown",
   "source": "<h4>Q9.Print the first, middle and last company</h4>",
   "id": "24c4bee5e5449dc8"
  },
  {
   "metadata": {},
   "cell_type": "code",
   "source": [
    "it_companies = ['Facebook', 'Google', 'Microsoft', 'Apple', 'IBM', 'Oracle']\n",
    "print(f\"Companies in the list \\nFirst :{ it_companies[0] } \\nMiddle: {it_companies[len(it_companies) // 2]} \\nlast: {it_companies[-1]}\")"
   ],
   "id": "529a98de35149118",
   "outputs": [],
   "execution_count": null
  },
  {
   "metadata": {},
   "cell_type": "markdown",
   "source": "<h4>Q10.Print the list after modifying one of the companies</h4>",
   "id": "d4a8497ebe0f1ea2"
  },
  {
   "metadata": {},
   "cell_type": "code",
   "source": [
    "it_companies = ['Facebook', 'Google', 'Microsoft', 'Apple', 'IBM', 'Oracle']\n",
    "\n",
    "it_companies[1] = 'Amazon'\n",
    "# Print the modified list\n",
    "print(\"Modified list of IT companies:\", it_companies)"
   ],
   "id": "769577c910fcab04",
   "outputs": [],
   "execution_count": null
  },
  {
   "metadata": {},
   "cell_type": "markdown",
   "source": "<h4>Q11.Add an IT company to it_companies</h4>",
   "id": "6beedf14ee5dfa8c"
  },
  {
   "metadata": {},
   "cell_type": "code",
   "outputs": [],
   "execution_count": null,
   "source": [
    "it_companies = ['Facebook', 'Google', 'Microsoft', 'Apple', 'IBM', 'Oracle']\n",
    "it_companies[1] = \"IT\"\n",
    "print(\"Modified list of IT companies:\", it_companies)"
   ],
   "id": "44b402e776ff85f8"
  },
  {
   "metadata": {},
   "cell_type": "markdown",
   "source": "<h4>Q12.Insert an IT company in the middle of the companies list</h4>",
   "id": "7539a0715b9b9455"
  },
  {
   "metadata": {},
   "cell_type": "code",
   "source": [
    "# List of IT companies\n",
    "it_companies = ['Facebook', 'Google', 'Microsoft', 'Apple', 'IBM', 'Oracle']\n",
    "\n",
    "# Calculate the middle index\n",
    "middle_index = len(it_companies) // 2\n",
    "\n",
    "# Insert a new company in the middle, for example, 'Netflix'\n",
    "it_companies.insert(middle_index, 'Netflix')\n",
    "\n",
    "# Print the modified list\n",
    "print(\"List after inserting a company in the middle:\", it_companies)\n"
   ],
   "id": "ded139cfe1817a0f",
   "outputs": [],
   "execution_count": null
  },
  {
   "metadata": {},
   "cell_type": "markdown",
   "source": "<h4>Q13.Change one of the it_companies names to uppercase (IBM excluded!)</h4>",
   "id": "c1a71dadcb52f56d"
  },
  {
   "metadata": {},
   "cell_type": "code",
   "source": [
    "# List of IT companies\n",
    "it_companies = ['Facebook', 'Google', 'Microsoft', 'Apple', 'IBM', 'Oracle']\n",
    "\n",
    "# Change one of the company names to uppercase, for example, 'Google'\n",
    "it_companies[1] = it_companies[1].upper()\n",
    "\n",
    "# Print the modified list\n",
    "print(\"List after changing 'Google' to uppercase:\", it_companies)\n"
   ],
   "id": "af4f425cd9ae5ef3",
   "outputs": [],
   "execution_count": null
  },
  {
   "metadata": {},
   "cell_type": "markdown",
   "source": "<h4>Q14.Join the it_companies with a string '#;'  </h4>",
   "id": "25ccaf82870f411c"
  },
  {
   "metadata": {},
   "cell_type": "code",
   "outputs": [],
   "execution_count": null,
   "source": [
    "# List of IT companies\n",
    "it_companies = ['Facebook', 'Google', 'Microsoft', 'Apple', 'IBM', 'Oracle']\n",
    "\n",
    "# Join the companies with '#; ' as the separator\n",
    "joined_companies = '#; '.join(it_companies)\n",
    "\n",
    "# Print the resulting string\n",
    "print(\"Joined companies:\", joined_companies)"
   ],
   "id": "d787b5aca01dda14"
  },
  {
   "metadata": {},
   "cell_type": "markdown",
   "source": "<h4>Q15.Check if a certain company exists in the it_companies list.</h4>",
   "id": "d1bfe5960a1a0c23"
  },
  {
   "metadata": {},
   "cell_type": "code",
   "outputs": [],
   "execution_count": null,
   "source": [
    "# List of IT companies\n",
    "it_companies = ['Facebook', 'Google', 'Microsoft', 'Apple', 'IBM', 'Oracle']\n",
    "\n",
    "# Company to check\n",
    "company_to_check = 'Apple'\n",
    "\n",
    "# Check if the company exists in the list\n",
    "if company_to_check in it_companies:\n",
    "    print(f\"{company_to_check} exists in the list.\")\n",
    "else:\n",
    "    print(f\"{company_to_check} does not exist in the list.\")\n"
   ],
   "id": "3a5baf3a4ba29141"
  },
  {
   "metadata": {},
   "cell_type": "markdown",
   "source": "<h4>Q16.Sort the list using sort() method</h4>",
   "id": "50be80be467b63b3"
  },
  {
   "metadata": {
    "ExecuteTime": {
     "end_time": "2024-09-12T06:08:34.576630Z",
     "start_time": "2024-09-12T06:08:34.569679Z"
    }
   },
   "cell_type": "code",
   "source": [
    "it_companies=['Facebook', 'Google', 'Microsoft', 'Apple', 'IBM', 'Oracle']\n",
    "\n",
    "result = sorted(it_companies)\n",
    "print(result)"
   ],
   "id": "da953e3aea5b03",
   "outputs": [
    {
     "name": "stdout",
     "output_type": "stream",
     "text": [
      "['Apple', 'Facebook', 'Google', 'IBM', 'Microsoft', 'Oracle']\n"
     ]
    }
   ],
   "execution_count": 13
  },
  {
   "metadata": {},
   "cell_type": "markdown",
   "source": "<h4>Q17.Reverse the list in descending order using reverse() method</h4>",
   "id": "bee26dc7c188e5d9"
  },
  {
   "metadata": {},
   "cell_type": "code",
   "source": [
    "it_companies=['Facebook', 'Google', 'Microsoft', 'Apple', 'IBM', 'Oracle']\n",
    "it_companies.reverse()\n",
    "print(it_companies)"
   ],
   "id": "504c7f34ffba579e",
   "outputs": [],
   "execution_count": null
  },
  {
   "metadata": {},
   "cell_type": "markdown",
   "source": "<h4>Q18.Slice out the first 3 companies from the list</h4>",
   "id": "7e9e284ff2d3de0e"
  },
  {
   "metadata": {},
   "cell_type": "code",
   "source": [
    "# List of IT companies\n",
    "it_companies = ['Facebook', 'Google', 'Microsoft', 'Apple', 'IBM', 'Oracle']\n",
    "\n",
    "# Slice out the first 3 companies\n",
    "first_three_companies = it_companies[:3]\n",
    "\n",
    "# Print the sliced list\n",
    "print(\"First 3 companies:\", first_three_companies)"
   ],
   "id": "8bd7a9d694a90be7",
   "outputs": [],
   "execution_count": null
  },
  {
   "metadata": {},
   "cell_type": "markdown",
   "source": "<h4>Q19.Slice out the last 3 companies from the list</h4>",
   "id": "7e0ca40121dbf194"
  },
  {
   "metadata": {},
   "cell_type": "code",
   "source": [
    "it_companies =['Facebook', 'Google', 'Microsoft', 'Apple', 'IBM', 'Oracle']\n",
    "#slice put last 3 companies \n",
    "last_three_companies = it_companies[-3:]\n",
    "print(\"Last 3 companies:\", last_three_companies)"
   ],
   "id": "6670d0d12f055c49",
   "outputs": [],
   "execution_count": null
  },
  {
   "metadata": {},
   "cell_type": "markdown",
   "source": "<h4>Q20.Slice out the middle IT company or companies from the list</h4>",
   "id": "feaf8f60ef1d33ac"
  },
  {
   "metadata": {
    "ExecuteTime": {
     "end_time": "2024-09-12T09:11:17.724004Z",
     "start_time": "2024-09-12T09:11:17.714162Z"
    }
   },
   "cell_type": "code",
   "source": [
    "# List of IT companies\n",
    "it_companies = ['Facebook', 'Google', 'Microsoft', 'Apple', 'IBM', 'Oracle']\n",
    "# Calculate the length of the list\n",
    "length = len(it_companies)\n",
    "# Slice out the middle company or companies\n",
    "if length % 2 == 0:  # Even number of items\n",
    "    middle_companies = it_companies[length//2 - 1 : length//2 + 1]\n",
    "else:  # Odd number of items\n",
    "    middle_companies = it_companies[length//2]\n",
    "\n",
    "# Print the middle company or companies\n",
    "print(\"Middle company or companies:\", middle_companies)\n"
   ],
   "id": "82badbb516a10d46",
   "outputs": [
    {
     "name": "stdout",
     "output_type": "stream",
     "text": [
      "Middle company or companies: ['Microsoft', 'Apple']\n"
     ]
    }
   ],
   "execution_count": 4
  },
  {
   "metadata": {},
   "cell_type": "markdown",
   "source": "<h4>Q21.Remove the first IT company from the list</h4>",
   "id": "258ed12673f15dd"
  },
  {
   "metadata": {
    "ExecuteTime": {
     "end_time": "2024-09-12T09:16:00.969284Z",
     "start_time": "2024-09-12T09:16:00.961475Z"
    }
   },
   "cell_type": "code",
   "source": [
    "it_companies =['Facebook', 'Google', 'Microsoft', 'Apple', 'IBM', 'Oracle']\n",
    "it_companies.pop(0)\n",
    "print(it_companies)\n"
   ],
   "id": "d252ed9e4a332d78",
   "outputs": [
    {
     "name": "stdout",
     "output_type": "stream",
     "text": [
      "['Google', 'Microsoft', 'Apple', 'IBM', 'Oracle']\n"
     ]
    }
   ],
   "execution_count": 7
  },
  {
   "metadata": {},
   "cell_type": "markdown",
   "source": "<h4>Q22.Remove the middle IT company or companies from the list</h4>",
   "id": "87f39a2962d6e366"
  },
  {
   "metadata": {},
   "cell_type": "code",
   "source": [
    "it_companies =['Facebook', 'Google', 'Microsoft', 'Apple', 'IBM', 'Oracle']\n",
    "lenght = len(it_companies)\n",
    "if length %2 ==0 :\n",
    "    a = lenght // 2-1\n",
    "    b = lenght // 2+1\n",
    "    it_companies.pop(a)\n",
    "    it_companies.pop(b)\n",
    "    #print(it_companies)\n",
    "else:\n",
    "    c=lenght // 2\n",
    "    it_companies.pop(c)\n",
    "    #print(it_companies)\n",
    "    \n",
    "print(it_companies)"
   ],
   "id": "6a5b519b8b322778",
   "outputs": [],
   "execution_count": null
  },
  {
   "metadata": {},
   "cell_type": "markdown",
   "source": "<h4>OR <br> using del </h4>",
   "id": "278ad3ae33f761a3"
  },
  {
   "metadata": {},
   "cell_type": "code",
   "source": [
    "it_companies = ['Facebook', 'Google', 'Microsoft', 'Apple', 'IBM', 'Oracle']\n",
    "length = len(it_companies)\n",
    "\n",
    "if length % 2 == 0:  # Even number of items, remove two middle companies\n",
    "    del it_companies[length//2 - 1 : length//2 + 1]\n",
    "else:  # Odd number of items, remove one middle company\n",
    "    del it_companies[length//2]\n",
    "\n",
    "print( it_companies)\n"
   ],
   "id": "1962eab32d8d5d82",
   "outputs": [],
   "execution_count": null
  },
  {
   "metadata": {},
   "cell_type": "markdown",
   "source": "<h4>Q22.Remove the last IT company from the list</h4>",
   "id": "de234bc99484dd0c"
  },
  {
   "metadata": {},
   "cell_type": "code",
   "source": [
    "it_companies = ['Facebook', 'Google', 'Microsoft', 'Apple', 'IBM', 'Oracle']\n",
    "\n",
    "it_companies.pop(-1)\n",
    "print(it_companies)"
   ],
   "id": "4bc3b9e34d9d499d",
   "outputs": [],
   "execution_count": null
  },
  {
   "metadata": {},
   "cell_type": "markdown",
   "source": "<h4>Q24.Remove all IT companies from the list</h4>",
   "id": "26bac4885f3ce20d"
  },
  {
   "metadata": {},
   "cell_type": "code",
   "source": [
    "it_companies = ['Facebook', 'Google', 'Microsoft', 'Apple', 'IBM', 'Oracle']\n",
    "del it_companies[0:]\n",
    "print(it_companies)"
   ],
   "id": "c137836b5e620e3f",
   "outputs": [],
   "execution_count": null
  },
  {
   "metadata": {},
   "cell_type": "markdown",
   "source": "<h4>Q25.Destroy the IT companies list</h4>",
   "id": "d67a2fa7156d550b"
  },
  {
   "metadata": {
    "ExecuteTime": {
     "end_time": "2024-09-12T09:33:05.166839Z",
     "start_time": "2024-09-12T09:33:05.163185Z"
    }
   },
   "cell_type": "code",
   "source": [
    "# List of IT companies\n",
    "it_companies = ['Facebook', 'Google', 'Microsoft', 'Apple', 'IBM', 'Oracle']\n",
    "\n",
    "# Destroy the IT companies list\n",
    "del it_companies\n",
    "\n",
    "# Trying to print the list will raise an error since it's deleted\n",
    "try:\n",
    "    print(it_companies)\n",
    "except NameError:\n",
    "    print(\"The it_companies list has been deleted.\")\n"
   ],
   "id": "9fb54aa227bb9065",
   "outputs": [
    {
     "name": "stdout",
     "output_type": "stream",
     "text": [
      "The it_companies list has been deleted.\n"
     ]
    }
   ],
   "execution_count": 13
  },
  {
   "metadata": {},
   "cell_type": "markdown",
   "source": [
    "<h4>Join the following lists:</h4>\n",
    "\n",
    "    front_end = ['HTML', 'CSS', 'JS', 'React', 'Redux'] \n",
    "    back_end = ['Node','Express', 'MongoDB']"
   ],
   "id": "dc1708869fcd957f"
  },
  {
   "metadata": {
    "ExecuteTime": {
     "end_time": "2024-09-12T09:39:58.318763Z",
     "start_time": "2024-09-12T09:39:58.313955Z"
    }
   },
   "cell_type": "code",
   "source": [
    "front_end = ['HTML', 'CSS', 'JS', 'React', 'Redux'] \n",
    "back_end = ['Node','Express', 'MongoDB']\n",
    "\n",
    "lst = (front_end + back_end)\n",
    "print(lst)"
   ],
   "id": "e6b9890cde32e56c",
   "outputs": [
    {
     "name": "stdout",
     "output_type": "stream",
     "text": [
      "['HTML', 'CSS', 'JS', 'React', 'Redux', 'Node', 'Express', 'MongoDB']\n"
     ]
    }
   ],
   "execution_count": 15
  },
  {
   "metadata": {},
   "cell_type": "markdown",
   "source": "",
   "id": "18afa4f3436965f"
  },
  {
   "metadata": {},
   "cell_type": "markdown",
   "source": "<h4>Q.27 After joining the lists in question 26. Copy the joined list and assign it to a variable full_stack. Then insert Python and SQL after Redux.</h4>",
   "id": "595aa4e79a405202"
  },
  {
   "metadata": {},
   "cell_type": "code",
   "source": [
    "full_stack =['HTML', 'CSS', 'JS', 'React', 'Redux', 'Node', 'Express', 'MongoDB']\n",
    "index = full_stack.index('Redux')\n",
    "\n",
    "full_stack.insert(index+1 ,\"Python\")\n",
    "full_stack.insert(index+2 ,\"SQl\")\n",
    "print(full_stack)\n"
   ],
   "id": "f1461904b47327a7",
   "outputs": [],
   "execution_count": null
  }
 ],
 "metadata": {
  "kernelspec": {
   "display_name": "Python 3",
   "language": "python",
   "name": "python3"
  },
  "language_info": {
   "codemirror_mode": {
    "name": "ipython",
    "version": 2
   },
   "file_extension": ".py",
   "mimetype": "text/x-python",
   "name": "python",
   "nbconvert_exporter": "python",
   "pygments_lexer": "ipython2",
   "version": "2.7.6"
  }
 },
 "nbformat": 4,
 "nbformat_minor": 5
}
