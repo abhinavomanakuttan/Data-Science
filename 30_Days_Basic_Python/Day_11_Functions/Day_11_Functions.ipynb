{
 "cells": [
  {
   "metadata": {},
   "cell_type": "markdown",
   "source": "# 📘 Day 11",
   "id": "c60928ce0c97da1d"
  },
  {
   "metadata": {},
   "cell_type": "markdown",
   "source": [
    "\n",
    "## Functions\n",
    "\n",
    "So far we have seen many built-in Python functions. In this section, we will focus on custom functions. What is a function? Before we start making functions, let us learn what a function is and why we need them?"
   ],
   "id": "2717ca63889a217a"
  },
  {
   "metadata": {},
   "cell_type": "markdown",
   "source": [
    "\n",
    "### Defining a Function\n",
    "\n",
    "A function is a reusable block of code or programming statements designed to perform a certain task. To define or declare a function, Python provides the _def_ keyword. The following is the syntax for defining a function. The function block of code is executed only if the function is called or invoked."
   ],
   "id": "3be0d79afb1b0553"
  },
  {
   "metadata": {},
   "cell_type": "markdown",
   "source": [
    "\n",
    "### Declaring and Calling a Function\n",
    "\n",
    "When we make a function, we call it declaring a function. When we start using the it,  we call it *calling* or *invoking* a function. Function can be declared with or without parameters."
   ],
   "id": "532cdfd81ede6d0a"
  },
  {
   "metadata": {},
   "cell_type": "markdown",
   "source": [
    "\n",
    "```py\n",
    "# syntax\n",
    "# Declaring a function\n",
    "def function_name():\n",
    "    codes\n",
    "    codes\n",
    "# Calling a function\n",
    "function_name()\n",
    "```"
   ],
   "id": "b3afc2d905320640"
  },
  {
   "metadata": {},
   "cell_type": "markdown",
   "source": [
    "\n",
    "### Function without Parameters\n",
    "\n",
    "Function can be declared without parameters."
   ],
   "id": "191a2216b16fbd3f"
  },
  {
   "metadata": {},
   "cell_type": "markdown",
   "source": [
    "\n",
    "**Example:**"
   ],
   "id": "ee60b44f09bb47f7"
  },
  {
   "metadata": {},
   "cell_type": "code",
   "outputs": [],
   "execution_count": null,
   "source": [
    "def generate_full_name ():\n",
    "    first_name = 'Abhinav'\n",
    "    last_name = 'Omanakuttan'\n",
    "    space = ' '\n",
    "    full_name = first_name + space + last_name\n",
    "    print(full_name)\n",
    "generate_full_name () # calling a function\n",
    "\n",
    "def add_two_numbers ():\n",
    "    num_one = 2\n",
    "    num_two = 3\n",
    "    total = num_one + num_two\n",
    "    print(total)\n",
    "add_two_numbers()\n"
   ],
   "id": "e9c9b9d27b6f4eed"
  },
  {
   "metadata": {},
   "cell_type": "markdown",
   "source": [
    "\n",
    "### Function Returning a Value - Part 1\n",
    "\n",
    "Function can also return values, if a function does not have a return statement, the value of the function is None. Let us rewrite the above functions using return. From now on, we get a value from a function when we call the function and print it."
   ],
   "id": "d385ed20838cc87d"
  },
  {
   "metadata": {},
   "cell_type": "code",
   "outputs": [],
   "execution_count": null,
   "source": [
    "def generate_full_name ():\n",
    "    first_name = 'Abhinav'\n",
    "    last_name = 'Omanakuttan'\n",
    "    space = ' '\n",
    "    full_name = first_name + space + last_name\n",
    "    return full_name\n",
    "print(generate_full_name())\n",
    "\n",
    "def add_two_numbers ():\n",
    "    num_one = 2\n",
    "    num_two = 3\n",
    "    total = num_one + num_two\n",
    "    return total\n",
    "print(add_two_numbers())\n"
   ],
   "id": "18f570779940d5a3"
  },
  {
   "metadata": {},
   "cell_type": "markdown",
   "source": [
    "\n",
    "### Function with Parameters\n",
    "\n",
    "In a function we can pass different data types(number, string, boolean, list, tuple, dictionary or set) as a parameter\n",
    "\n",
    "- Single Parameter: If our function takes a parameter we should call our function with an argument\n",
    "\n",
    "```py\n",
    "  # syntax\n",
    "  # Declaring a function\n",
    "  def function_name(parameter):\n",
    "    codes\n",
    "    codes\n",
    "  # Calling function\n",
    "  print(function_name(argument))\n",
    "```"
   ],
   "id": "9ba55f9befd7c031"
  },
  {
   "metadata": {},
   "cell_type": "markdown",
   "source": [
    "\n",
    "**Example:**"
   ],
   "id": "b76b4097e93581dd"
  },
  {
   "metadata": {},
   "cell_type": "code",
   "outputs": [],
   "execution_count": null,
   "source": [
    "def greetings (name):\n",
    "    message = name + ', welcome to Python for Everyone!'\n",
    "    return message\n",
    "\n",
    "print(greetings('Abhinav'))\n",
    "\n",
    "def add_ten(num):\n",
    "    ten = 10\n",
    "    return num + ten\n",
    "print(add_ten(90))\n",
    "\n",
    "def square_number(x):\n",
    "    return x * x\n",
    "print(square_number(2))\n",
    "\n",
    "def area_of_circle (r):\n",
    "    PI = 3.14\n",
    "    area = PI * r ** 2\n",
    "    return area\n",
    "print(area_of_circle(10))\n",
    "\n",
    "def sum_of_numbers(n):\n",
    "    total = 0\n",
    "    for i in range(n+1):\n",
    "        total+=i\n",
    "    print(total)\n",
    "print(sum_of_numbers(10)) # 55\n",
    "print(sum_of_numbers(100)) # 5050\n"
   ],
   "id": "fb964bcd42721cf4"
  },
  {
   "metadata": {},
   "cell_type": "markdown",
   "source": [
    "\n",
    "- Two Parameter: A function may or may not have a parameter or parameters. A function may also have two or more parameters. If our function takes parameters we should call it with arguments. Let us check a function with two parameters:"
   ],
   "id": "327f4dd7d0769929"
  },
  {
   "metadata": {},
   "cell_type": "markdown",
   "source": [
    "\n",
    "```py\n",
    "  # syntax\n",
    "  # Declaring a function\n",
    "  def function_name(para1, para2):\n",
    "    codes\n",
    "    codes\n",
    "  # Calling function\n",
    "  print(function_name(arg1, arg2))\n",
    "```"
   ],
   "id": "71b5f8d4baa076a"
  },
  {
   "metadata": {},
   "cell_type": "markdown",
   "source": [
    "\n",
    "**Example:**"
   ],
   "id": "4a3634ea7babcc97"
  },
  {
   "metadata": {},
   "cell_type": "code",
   "outputs": [],
   "execution_count": null,
   "source": [
    "def generate_full_name (first_name, last_name):\n",
    "    space = ' '\n",
    "      full_name = first_name + space + last_name\n",
    "      return full_name\n",
    "print('Full Name: ', generate_full_name('Abhinav','Oamanakuttan'))\n",
    "\n",
    "def sum_two_numbers (num_one, num_two):\n",
    "    sum = num_one + num_two\n",
    "    return sum\n",
    "print('Sum of two numbers: ', sum_two_numbers(1, 9))\n",
    "\n",
    "def calculate_age (current_year, birth_year):\n",
    "    age = current_year - birth_year\n",
    "    return age;\n",
    "\n",
    "print('Age: ', calculate_age(2021, 1819))\n",
    "\n",
    "def weight_of_object (mass, gravity):\n",
    "    weight = str(mass * gravity)+ ' N' # the value has to be changed to a string first\n",
    "    return weight\n",
    "print('Weight of an object in Newtons: ', weight_of_object(100, 9.81))\n"
   ],
   "id": "9e9b7168b6a4e7ec"
  },
  {
   "metadata": {},
   "cell_type": "markdown",
   "source": [
    "\n",
    "### Passing Arguments with Key and Value\n",
    "\n",
    "If we pass the arguments with key and value, the order of the arguments does not matter.\n",
    "\n",
    "```py\n",
    "# syntax\n",
    "# Declaring a function\n",
    "def function_name(para1, para2):\n",
    "    codes\n",
    "    codes\n",
    "# Calling function\n",
    "print(function_name(para1 = 'John', para2 = 'Doe')) # the order of arguments does not matter here\n",
    "```"
   ],
   "id": "5c80bd6e9bbe9842"
  },
  {
   "metadata": {},
   "cell_type": "markdown",
   "source": [
    "\n",
    "**Example:**"
   ],
   "id": "f17d7419adf7926e"
  },
  {
   "metadata": {},
   "cell_type": "code",
   "outputs": [],
   "execution_count": null,
   "source": [
    "\n",
    "def print_fullname(firstname, lastname):\n",
    "    space = ' '\n",
    "    full_name = firstname  + space + lastname\n",
    "    print(full_name)\n",
    "print(print_fullname(firstname = 'Asabeneh', lastname = 'Yetayeh'))\n",
    "\n",
    "def add_two_numbers (num1, num2):\n",
    "    total = num1 + num2\n",
    "    print(total)\n",
    "print(add_two_numbers(num2 = 3, num1 = 2)) # Order does not matter\n"
   ],
   "id": "9d2dcd44ab30e9b"
  },
  {
   "metadata": {},
   "cell_type": "markdown",
   "source": [
    "\n",
    "### Function Returning a Value - Part 2\n",
    "\n",
    "If we do not return a value with a function, then our function is returning _None_ by default. To return a value with a function we use the keyword _return_ followed by the variable we are returning. We can return any kind of data types from a function.\n",
    "\n",
    "- Returning a string:"
   ],
   "id": "db325fb873758dd5"
  },
  {
   "metadata": {},
   "cell_type": "markdown",
   "source": "**Example:**",
   "id": "c01a64b57777fa4"
  },
  {
   "metadata": {},
   "cell_type": "code",
   "outputs": [],
   "execution_count": null,
   "source": [
    "def print_name(firstname):\n",
    "    return firstname\n",
    "print_name('Abhinav') \n",
    "\n",
    "def print_full_name(firstname, lastname):\n",
    "    space = ' '\n",
    "    full_name = firstname  + space + lastname\n",
    "    return full_name\n",
    "print_full_name(firstname='Abhinav', lastname='Omanakuttan')\n"
   ],
   "id": "d0ee7799f02e406"
  },
  {
   "metadata": {},
   "cell_type": "markdown",
   "source": "### Returning a number:",
   "id": "db43a8bc6a1423ed"
  },
  {
   "metadata": {},
   "cell_type": "markdown",
   "source": [
    "\n",
    "**Example:**"
   ],
   "id": "44f017508d76345a"
  },
  {
   "metadata": {},
   "cell_type": "code",
   "outputs": [],
   "execution_count": null,
   "source": [
    "def add_two_numbers (num1, num2):\n",
    "    total = num1 + num2\n",
    "    return total\n",
    "print(add_two_numbers(2, 3))\n",
    "\n",
    "def calculate_age (current_year, birth_year):\n",
    "    age = current_year - birth_year\n",
    "    return age;\n",
    "print('Age: ', calculate_age(2019, 1819))\n"
   ],
   "id": "f08c49b145d69a8e"
  },
  {
   "metadata": {},
   "cell_type": "markdown",
   "source": [
    "\n",
    "### Returning a boolean:"
   ],
   "id": "821d347bfacea2db"
  },
  {
   "metadata": {},
   "cell_type": "markdown",
   "source": [
    "\n",
    "  **Example:**"
   ],
   "id": "70732072dabaa0ea"
  },
  {
   "metadata": {},
   "cell_type": "code",
   "outputs": [],
   "execution_count": null,
   "source": [
    "def is_even (n):\n",
    "    if n % 2 == 0:\n",
    "        print('even')\n",
    "        return True    # return stops further execution of the function, similar to break \n",
    "    return False\n",
    "print(is_even(10)) # True\n",
    "print(is_even(7)) # False\n"
   ],
   "id": "ce659ce1b3a94ae8"
  },
  {
   "metadata": {},
   "cell_type": "markdown",
   "source": [
    "\n",
    "### Returning a list:"
   ],
   "id": "49af4ec66220ee2a"
  },
  {
   "metadata": {},
   "cell_type": "markdown",
   "source": [
    "\n",
    "  **Example:**"
   ],
   "id": "541d1e8ebf93cc9d"
  },
  {
   "metadata": {},
   "cell_type": "code",
   "outputs": [],
   "execution_count": null,
   "source": [
    "\n",
    "def find_even_numbers(n):\n",
    "    evens = []\n",
    "    for i in range(n + 1):\n",
    "        if i % 2 == 0:\n",
    "            evens.append(i)\n",
    "    return evens\n",
    "print(find_even_numbers(10))\n"
   ],
   "id": "dd9615b7820b98a2"
  },
  {
   "metadata": {},
   "cell_type": "markdown",
   "source": [
    "\n",
    "### Function with Default Parameters\n",
    "\n",
    "Sometimes we pass default values to parameters, when we invoke the function. If we do not pass arguments when calling the function, their default values will be used.\n",
    "\n",
    "```py\n",
    "# syntax\n",
    "# Declaring a function\n",
    "def function_name(param = value):\n",
    "    codes\n",
    "    codes\n",
    "# Calling function\n",
    "function_name()\n",
    "function_name(arg)\n",
    "```"
   ],
   "id": "b5bbe11d1ec5b63b"
  },
  {
   "metadata": {},
   "cell_type": "markdown",
   "source": [
    "\n",
    "**Example:**"
   ],
   "id": "342fc3601eefddc3"
  },
  {
   "metadata": {},
   "cell_type": "code",
   "outputs": [],
   "execution_count": null,
   "source": [
    "def greetings (name = 'Peter'):\n",
    "    message = name + ', welcome to Python for Everyone!'\n",
    "    return message\n",
    "print(greetings())\n",
    "print(greetings('Asabeneh'))\n",
    "\n",
    "def generate_full_name (first_name = 'Asabeneh', last_name = 'Yetayeh'):\n",
    "    space = ' '\n",
    "    full_name = first_name + space + last_name\n",
    "    return full_name\n",
    "\n",
    "print(generate_full_name())\n",
    "print(generate_full_name('David','Smith'))\n",
    "\n",
    "def calculate_age (birth_year,current_year = 2021):\n",
    "    age = current_year - birth_year\n",
    "    return age;\n",
    "print('Age: ', calculate_age(1821))\n",
    "\n",
    "def weight_of_object (mass, gravity = 9.81):\n",
    "    weight = str(mass * gravity)+ ' N' # the value has to be changed to string first\n",
    "    return weight\n",
    "print('Weight of an object in Newtons: ', weight_of_object(100)) # 9.81 - average gravity on Earth's surface\n",
    "print('Weight of an object in Newtons: ', weight_of_object(100, 1.62)) # gravity on the surface of the Moon\n"
   ],
   "id": "4d26e0f138b7ccc1"
  },
  {
   "metadata": {},
   "cell_type": "markdown",
   "source": [
    "\n",
    "### Arbitrary Number of Arguments\n",
    "\n",
    "If we do not know the number of arguments we pass to our function, we can create a function which can take arbitrary number of arguments by adding \\* before the parameter name.\n",
    "\n",
    "```py\n",
    "# syntax\n",
    "# Declaring a function\n",
    "def function_name(*args):\n",
    "    codes\n",
    "    codes\n",
    "# Calling function\n",
    "function_name(param1, param2, param3,..)\n",
    "```"
   ],
   "id": "27d440111ef0adb6"
  },
  {
   "metadata": {},
   "cell_type": "markdown",
   "source": [
    "\n",
    "**Example:**"
   ],
   "id": "4bc9a9ba3b7a22ad"
  },
  {
   "metadata": {},
   "cell_type": "code",
   "outputs": [],
   "execution_count": null,
   "source": [
    "\n",
    "def sum_all_nums(*nums):\n",
    "    total = 0\n",
    "    for num in nums:\n",
    "        total += num     # same as total = total + num \n",
    "    return total\n",
    "print(sum_all_nums(2, 3, 5)) # 10"
   ],
   "id": "74fdfe2a3f52dbac"
  },
  {
   "metadata": {},
   "cell_type": "markdown",
   "source": [
    "\n",
    "### Default and Arbitrary Number of Parameters in Functions"
   ],
   "id": "61525e49c89cc09c"
  },
  {
   "metadata": {},
   "cell_type": "code",
   "outputs": [],
   "execution_count": null,
   "source": [
    "\n",
    "def generate_groups (team,*args):\n",
    "    print(team)\n",
    "    for i in args:\n",
    "        print(i)\n",
    "print(generate_groups('Team-1','Abhinav','Brook','David','Eyob'))\n"
   ],
   "id": "fb05bf7d1785d055"
  },
  {
   "metadata": {},
   "cell_type": "markdown",
   "source": [
    "\n",
    "### Function as a Parameter of Another Function"
   ],
   "id": "a2c70259ada98ed1"
  },
  {
   "metadata": {},
   "cell_type": "code",
   "outputs": [],
   "execution_count": null,
   "source": [
    "\n",
    "#You can pass functions around as parameters\n",
    "def square_number (n):\n",
    "    return n * n\n",
    "def do_something(f, x):\n",
    "    return f(x)\n",
    "print(do_something(square_number, 3)) # 27\n"
   ],
   "id": "55bb6530fd314f6"
  }
 ],
 "metadata": {
  "kernelspec": {
   "display_name": "Python 3",
   "language": "python",
   "name": "python3"
  },
  "language_info": {
   "codemirror_mode": {
    "name": "ipython",
    "version": 2
   },
   "file_extension": ".py",
   "mimetype": "text/x-python",
   "name": "python",
   "nbconvert_exporter": "python",
   "pygments_lexer": "ipython2",
   "version": "2.7.6"
  }
 },
 "nbformat": 4,
 "nbformat_minor": 5
}
