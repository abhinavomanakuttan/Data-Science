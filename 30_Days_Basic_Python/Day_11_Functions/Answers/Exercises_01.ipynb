{
 "cells": [
  {
   "metadata": {},
   "cell_type": "markdown",
   "source": [
    "### Exercises: Level 1\n",
    "\n",
    "1. Declare a function _add_two_numbers_. It takes two parameters and it returns a sum.\n",
    "2. Area of a circle is calculated as follows: area = π x r x r. Write a function that calculates _area_of_circle_.\n",
    "3. Write a function called add_all_nums which takes arbitrary number of arguments and sums all the arguments. Check if all the list items are number types. If not do give a reasonable feedback.\n",
    "4. Temperature in °C can be converted to °F using this formula: °F = (°C x 9/5) + 32. Write a function which converts °C to °F, _convert_celsius_to-fahrenheit_.\n",
    "5. Write a function called check-season, it takes a month parameter and returns the season: Autumn, Winter, Spring or Summer.\n",
    "6. Write a function called calculate_slope which return the slope of a linear equation\n",
    "7. Quadratic equation is calculated as follows: ax² + bx + c = 0. Write a function which calculates solution set of a quadratic equation, _solve_quadratic_eqn_.\n",
    "8. Declare a function named print_list. It takes a list as a parameter and it prints out each element of the list.\n",
    "9. Declare a function named reverse_list. It takes an array as a parameter and it returns the reverse of the array (use loops)."
   ],
   "id": "632d589fe34e84b2"
  },
  {
   "metadata": {},
   "cell_type": "code",
   "source": [
    "# 1\n",
    "def sum_of_numbers(num1,num2):\n",
    "    return num1+num2\n",
    "\n",
    "num1 = int(input(\"Enter first number: \"))\n",
    "num2 = int(input(\"Enter second number: \"))\n",
    "print('Sum of 2 numbers: ',sum_of_numbers(num1,num2))\n"
   ],
   "id": "5aa36f064b79b5b4",
   "outputs": [],
   "execution_count": null
  },
  {
   "metadata": {},
   "cell_type": "code",
   "source": [
    "# 2\n",
    "import math # use to perform math {pi , root}\n",
    "def area_of_circle(radius):\n",
    "    area = math.pi * radius**2\n",
    "    print('Area of Circle: ',area) # Output: 12.566370614359172\n",
    "\n",
    "r = float(input(\"Enter radius: \")) # 2\n",
    "area_of_circle(r)"
   ],
   "id": "2de9709adb8317d0",
   "outputs": [],
   "execution_count": null
  },
  {
   "metadata": {},
   "cell_type": "code",
   "source": [
    "# 3\n",
    "def add_all_nums(*args):\n",
    "    total = 0\n",
    "    \n",
    "    # Check if all arguments are numbers (int or float)\n",
    "    for arg in args:\n",
    "        if not isinstance(arg, (int, float)):\n",
    "            return f\"Error: {arg} is not a number. Please provide only number types.\"\n",
    "    \n",
    "    # Sum all the numeric arguments\n",
    "    total = sum(args)\n",
    "    \n",
    "    return total\n",
    "\n",
    "# Example usage\n",
    "print(add_all_nums(1, 2, 3))  # Output: 6\n",
    "print(add_all_nums(1, 'two', 3))  # Output: Error: two is not a number. Please provide only number types.\n"
   ],
   "id": "730421d5f569de20",
   "outputs": [],
   "execution_count": null
  },
  {
   "metadata": {},
   "cell_type": "code",
   "source": [
    "# 4\n",
    "def  convert_celsius_to_fahrenheit(C):\n",
    "    return  (C * 9/5) + 32\n",
    "\n",
    "print(convert_celsius_to_fahrenheit(45)) # Output: 113.0"
   ],
   "id": "3ed9f419ae363e0e",
   "outputs": [],
   "execution_count": null
  },
  {
   "metadata": {},
   "cell_type": "code",
   "outputs": [],
   "execution_count": null,
   "source": [
    "# 5\n",
    "def check_season(month):\n",
    "    # Convert month to lowercase to make the function case-insensitive\n",
    "    month = month.lower()\n",
    "\n",
    "    # Check which season the month belongs to\n",
    "    if month in ['september', 'october', 'november']:\n",
    "        return \"Autumn\"\n",
    "    elif month in ['december', 'january', 'february']:\n",
    "        return \"Winter\"\n",
    "    elif month in ['march', 'april', 'may']:\n",
    "        return \"Spring\"\n",
    "    elif month in ['june', 'july', 'august']:\n",
    "        return \"Summer\"\n",
    "    else:\n",
    "        return \"Invalid month\"\n",
    "\n",
    "# Example usage\n",
    "print(check_season('April'))    # Output: Spring\n",
    "print(check_season('December')) # Output: Winter\n",
    "print(check_season('August'))   # Output: Summer\n",
    "print(check_season('XYZ'))      # Output: Invalid month"
   ],
   "id": "5215121fdb6747d"
  },
  {
   "metadata": {},
   "cell_type": "code",
   "outputs": [],
   "execution_count": null,
   "source": [
    "# 6\n",
    "def calculate_slope(x1, y1, x2, y2):\n",
    "    # Check if the line is vertical (slope would be undefined)\n",
    "    if x2 - x1 == 0:\n",
    "        return \"The slope is undefined (vertical line).\"\n",
    "    # Calculate the slope using the slope formula\n",
    "    slope = (y2 - y1) / (x2 - x1)\n",
    "    return slope\n",
    "\n",
    "print(calculate_slope(1, 2, 4, 6))  # Output: 1.3333333333333333\n",
    "print(calculate_slope(3, 5, 3, 10)) # Output: The slope is undefined (vertical line)."
   ],
   "id": "a9c21ccfefd17dfd"
  },
  {
   "metadata": {},
   "cell_type": "code",
   "source": [
    "# 7\n",
    "\n",
    "def solve_quadratic_eqn(a, b, c):\n",
    "    # Calculate the discriminant\n",
    "    discriminant = b**2 - 4*a*c\n",
    "\n",
    "    # Check the nature of the discriminant\n",
    "    if discriminant > 0:\n",
    "        # Two real and distinct roots\n",
    "        x1 = (-b + math.sqrt(discriminant)) / (2 * a)\n",
    "        x2 = (-b - math.sqrt(discriminant)) / (2 * a)\n",
    "        return f\"Two real and distinct roots: x1 = {x1}, x2 = {x2}\"\n",
    "    elif discriminant == 0:\n",
    "        # One real root\n",
    "        x = -b / (2 * a)\n",
    "        return f\"One real root: x = {x}\"\n",
    "    else:\n",
    "        # Two complex roots\n",
    "        real_part = -b / (2 * a)\n",
    "        imaginary_part = math.sqrt(abs(discriminant)) / (2 * a)\n",
    "        return f\"Two complex roots: x1 = {real_part} + {imaginary_part}i, x2 = {real_part} - {imaginary_part}i\"\n",
    "\n",
    "# Example usage\n",
    "print(solve_quadratic_eqn(1, -3, 2))  # Two real roots: x1 = 2.0, x2 = 1.0\n",
    "print(solve_quadratic_eqn(1, 2, 1))   # One real root: x = -1.0\n",
    "print(solve_quadratic_eqn(1, 1, 1))   # Two complex roots"
   ],
   "id": "889ee55880ce36fe",
   "outputs": [],
   "execution_count": null
  },
  {
   "metadata": {},
   "cell_type": "code",
   "source": [
    "# 8\n",
    "def print_list(lists):\n",
    "    # Loop through each element in the list and print it\n",
    "    for element in lists:\n",
    "        print(element,end=',')\n",
    "\n",
    "# Example usage\n",
    "fruits = ['apple', 'banana', 'mango', 'orange']\n",
    "print_list(fruits)\n"
   ],
   "id": "735ff9415f764af1",
   "outputs": [],
   "execution_count": null
  },
  {
   "metadata": {},
   "cell_type": "code",
   "source": [
    "# 9\n",
    "def reverse_list(list_items):\n",
    "    # Create an empty list to store the reversed elements\n",
    "    reversed_list = []\n",
    "    \n",
    "    # Loop through the input list in reverse order\n",
    "    for i in range(len(list_items) - 1, -1, -1):\n",
    "        reversed_list.append(list_items[i])\n",
    "    \n",
    "    return reversed_list\n",
    "\n",
    "# Example usage\n",
    "numbers = [1, 2, 3, 4, 5]\n",
    "print(reverse_list(numbers))\n"
   ],
   "id": "6b3cd8819e434c2b",
   "outputs": [],
   "execution_count": null
  }
 ],
 "metadata": {
  "kernelspec": {
   "display_name": "Python 3",
   "language": "python",
   "name": "python3"
  },
  "language_info": {
   "codemirror_mode": {
    "name": "ipython",
    "version": 2
   },
   "file_extension": ".py",
   "mimetype": "text/x-python",
   "name": "python",
   "nbconvert_exporter": "python",
   "pygments_lexer": "ipython2",
   "version": "2.7.6"
  }
 },
 "nbformat": 4,
 "nbformat_minor": 5
}
